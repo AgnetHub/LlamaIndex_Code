{
 "cells": [
  {
   "cell_type": "markdown",
   "metadata": {},
   "source": [
    "## 3.2.2 BM25 Score 구하기 코드 실습"
   ]
  },
  {
   "cell_type": "code",
   "execution_count": 10,
   "metadata": {},
   "outputs": [
    {
     "name": "stdout",
     "output_type": "stream",
     "text": [
      "Requirement already satisfied: rank_bm25 in c:\\users\\user\\appdata\\local\\programs\\python\\python310\\lib\\site-packages (0.2.2)\n",
      "Requirement already satisfied: numpy in c:\\users\\user\\appdata\\local\\programs\\python\\python310\\lib\\site-packages (from rank_bm25) (2.1.3)\n"
     ]
    },
    {
     "name": "stderr",
     "output_type": "stream",
     "text": [
      "\n",
      "[notice] A new release of pip is available: 23.0.1 -> 24.3.1\n",
      "[notice] To update, run: python.exe -m pip install --upgrade pip\n"
     ]
    },
    {
     "name": "stdout",
     "output_type": "stream",
     "text": [
      "Requirement already satisfied: pandas in c:\\users\\user\\appdata\\local\\programs\\python\\python310\\lib\\site-packages (2.2.3)\n",
      "Requirement already satisfied: numpy>=1.22.4 in c:\\users\\user\\appdata\\local\\programs\\python\\python310\\lib\\site-packages (from pandas) (2.1.3)\n",
      "Requirement already satisfied: tzdata>=2022.7 in c:\\users\\user\\appdata\\local\\programs\\python\\python310\\lib\\site-packages (from pandas) (2024.2)\n",
      "Requirement already satisfied: python-dateutil>=2.8.2 in c:\\users\\user\\appdata\\roaming\\python\\python310\\site-packages (from pandas) (2.9.0.post0)\n",
      "Requirement already satisfied: pytz>=2020.1 in c:\\users\\user\\appdata\\local\\programs\\python\\python310\\lib\\site-packages (from pandas) (2024.2)\n",
      "Requirement already satisfied: six>=1.5 in c:\\users\\user\\appdata\\roaming\\python\\python310\\site-packages (from python-dateutil>=2.8.2->pandas) (1.16.0)\n"
     ]
    },
    {
     "name": "stderr",
     "output_type": "stream",
     "text": [
      "\n",
      "[notice] A new release of pip is available: 23.0.1 -> 24.3.1\n",
      "[notice] To update, run: python.exe -m pip install --upgrade pip\n"
     ]
    }
   ],
   "source": [
    "# 설치\n",
    "!pip install rank_bm25\n",
    "!pip install pandas\n",
    "!pip install konlpy"
   ]
  },
  {
   "cell_type": "code",
   "execution_count": 11,
   "metadata": {},
   "outputs": [],
   "source": [
    "from rank_bm25 import BM25Okapi\n",
    "import pandas as pd\n",
    "import konlpy"
   ]
  },
  {
   "cell_type": "code",
   "execution_count": 12,
   "metadata": {},
   "outputs": [],
   "source": [
    "# 문서 정의\n",
    "documents = [\n",
    "    \"고양이와 강아지\", # 문서1\n",
    "    \"우리 강아지가 다른 강아지를 쫓아갔어\", # 문서2\n",
    "    \"강아지는 창밖을 봐\" # 문서3 \n",
    "]"
   ]
  },
  {
   "cell_type": "code",
   "execution_count": null,
   "metadata": {},
   "outputs": [
    {
     "name": "stdout",
     "output_type": "stream",
     "text": [
      "['고양이', '와', '강아지']\n",
      "['우리', '강아지', '가', '다른', '강아지', '를', '쫓아갔어']\n",
      "['강아지', '는', '창밖', '을', '봐']\n"
     ]
    }
   ],
   "source": [
    "\n",
    "# Okt 형태소 분석기 초기화\n",
    "okt = konlpy.tag.Okt()\n",
    "\n",
    "# 문서 내용 토큰화 함수 정의\n",
    "def tokenize_korean_text(text):\n",
    "    return okt.morphs(text) #\n",
    "\n",
    "\n",
    "for doc in documents:\n",
    "    print(tokenize_korean_text(doc))"
   ]
  },
  {
   "cell_type": "code",
   "execution_count": null,
   "metadata": {},
   "outputs": [
    {
     "name": "stdout",
     "output_type": "stream",
     "text": [
      "[['고양이', '와', '강아지'], ['우리', '강아지', '가', '다른', '강아지', '를', '쫓아갔어'], ['강아지', '는', '창밖', '을', '봐']]\n"
     ]
    }
   ],
   "source": [
    "# 각 문서를 토큰화 (단어 단위로 분할)\n",
    "tokenize_documents=[]\n",
    "for doc in documents:\n",
    "    tokenize_documents.append(tokenize_korean_text(doc))\n",
    "print(tokenize_documents)"
   ]
  },
  {
   "cell_type": "code",
   "execution_count": null,
   "metadata": {},
   "outputs": [
    {
     "name": "stdout",
     "output_type": "stream",
     "text": [
      "[['고양이', '강아지'], ['우리', '강아지', '다른', '강아지', '쫓아갔어'], ['강아지', '창밖', '봐']]\n"
     ]
    }
   ],
   "source": [
    "# particles 리스트에 있는 불용어를 제거하는 함수\n",
    "def delete_particles(torkenized_docs:list,\n",
    "                     particles:list=[\"와\", \"가\", \"를\", \"는\", \"을\"]):\n",
    "    for sentence_list in torkenized_docs:\n",
    "        for token in sentence_list:\n",
    "            if token in particles:\n",
    "                sentence_list.remove(token)\n",
    "    return torkenized_docs\n",
    "\n",
    "print(delete_particles(torkenized_docs=tokenize_documents))"
   ]
  },
  {
   "cell_type": "code",
   "execution_count": 32,
   "metadata": {},
   "outputs": [],
   "source": [
    "# BM25 객체 생성\n",
    "bm25 = BM25Okapi(tokenized_result, k1=1.5, b=0.75)"
   ]
  },
  {
   "cell_type": "code",
   "execution_count": 33,
   "metadata": {},
   "outputs": [
    {
     "data": {
      "text/plain": [
       "['봐', '고양이', '쫓아갔어', '강아지', '다른', '창밖', '우리']"
      ]
     },
     "execution_count": 33,
     "metadata": {},
     "output_type": "execute_result"
    }
   ],
   "source": [
    "# 특정 단어들에 대해 각 문서에서의 BM25 점수 확인\n",
    "terms = list(set([word for doc in tokenized_result for word in doc]))  # 문서의 모든 단어를 추출하여 고유한 단어 목록 생성\n",
    "terms"
   ]
  },
  {
   "cell_type": "code",
   "execution_count": 34,
   "metadata": {},
   "outputs": [
    {
     "data": {
      "text/plain": [
       "[array([0.        , 0.        , 0.53489594]),\n",
       " array([0.62295808, 0.        , 0.        ]),\n",
       " array([0.        , 0.41700051, 0.        ]),\n",
       " array([0.04873883, 0.04918873, 0.04184905]),\n",
       " array([0.        , 0.41700051, 0.        ]),\n",
       " array([0.        , 0.        , 0.53489594]),\n",
       " array([0.        , 0.41700051, 0.        ])]"
      ]
     },
     "execution_count": 34,
     "metadata": {},
     "output_type": "execute_result"
    }
   ],
   "source": [
    "# 각 문서에 대해 BM25 점수를 계산하여 저장\n",
    "bm25_scores=[]\n",
    "for term in terms:\n",
    "    term_scores = bm25.get_scores([term])\n",
    "    bm25_scores.append(term_scores)\n",
    "bm25_scores\n"
   ]
  },
  {
   "cell_type": "code",
   "execution_count": 35,
   "metadata": {},
   "outputs": [],
   "source": [
    "# 결과를 데이터프레임으로 변환\n",
    "bm25_df = pd.DataFrame(bm25_scores, index=terms, columns=['문서1', '문서2', '문서3'])"
   ]
  },
  {
   "cell_type": "code",
   "execution_count": 36,
   "metadata": {},
   "outputs": [
    {
     "name": "stdout",
     "output_type": "stream",
     "text": [
      "BM25 Scores Matrix:\n",
      "           문서1       문서2       문서3\n",
      "봐     0.000000  0.000000  0.534896\n",
      "고양이   0.622958  0.000000  0.000000\n",
      "쫓아갔어  0.000000  0.417001  0.000000\n",
      "강아지   0.048739  0.049189  0.041849\n",
      "다른    0.000000  0.417001  0.000000\n",
      "창밖    0.000000  0.000000  0.534896\n",
      "우리    0.000000  0.417001  0.000000\n"
     ]
    }
   ],
   "source": [
    "# 결과 출력\n",
    "print(\"BM25 Scores Matrix:\")\n",
    "print(bm25_df)"
   ]
  }
 ],
 "metadata": {
  "kernelspec": {
   "display_name": "Python 3",
   "language": "python",
   "name": "python3"
  },
  "language_info": {
   "codemirror_mode": {
    "name": "ipython",
    "version": 3
   },
   "file_extension": ".py",
   "mimetype": "text/x-python",
   "name": "python",
   "nbconvert_exporter": "python",
   "pygments_lexer": "ipython3",
   "version": "3.10.11"
  }
 },
 "nbformat": 4,
 "nbformat_minor": 2
}
