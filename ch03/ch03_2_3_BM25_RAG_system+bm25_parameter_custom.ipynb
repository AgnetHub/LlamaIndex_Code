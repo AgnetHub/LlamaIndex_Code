{
 "cells": [
  {
   "cell_type": "markdown",
   "metadata": {},
   "source": [
    "## 3.2.3 BM25를 활용 한 RAG System"
   ]
  },
  {
   "cell_type": "code",
   "execution_count": 1,
   "metadata": {},
   "outputs": [
    {
     "name": "stdout",
     "output_type": "stream",
     "text": [
      "Requirement already satisfied: llama-index-retrievers-bm25 in c:\\users\\user\\onedrive\\desktop\\project\\llamaindex_practice\\.venv\\lib\\site-packages (0.5.2)\n",
      "Requirement already satisfied: bm25s<0.3.0,>=0.2.0 in c:\\users\\user\\onedrive\\desktop\\project\\llamaindex_practice\\.venv\\lib\\site-packages (from llama-index-retrievers-bm25) (0.2.10)\n",
      "Requirement already satisfied: llama-index-core<0.13.0,>=0.12.0 in c:\\users\\user\\onedrive\\desktop\\project\\llamaindex_practice\\.venv\\lib\\site-packages (from llama-index-retrievers-bm25) (0.12.19)\n",
      "Requirement already satisfied: pystemmer<3.0.0.0,>=2.2.0.1 in c:\\users\\user\\onedrive\\desktop\\project\\llamaindex_practice\\.venv\\lib\\site-packages (from llama-index-retrievers-bm25) (2.2.0.3)\n",
      "Requirement already satisfied: scipy in c:\\users\\user\\onedrive\\desktop\\project\\llamaindex_practice\\.venv\\lib\\site-packages (from bm25s<0.3.0,>=0.2.0->llama-index-retrievers-bm25) (1.15.2)\n",
      "Requirement already satisfied: numpy in c:\\users\\user\\onedrive\\desktop\\project\\llamaindex_practice\\.venv\\lib\\site-packages (from bm25s<0.3.0,>=0.2.0->llama-index-retrievers-bm25) (1.24.0)\n",
      "Requirement already satisfied: PyYAML>=6.0.1 in c:\\users\\user\\onedrive\\desktop\\project\\llamaindex_practice\\.venv\\lib\\site-packages (from llama-index-core<0.13.0,>=0.12.0->llama-index-retrievers-bm25) (6.0.2)\n",
      "Requirement already satisfied: SQLAlchemy>=1.4.49 in c:\\users\\user\\onedrive\\desktop\\project\\llamaindex_practice\\.venv\\lib\\site-packages (from SQLAlchemy[asyncio]>=1.4.49->llama-index-core<0.13.0,>=0.12.0->llama-index-retrievers-bm25) (2.0.38)\n",
      "Requirement already satisfied: aiohttp<4.0.0,>=3.8.6 in c:\\users\\user\\onedrive\\desktop\\project\\llamaindex_practice\\.venv\\lib\\site-packages (from llama-index-core<0.13.0,>=0.12.0->llama-index-retrievers-bm25) (3.11.12)\n",
      "Requirement already satisfied: dataclasses-json in c:\\users\\user\\onedrive\\desktop\\project\\llamaindex_practice\\.venv\\lib\\site-packages (from llama-index-core<0.13.0,>=0.12.0->llama-index-retrievers-bm25) (0.6.7)\n",
      "Requirement already satisfied: deprecated>=1.2.9.3 in c:\\users\\user\\onedrive\\desktop\\project\\llamaindex_practice\\.venv\\lib\\site-packages (from llama-index-core<0.13.0,>=0.12.0->llama-index-retrievers-bm25) (1.2.18)\n",
      "Requirement already satisfied: dirtyjson<2.0.0,>=1.0.8 in c:\\users\\user\\onedrive\\desktop\\project\\llamaindex_practice\\.venv\\lib\\site-packages (from llama-index-core<0.13.0,>=0.12.0->llama-index-retrievers-bm25) (1.0.8)\n",
      "Requirement already satisfied: filetype<2.0.0,>=1.2.0 in c:\\users\\user\\onedrive\\desktop\\project\\llamaindex_practice\\.venv\\lib\\site-packages (from llama-index-core<0.13.0,>=0.12.0->llama-index-retrievers-bm25) (1.2.0)\n",
      "Requirement already satisfied: fsspec>=2023.5.0 in c:\\users\\user\\onedrive\\desktop\\project\\llamaindex_practice\\.venv\\lib\\site-packages (from llama-index-core<0.13.0,>=0.12.0->llama-index-retrievers-bm25) (2025.2.0)\n",
      "Requirement already satisfied: httpx in c:\\users\\user\\onedrive\\desktop\\project\\llamaindex_practice\\.venv\\lib\\site-packages (from llama-index-core<0.13.0,>=0.12.0->llama-index-retrievers-bm25) (0.28.1)\n",
      "Requirement already satisfied: nest-asyncio<2.0.0,>=1.5.8 in c:\\users\\user\\onedrive\\desktop\\project\\llamaindex_practice\\.venv\\lib\\site-packages (from llama-index-core<0.13.0,>=0.12.0->llama-index-retrievers-bm25) (1.6.0)\n",
      "Requirement already satisfied: networkx>=3.0 in c:\\users\\user\\onedrive\\desktop\\project\\llamaindex_practice\\.venv\\lib\\site-packages (from llama-index-core<0.13.0,>=0.12.0->llama-index-retrievers-bm25) (3.4.2)\n",
      "Requirement already satisfied: nltk>3.8.1 in c:\\users\\user\\onedrive\\desktop\\project\\llamaindex_practice\\.venv\\lib\\site-packages (from llama-index-core<0.13.0,>=0.12.0->llama-index-retrievers-bm25) (3.9.1)\n",
      "Requirement already satisfied: pillow>=9.0.0 in c:\\users\\user\\onedrive\\desktop\\project\\llamaindex_practice\\.venv\\lib\\site-packages (from llama-index-core<0.13.0,>=0.12.0->llama-index-retrievers-bm25) (10.4.0)\n",
      "Requirement already satisfied: pydantic>=2.8.0 in c:\\users\\user\\onedrive\\desktop\\project\\llamaindex_practice\\.venv\\lib\\site-packages (from llama-index-core<0.13.0,>=0.12.0->llama-index-retrievers-bm25) (2.10.6)\n",
      "Requirement already satisfied: requests>=2.31.0 in c:\\users\\user\\onedrive\\desktop\\project\\llamaindex_practice\\.venv\\lib\\site-packages (from llama-index-core<0.13.0,>=0.12.0->llama-index-retrievers-bm25) (2.32.3)\n",
      "Requirement already satisfied: tenacity!=8.4.0,<10.0.0,>=8.2.0 in c:\\users\\user\\onedrive\\desktop\\project\\llamaindex_practice\\.venv\\lib\\site-packages (from llama-index-core<0.13.0,>=0.12.0->llama-index-retrievers-bm25) (9.0.0)\n",
      "Requirement already satisfied: tiktoken>=0.3.3 in c:\\users\\user\\onedrive\\desktop\\project\\llamaindex_practice\\.venv\\lib\\site-packages (from llama-index-core<0.13.0,>=0.12.0->llama-index-retrievers-bm25) (0.9.0)\n",
      "Requirement already satisfied: tqdm<5.0.0,>=4.66.1 in c:\\users\\user\\onedrive\\desktop\\project\\llamaindex_practice\\.venv\\lib\\site-packages (from llama-index-core<0.13.0,>=0.12.0->llama-index-retrievers-bm25) (4.67.1)\n",
      "Requirement already satisfied: typing-extensions>=4.5.0 in c:\\users\\user\\onedrive\\desktop\\project\\llamaindex_practice\\.venv\\lib\\site-packages (from llama-index-core<0.13.0,>=0.12.0->llama-index-retrievers-bm25) (4.12.2)\n",
      "Requirement already satisfied: typing-inspect>=0.8.0 in c:\\users\\user\\onedrive\\desktop\\project\\llamaindex_practice\\.venv\\lib\\site-packages (from llama-index-core<0.13.0,>=0.12.0->llama-index-retrievers-bm25) (0.9.0)\n",
      "Requirement already satisfied: wrapt in c:\\users\\user\\onedrive\\desktop\\project\\llamaindex_practice\\.venv\\lib\\site-packages (from llama-index-core<0.13.0,>=0.12.0->llama-index-retrievers-bm25) (1.17.2)\n",
      "Requirement already satisfied: aiohappyeyeballs>=2.3.0 in c:\\users\\user\\onedrive\\desktop\\project\\llamaindex_practice\\.venv\\lib\\site-packages (from aiohttp<4.0.0,>=3.8.6->llama-index-core<0.13.0,>=0.12.0->llama-index-retrievers-bm25) (2.4.6)\n",
      "Requirement already satisfied: aiosignal>=1.1.2 in c:\\users\\user\\onedrive\\desktop\\project\\llamaindex_practice\\.venv\\lib\\site-packages (from aiohttp<4.0.0,>=3.8.6->llama-index-core<0.13.0,>=0.12.0->llama-index-retrievers-bm25) (1.3.2)\n",
      "Requirement already satisfied: async-timeout<6.0,>=4.0 in c:\\users\\user\\onedrive\\desktop\\project\\llamaindex_practice\\.venv\\lib\\site-packages (from aiohttp<4.0.0,>=3.8.6->llama-index-core<0.13.0,>=0.12.0->llama-index-retrievers-bm25) (5.0.1)\n",
      "Requirement already satisfied: attrs>=17.3.0 in c:\\users\\user\\onedrive\\desktop\\project\\llamaindex_practice\\.venv\\lib\\site-packages (from aiohttp<4.0.0,>=3.8.6->llama-index-core<0.13.0,>=0.12.0->llama-index-retrievers-bm25) (25.1.0)\n",
      "Requirement already satisfied: frozenlist>=1.1.1 in c:\\users\\user\\onedrive\\desktop\\project\\llamaindex_practice\\.venv\\lib\\site-packages (from aiohttp<4.0.0,>=3.8.6->llama-index-core<0.13.0,>=0.12.0->llama-index-retrievers-bm25) (1.5.0)\n",
      "Requirement already satisfied: multidict<7.0,>=4.5 in c:\\users\\user\\onedrive\\desktop\\project\\llamaindex_practice\\.venv\\lib\\site-packages (from aiohttp<4.0.0,>=3.8.6->llama-index-core<0.13.0,>=0.12.0->llama-index-retrievers-bm25) (6.1.0)\n",
      "Requirement already satisfied: propcache>=0.2.0 in c:\\users\\user\\onedrive\\desktop\\project\\llamaindex_practice\\.venv\\lib\\site-packages (from aiohttp<4.0.0,>=3.8.6->llama-index-core<0.13.0,>=0.12.0->llama-index-retrievers-bm25) (0.3.0)\n",
      "Requirement already satisfied: yarl<2.0,>=1.17.0 in c:\\users\\user\\onedrive\\desktop\\project\\llamaindex_practice\\.venv\\lib\\site-packages (from aiohttp<4.0.0,>=3.8.6->llama-index-core<0.13.0,>=0.12.0->llama-index-retrievers-bm25) (1.18.3)\n",
      "Requirement already satisfied: colorama in c:\\users\\user\\onedrive\\desktop\\project\\llamaindex_practice\\.venv\\lib\\site-packages (from tqdm<5.0.0,>=4.66.1->llama-index-core<0.13.0,>=0.12.0->llama-index-retrievers-bm25) (0.4.6)\n",
      "Requirement already satisfied: idna>=2.0 in c:\\users\\user\\onedrive\\desktop\\project\\llamaindex_practice\\.venv\\lib\\site-packages (from yarl<2.0,>=1.17.0->aiohttp<4.0.0,>=3.8.6->llama-index-core<0.13.0,>=0.12.0->llama-index-retrievers-bm25) (3.10)\n",
      "Requirement already satisfied: click in c:\\users\\user\\onedrive\\desktop\\project\\llamaindex_practice\\.venv\\lib\\site-packages (from nltk>3.8.1->llama-index-core<0.13.0,>=0.12.0->llama-index-retrievers-bm25) (8.1.8)\n",
      "Requirement already satisfied: joblib in c:\\users\\user\\onedrive\\desktop\\project\\llamaindex_practice\\.venv\\lib\\site-packages (from nltk>3.8.1->llama-index-core<0.13.0,>=0.12.0->llama-index-retrievers-bm25) (1.4.2)\n",
      "Requirement already satisfied: regex>=2021.8.3 in c:\\users\\user\\onedrive\\desktop\\project\\llamaindex_practice\\.venv\\lib\\site-packages (from nltk>3.8.1->llama-index-core<0.13.0,>=0.12.0->llama-index-retrievers-bm25) (2024.11.6)\n",
      "Requirement already satisfied: annotated-types>=0.6.0 in c:\\users\\user\\onedrive\\desktop\\project\\llamaindex_practice\\.venv\\lib\\site-packages (from pydantic>=2.8.0->llama-index-core<0.13.0,>=0.12.0->llama-index-retrievers-bm25) (0.7.0)\n",
      "Requirement already satisfied: pydantic-core==2.27.2 in c:\\users\\user\\onedrive\\desktop\\project\\llamaindex_practice\\.venv\\lib\\site-packages (from pydantic>=2.8.0->llama-index-core<0.13.0,>=0.12.0->llama-index-retrievers-bm25) (2.27.2)\n",
      "Requirement already satisfied: charset-normalizer<4,>=2 in c:\\users\\user\\onedrive\\desktop\\project\\llamaindex_practice\\.venv\\lib\\site-packages (from requests>=2.31.0->llama-index-core<0.13.0,>=0.12.0->llama-index-retrievers-bm25) (3.4.1)\n",
      "Requirement already satisfied: urllib3<3,>=1.21.1 in c:\\users\\user\\onedrive\\desktop\\project\\llamaindex_practice\\.venv\\lib\\site-packages (from requests>=2.31.0->llama-index-core<0.13.0,>=0.12.0->llama-index-retrievers-bm25) (2.3.0)\n",
      "Requirement already satisfied: certifi>=2017.4.17 in c:\\users\\user\\onedrive\\desktop\\project\\llamaindex_practice\\.venv\\lib\\site-packages (from requests>=2.31.0->llama-index-core<0.13.0,>=0.12.0->llama-index-retrievers-bm25) (2025.1.31)\n",
      "Requirement already satisfied: greenlet!=0.4.17 in c:\\users\\user\\onedrive\\desktop\\project\\llamaindex_practice\\.venv\\lib\\site-packages (from SQLAlchemy>=1.4.49->SQLAlchemy[asyncio]>=1.4.49->llama-index-core<0.13.0,>=0.12.0->llama-index-retrievers-bm25) (3.1.1)\n",
      "Requirement already satisfied: mypy-extensions>=0.3.0 in c:\\users\\user\\onedrive\\desktop\\project\\llamaindex_practice\\.venv\\lib\\site-packages (from typing-inspect>=0.8.0->llama-index-core<0.13.0,>=0.12.0->llama-index-retrievers-bm25) (1.0.0)\n",
      "Requirement already satisfied: marshmallow<4.0.0,>=3.18.0 in c:\\users\\user\\onedrive\\desktop\\project\\llamaindex_practice\\.venv\\lib\\site-packages (from dataclasses-json->llama-index-core<0.13.0,>=0.12.0->llama-index-retrievers-bm25) (3.26.1)\n",
      "Requirement already satisfied: packaging>=17.0 in c:\\users\\user\\onedrive\\desktop\\project\\llamaindex_practice\\.venv\\lib\\site-packages (from marshmallow<4.0.0,>=3.18.0->dataclasses-json->llama-index-core<0.13.0,>=0.12.0->llama-index-retrievers-bm25) (24.2)\n",
      "Requirement already satisfied: anyio in c:\\users\\user\\onedrive\\desktop\\project\\llamaindex_practice\\.venv\\lib\\site-packages (from httpx->llama-index-core<0.13.0,>=0.12.0->llama-index-retrievers-bm25) (4.8.0)\n",
      "Requirement already satisfied: httpcore==1.* in c:\\users\\user\\onedrive\\desktop\\project\\llamaindex_practice\\.venv\\lib\\site-packages (from httpx->llama-index-core<0.13.0,>=0.12.0->llama-index-retrievers-bm25) (1.0.7)\n",
      "Requirement already satisfied: h11<0.15,>=0.13 in c:\\users\\user\\onedrive\\desktop\\project\\llamaindex_practice\\.venv\\lib\\site-packages (from httpcore==1.*->httpx->llama-index-core<0.13.0,>=0.12.0->llama-index-retrievers-bm25) (0.14.0)\n",
      "Requirement already satisfied: exceptiongroup>=1.0.2 in c:\\users\\user\\onedrive\\desktop\\project\\llamaindex_practice\\.venv\\lib\\site-packages (from anyio->httpx->llama-index-core<0.13.0,>=0.12.0->llama-index-retrievers-bm25) (1.2.2)\n",
      "Requirement already satisfied: sniffio>=1.1 in c:\\users\\user\\onedrive\\desktop\\project\\llamaindex_practice\\.venv\\lib\\site-packages (from anyio->httpx->llama-index-core<0.13.0,>=0.12.0->llama-index-retrievers-bm25) (1.3.1)\n",
      "Requirement already satisfied: konlpy in c:\\users\\user\\onedrive\\desktop\\project\\llamaindex_practice\\.venv\\lib\\site-packages (0.6.0)\n",
      "Requirement already satisfied: JPype1>=0.7.0 in c:\\users\\user\\onedrive\\desktop\\project\\llamaindex_practice\\.venv\\lib\\site-packages (from konlpy) (1.5.2)\n",
      "Requirement already satisfied: lxml>=4.1.0 in c:\\users\\user\\onedrive\\desktop\\project\\llamaindex_practice\\.venv\\lib\\site-packages (from konlpy) (5.3.1)\n",
      "Requirement already satisfied: numpy>=1.6 in c:\\users\\user\\onedrive\\desktop\\project\\llamaindex_practice\\.venv\\lib\\site-packages (from konlpy) (1.24.0)\n",
      "Requirement already satisfied: packaging in c:\\users\\user\\onedrive\\desktop\\project\\llamaindex_practice\\.venv\\lib\\site-packages (from JPype1>=0.7.0->konlpy) (24.2)\n"
     ]
    }
   ],
   "source": [
    "! pip install llama-index-retrievers-bm25\n",
    "! pip install konlpy"
   ]
  },
  {
   "cell_type": "markdown",
   "metadata": {},
   "source": [
    "### 1. 데이터 준비"
   ]
  },
  {
   "cell_type": "code",
   "execution_count": 2,
   "metadata": {},
   "outputs": [
    {
     "name": "stdout",
     "output_type": "stream",
     "text": [
      "문서의 총 개수 : 83\n"
     ]
    }
   ],
   "source": [
    "### Step1. 데이터 로드\n",
    "from llama_index.core import SimpleDirectoryReader\n",
    "documents = SimpleDirectoryReader('./data').load_data()\n",
    "print(f'문서의 총 개수 : {len(documents)}')"
   ]
  },
  {
   "cell_type": "code",
   "execution_count": 2,
   "metadata": {},
   "outputs": [
    {
     "data": {
      "text/plain": [
       "['이', '책', '은', 'RAG', '시스템', '을', '구축', '하는', '방법', '에', '대해', '다룹니다', '.']"
      ]
     },
     "execution_count": 2,
     "metadata": {},
     "output_type": "execute_result"
    }
   ],
   "source": [
    "from konlpy.tag import Okt\n",
    "# Okt 형태소 분석기 초기화\n",
    "okt = Okt()\n",
    "\n",
    "# 문서 내용 토큰화 함수 정의\n",
    "def tokenize_korean_text(text):\n",
    "    return okt.morphs(text)  # 한국어 형태소 기반 토큰화\n",
    "tokenize_korean_text('이 책은 RAG 시스템을 구축하는 방법에 대해 다룹니다.')"
   ]
  },
  {
   "cell_type": "code",
   "execution_count": 8,
   "metadata": {},
   "outputs": [
    {
     "name": "stdout",
     "output_type": "stream",
     "text": [
      "노드의 개수 : 156\n"
     ]
    }
   ],
   "source": [
    "### Step 2. 청킹 및 인덱스 생성\n",
    "from llama_index.core.node_parser import SentenceSplitter, TokenTextSplitter\n",
    "splitter = SentenceSplitter(chunk_size=1024, chunk_overlap=20)\n",
    "nodes = splitter.get_nodes_from_documents(documents)\n",
    "print(f'노드의 개수 : {len(nodes)}')"
   ]
  },
  {
   "cell_type": "code",
   "execution_count": null,
   "metadata": {},
   "outputs": [
    {
     "name": "stderr",
     "output_type": "stream",
     "text": [
      "Parsing nodes:   0%|          | 0/23 [00:00<?, ?it/s]"
     ]
    },
    {
     "name": "stderr",
     "output_type": "stream",
     "text": [
      "Parsing nodes: 100%|██████████| 23/23 [00:00<00:00, 268.17it/s]\n",
      "Extracting keywords from nodes: 100%|██████████| 42/42 [00:49<00:00,  1.17s/it]\n"
     ]
    }
   ],
   "source": [
    "# BM25 기반 인덱스 생성\n",
    "from llama_index.core.indices.keyword_table import KeywordTableIndex\n",
    "index = KeywordTableIndex.from_documents(documents=documents,\n",
    "                                         text_splitter=splitter,\n",
    "                                         extract_keyword=tokenize_korean_text,\n",
    "                                         max_keywords_per_node=10, # 각 청크에서 추출 된 상위 N개 키워드 선택\n",
    "                                         max_nodes_per_query=10, # 쿼리에 대해 반환 할 노드 수를 제한\n",
    "                                         show_progress=True # 진행 상황 확인\n",
    "                                        )"
   ]
  },
  {
   "cell_type": "code",
   "execution_count": null,
   "metadata": {},
   "outputs": [],
   "source": [
    "# 인덱스 로컬 경로 저장\n",
    "index.storage_context.persist(persist_dir=\"./index/ch03_bm25_index\")"
   ]
  },
  {
   "cell_type": "code",
   "execution_count": 6,
   "metadata": {},
   "outputs": [],
   "source": [
    "### Step6-2. 저장 된 인덱스 불러오기\n",
    "from llama_index.core import StorageContext, load_index_from_storage\n",
    "storage_context = StorageContext.from_defaults(persist_dir=\"./index/ch03_bm25_index\") \n",
    "index = load_index_from_storage(storage_context)"
   ]
  },
  {
   "cell_type": "markdown",
   "metadata": {},
   "source": [
    "### 2. BM25 Retriever 객체 생성"
   ]
  },
  {
   "cell_type": "code",
   "execution_count": null,
   "metadata": {},
   "outputs": [
    {
     "name": "stderr",
     "output_type": "stream",
     "text": [
      "                                                             \r"
     ]
    }
   ],
   "source": [
    "# custom bm25\n",
    "import bm25s\n",
    "from llama_index.retrievers.bm25 import BM25Retriever\n",
    "corpus_tokens = bm25s.tokenize(\n",
    "                [node.text for node in nodes]\n",
    ")\n",
    "custom_bm25 = bm25s.BM25(k1=0.5, b=0.75) # BM25 파라미터 조정\n",
    "custom_bm25.index(corpus_tokens, show_progress=True)\n",
    "\n",
    "bm25_retriever_obj = BM25Retriever(existing_bm25=custom_bm25)"
   ]
  },
  {
   "cell_type": "code",
   "execution_count": 10,
   "metadata": {},
   "outputs": [],
   "source": [
    "bm25_retriever = bm25_retriever_obj.from_defaults(\n",
    "    index=index,          # BM25를 적용할 인덱스\n",
    "    similarity_top_k=2,   # 유사도 기반 상위 k개 결과 반환\n",
    "\n",
    ")\n",
    "# from llama_index.retrievers.bm25 import BM25Retriever\n",
    "# bm25_retriever = BM25Retriever.from_defaults(\n",
    "#     nodes=nodes,\n",
    "#     similarity_top_k=2,\n",
    "# )"
   ]
  },
  {
   "cell_type": "code",
   "execution_count": 11,
   "metadata": {},
   "outputs": [
    {
     "data": {
      "text/markdown": [
       "**Node ID:** c128600e-9d92-4cea-bd8b-7ca84241e6bb<br>**Similarity:** 2.464564323425293<br>**Text:** 국채선물의 경우 거래증거금률이 매우 낮아(3년 만기, 0.5%) \n",
       "레버리지가 매우 높으므로 헤지펀드 등 외국인들이 이런 투기적 거래를 많이 이용하고 \n",
       "있으며 국채선물가격에 미치는 영향도 상당히 크다. 한편 금리선물시장에서의 가격 움직\n",
       "임을 보고 향후 시장금리가 어떤 방향으로 움직일 것인지를 예측하기도 하는데 특히 \n",
       "미국의 페더럴펀드금리선물(federal funds futures)은 시장참가자들에게 향후 미연준이 \n",
       "통화정책을 어떤 방향으로 운용할 것인지를 가늠해 볼 수 있는 지표역할을 하기도 한다.\n",
       "금리스왑\n",
       "금리스왑(IRS; Interest Rate Swaps)이란 금리변동위험 헤지 및 차입비용 절감 등을 \n",
       "위하여 거래당사자간에 원금교환 없이 정기적(3개월)으로 변동금리(91일물 CD금리)와 \n",
       "고정금리(IRS금리)를 교환하는 거래를 말한다. 이때 고정금리를 지급하는 대신 변동금리\n",
       "를 수취하는 거래를 금리스왑 pay거래라 하며 반대로 고정금리를 수취하는 대신 변동금\n",
       "리를 지급하는 거래를 금리스왑 receive거래라 한다. 거래단위와 만기는 제한이 없지만<br>"
      ],
      "text/plain": [
       "<IPython.core.display.Markdown object>"
      ]
     },
     "metadata": {},
     "output_type": "display_data"
    },
    {
     "data": {
      "text/markdown": [
       "**Node ID:** 30fe6206-761d-4eec-8620-5e136ae6b755<br>**Similarity:** 2.0985963344573975<br>**Text:** 23\n",
       "ㄱ \n",
       "4.0%, 9개월후 4.5%가 된다. 자금 차입자 입장에서는 앞으로 시장금리가 상승할 것으로 \n",
       "예상하는 경우에는 고정금리를 이용하는 것이 유리하고 시장금리가 하락할 것으로 예상\n",
       "하는 경우에는 변동금리를 이용하는 것이 유리하다. 주요 선진국 중앙은행의 정책금리 \n",
       "인상, 양적완화 축소 등 글로벌 금융긴축으로의 전환이 우리나라에도 시장금리 상승을 \n",
       "야기하고 있는 상황에서 주택담보대출 차입자의 재무건전성을 유지하기 위해 정부가 \n",
       "고정금리대출을 장려하는 것도 이런 이유 때문이다. 일반적으로 동일 만기에서는 고정금\n",
       "리가 변동금리 보다 높은데 이는 자금 대여자(은행)에게 약정 기간중 금리 변동에 따른 \n",
       "위험 프리미엄이 존재하기 때문이다 . \n",
       " 연관검색어 : 변동금리, 양도성예금증서 (CD)\n",
       "고정금리부채권(SB)\n",
       "고정금리부채권(Straight Bond)이란 정해진 기일에 고정된 이자를 지급하고 정해진 \n",
       "만기에 원금을 지급하는 가장 일반적인 형태의 채권으로 전환사채(CB; Convertible \n",
       "Bond)의 주식전환권과 같이 특별한 조건이 없는 채권을 말한다. 회사채, 국채 등 대부분\n",
       "의 채권이 고정금리부로 발행된다. 이에 대비되는 채권으로 변동금리부채권 (FRN; \n",
       "Floating Rate Note)이 있다. 이는 정해진 기일에 특정 금리(예: 국내에서는 3개월 CD금\n",
       "리, 해외에서는 LIBOR금리)에 연동된 금리를 지급하고 정해진 만기에 원금을 지급하는 \n",
       "채권이다. 고정금리부채권에 대한 투자는 향후 금리 하락이 예상될 때 유리하며 금리 \n",
       "상승이 예상될 때에는 변동금리부채권에 투자하는 것이 유리하다. 한편 인플레이션이 \n",
       "심할 때 인플레이션을 헤지하기 위한 목적으로 발행되는 채권이 물가연동채권인데 이는 \n",
       "원금이 물가상승률(주로 CPI 사용)에 연동하여 증가한다는 면에서 변동금리부채권과 \n",
       "구별된다.<br>"
      ],
      "text/plain": [
       "<IPython.core.display.Markdown object>"
      ]
     },
     "metadata": {},
     "output_type": "display_data"
    }
   ],
   "source": [
    "from llama_index.core.response.notebook_utils import display_source_node\n",
    "# will retrieve context from specific companies\n",
    "query = '변동금리'\n",
    "retrieved_nodes = bm25_retriever.retrieve(query)\n",
    "for node in retrieved_nodes:\n",
    "    display_source_node(node, source_length=5000)"
   ]
  },
  {
   "cell_type": "markdown",
   "metadata": {},
   "source": [
    "### 3. LLM 답변 생성"
   ]
  },
  {
   "cell_type": "code",
   "execution_count": null,
   "metadata": {},
   "outputs": [],
   "source": [
    "# API KEY 설정\n",
    "from dotenv import load_dotenv\n",
    "load_dotenv()"
   ]
  },
  {
   "cell_type": "code",
   "execution_count": 13,
   "metadata": {},
   "outputs": [],
   "source": [
    "from llama_index.core import Settings\n",
    "from llama_index.llms.openai import OpenAI\n",
    "Settings.llm = OpenAI(model=\"gpt-4o\", temperature=0.5)"
   ]
  },
  {
   "cell_type": "code",
   "execution_count": 14,
   "metadata": {},
   "outputs": [
    {
     "name": "stdout",
     "output_type": "stream",
     "text": [
      "변동금리는 일정 주기별로 시장 금리를 반영하여 약정 금리가 변동하는 금리를 의미합니다. 예를 들어, 변동주기가 3개월인 경우, 약정 금리는 3개월마다 변동된 시장 금리에 따라 조정됩니다. 변동금리는 시장 금리가 하락할 것으로 예상될 때 유리하며, 이는 고정금리와 대비됩니다. 변동금리부채권은 특정 금리에 연동된 금리를 지급하며, 금리 상승이 예상될 때 투자하는 것이 유리합니다.\n"
     ]
    }
   ],
   "source": [
    "query_engine = index.as_query_engine()\n",
    "response = query_engine.query(query)\n",
    "print(response)"
   ]
  }
 ],
 "metadata": {
  "kernelspec": {
   "display_name": ".venv",
   "language": "python",
   "name": "python3"
  },
  "language_info": {
   "codemirror_mode": {
    "name": "ipython",
    "version": 3
   },
   "file_extension": ".py",
   "mimetype": "text/x-python",
   "name": "python",
   "nbconvert_exporter": "python",
   "pygments_lexer": "ipython3",
   "version": "3.10.7"
  }
 },
 "nbformat": 4,
 "nbformat_minor": 2
}
