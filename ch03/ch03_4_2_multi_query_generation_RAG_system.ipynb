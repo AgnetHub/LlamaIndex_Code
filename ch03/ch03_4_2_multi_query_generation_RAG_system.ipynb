{
 "cells": [
  {
   "cell_type": "code",
   "execution_count": 1,
   "metadata": {},
   "outputs": [
    {
     "name": "stdout",
     "output_type": "stream",
     "text": [
      "Loading llama_index.core.storage.kvstore.simple_kvstore from ./index/ch03_vector_index_storage\\docstore.json.\n",
      "Loading llama_index.core.storage.kvstore.simple_kvstore from ./index/ch03_vector_index_storage\\index_store.json.\n"
     ]
    }
   ],
   "source": [
    "### Step1-1. 기존에 저장 된 인덱스 불러오기(없을 경우 새로 생성해도 됨)\n",
    "from llama_index.core import StorageContext, load_index_from_storage\n",
    "storage_context = StorageContext.from_defaults(persist_dir=\"./index/ch03_vector_index_storage\") \n",
    "vector_index = load_index_from_storage(storage_context)"
   ]
  },
  {
   "cell_type": "code",
   "execution_count": 2,
   "metadata": {},
   "outputs": [],
   "source": [
    "###Step1-2. LLM 및 Embedding Model 설정\n",
    "## API KEY 설정\n",
    "from dotenv import load_dotenv\n",
    "load_dotenv()\n",
    "\n",
    "## 모델 설정\n",
    "from llama_index.core import Settings\n",
    "from llama_index.llms.openai import OpenAI\n",
    "Settings.llm = OpenAI(model=\"gpt-4o\", temperature=0)  # 모델명은 예시"
   ]
  },
  {
   "cell_type": "code",
   "execution_count": 3,
   "metadata": {},
   "outputs": [],
   "source": [
    "###STep2. 다중 쿼리 커스텀 클래스 생성\n",
    "from llama_index.core import QueryBundle\n",
    "from llama_index.core.indices.query.query_transform.base import DecomposeQueryTransform\n",
    "from typing import Optional, Dict, List\n",
    "from llama_index.core.prompts import PromptTemplate\n",
    "from llama_index.core.llms import LLM\n",
    "\n",
    "class MultiQueryTransform(DecomposeQueryTransform):\n",
    "    \"\"\"\n",
    "    MultiQueryTransform\n",
    "    `DecomposeQueryTransform`를 상속하여, 하나의 쿼리를 여러 개의 서브 쿼리로 분해하는 기능을 제공합니다.\n",
    "    `sub_query_num`이 몇 개인지에 따라 LLM 프롬프트를 통해 여러 개의 쿼리를 생성합니다.\n",
    "    생성된 서브 쿼리는 최종적으로 QueryBundle의 `custom_embedding_strs`에 추가됩니다.\n",
    "\n",
    "    Args:\n",
    "        sub_query_num (int): 분해될 쿼리 수\n",
    "        llm (Optional[LLM]): LLM 객체\n",
    "        verbose (bool): 중간 변환 과정을 출력할지 여부\n",
    "    \"\"\"\n",
    "\n",
    "    def __init__(\n",
    "        self,\n",
    "        sub_query_num: int,\n",
    "        llm: Optional[LLM] = None,\n",
    "        verbose: bool = False,\n",
    "    ) -> None:\n",
    "        super().__init__(llm=llm, verbose=verbose)\n",
    "        self.sub_query_num = sub_query_num\n",
    "\n",
    "        # 멀티 쿼리 프롬프트 정의\n",
    "        # {query_str}와 {sub_query_num}은 LLM에 전달될 때 실제 값으로 치환됩니다.\n",
    "        self._multi_query_prompt: PromptTemplate = PromptTemplate(\n",
    "            template=(\n",
    "                \"다음 [Original Query]와 관련 있는 쿼리를 {sub_query_num}가지로 변환시켜주세요.\\n\"\n",
    "                \"출력 포맷은 아래와 같은 형태를 지켜주세요. 변환 쿼리 앞에 #을 붙여주세요.\\n\\n\"\n",
    "                \"Original Query: {query_str}\\n\"\n",
    "                \"Sub-Queries:\\n\"\n",
    "                \"#변환된 쿼리\\n\"\n",
    "            )\n",
    "        )\n",
    "\n",
    "    def _run(self, query_bundle: QueryBundle, metadata: Dict) -> QueryBundle:\n",
    "        \"\"\"Run query transform.\"\"\"\n",
    "        # 기존 쿼리\n",
    "        query_str = query_bundle.query_str\n",
    "\n",
    "        # LLM에 전달하여 여러 개의 서브 쿼리를 생성\n",
    "        llm_output = self._llm.predict(\n",
    "            prompt=self._multi_query_prompt,\n",
    "            query_str=query_str,\n",
    "            sub_query_num=self.sub_query_num,\n",
    "        )\n",
    "\n",
    "        if self.verbose:\n",
    "            print(f\"=== Original Query ===\\n{query_str}\\n\")\n",
    "            print(f\"=== LLM Output ===\\n{llm_output}\\n\")\n",
    "\n",
    "        # 최종적으로 QueryBundle을 생성하되,\n",
    "        # original query_str를 그대로 유지하고, sub_queries를 custom_embedding_strs에 담아 반환\n",
    "        return QueryBundle(\n",
    "            query_str=query_str,  # 원본 쿼리는 그대로 유지\n",
    "            custom_embedding_strs=self._parsing_llm_output(llm_output=llm_output),  # 분해된 쿼리를 추가\n",
    "        )\n",
    "    # 쿼리 분해 결과를 파싱하는 메서드\n",
    "    def _parsing_llm_output(self, llm_output)->List[str]:\n",
    "        # LLM으로부터 받은 결과를 파싱하여 서브 쿼리만 추출\n",
    "        # 예) Sub-Queries:\n",
    "        #     #첫번째 쿼리\n",
    "        #     #두번째 쿼리\n",
    "        sub_queries = []\n",
    "        for line in llm_output.splitlines():\n",
    "            line = line.strip()\n",
    "            if line.startswith(\"#\"):\n",
    "                # '#' 기호를 제외한 문자열을 서브 쿼리로 간주\n",
    "                sub_query = line.lstrip(\"#\").strip()\n",
    "                if sub_query:\n",
    "                    sub_queries.append(sub_query)\n",
    "        if self.verbose:\n",
    "            print(f\"=== Parsed Sub-Queries ===\\n{sub_queries}\\n\")\n",
    "        return sub_queries\n",
    "        "
   ]
  },
  {
   "cell_type": "code",
   "execution_count": 6,
   "metadata": {},
   "outputs": [],
   "source": [
    "decompose = MultiQueryTransform(sub_query_num=3)\n",
    "query = \"기펜재가 뭐에요?\"\n",
    "query_bundle = decompose.run(query)"
   ]
  },
  {
   "cell_type": "code",
   "execution_count": 7,
   "metadata": {},
   "outputs": [
    {
     "name": "stdout",
     "output_type": "stream",
     "text": [
      "원본 쿼리 : 기펜재가 뭐에요?\n",
      "변환 쿼리 : ['기펜재의 정의는 무엇인가요?', '기펜재의 예시를 알려주세요.', '기펜재와 일반 재화의 차이점은 무엇인가요?']\n"
     ]
    }
   ],
   "source": [
    "print(f'원본 쿼리 : {query_bundle.query_str}')\n",
    "print(f'변환 쿼리 : {query_bundle.custom_embedding_strs}')"
   ]
  },
  {
   "cell_type": "code",
   "execution_count": 8,
   "metadata": {},
   "outputs": [],
   "source": [
    "query_engine = vector_index.as_query_engine()"
   ]
  },
  {
   "cell_type": "code",
   "execution_count": 9,
   "metadata": {},
   "outputs": [],
   "source": [
    "from llama_index.core.query_engine import TransformQueryEngine\n",
    "multi_query_engine = TransformQueryEngine(query_engine=query_engine,\n",
    "                                         query_transform=decompose)"
   ]
  },
  {
   "cell_type": "code",
   "execution_count": 10,
   "metadata": {},
   "outputs": [
    {
     "data": {
      "text/plain": [
       "QueryBundle(query_str='기펜재가 뭐에요?', image_path=None, custom_embedding_strs=['기펜재의 정의는 무엇인가요?', '기펜재의 예시를 알려주세요.', '기펜재와 일반 재화의 차이점은 무엇인가요?'], embedding=None)"
      ]
     },
     "execution_count": 10,
     "metadata": {},
     "output_type": "execute_result"
    }
   ],
   "source": [
    "query_bundle"
   ]
  },
  {
   "cell_type": "code",
   "execution_count": 11,
   "metadata": {},
   "outputs": [],
   "source": [
    "response = multi_query_engine.query(query_bundle)"
   ]
  },
  {
   "cell_type": "code",
   "execution_count": 12,
   "metadata": {},
   "outputs": [
    {
     "name": "stdout",
     "output_type": "stream",
     "text": [
      "기펜재는 일반적인 수요의 법칙과는 반대로, 가격이 하락할 때 오히려 수요량이 감소하는 재화를 말합니다. 이는 수요의 법칙에 위배되는 현상으로, 이러한 재화를 처음 관찰한 학자의 이름을 따서 기펜재라고 부릅니다. 기펜재는 열등재의 일종으로, 소득이 증가함에 따라 수요가 감소하는 특성을 가지고 있습니다.\n"
     ]
    }
   ],
   "source": [
    "print(response)"
   ]
  },
  {
   "cell_type": "code",
   "execution_count": 13,
   "metadata": {},
   "outputs": [
    {
     "data": {
      "text/plain": [
       "[NodeWithScore(node=TextNode(id_='4a3546e8-6ba7-4d93-9fe5-31d46f42c1c9', embedding=None, metadata={'page_label': '72', 'file_name': '경제금융용어_700선_sample.pdf', 'file_path': 'c:\\\\Users\\\\USER\\\\Desktop\\\\Project\\\\llamaindex_practice\\\\data\\\\경제금융용어_700선_sample.pdf', 'file_type': 'application/pdf', 'file_size': 1358899, 'creation_date': '2025-01-01', 'last_modified_date': '2025-01-26'}, excluded_embed_metadata_keys=['file_name', 'file_type', 'file_size', 'creation_date', 'last_modified_date', 'last_accessed_date'], excluded_llm_metadata_keys=['file_name', 'file_type', 'file_size', 'creation_date', 'last_modified_date', 'last_accessed_date'], relationships={<NodeRelationship.SOURCE: '1'>: RelatedNodeInfo(node_id='0ff9e1bd-ff7d-48e0-a071-53bd986bb219', node_type='4', metadata={'page_label': '72', 'file_name': '경제금융용어_700선_sample.pdf', 'file_path': 'c:\\\\Users\\\\USER\\\\Desktop\\\\Project\\\\llamaindex_practice\\\\data\\\\경제금융용어_700선_sample.pdf', 'file_type': 'application/pdf', 'file_size': 1358899, 'creation_date': '2025-01-01', 'last_modified_date': '2025-01-26'}, hash='8390821c967797db6f3f85abfee5f3cfb3d7d1d7af5ec1ad38579a0a8765c267'), <NodeRelationship.PREVIOUS: '2'>: RelatedNodeInfo(node_id='8d2a04e2-a54a-43bf-b9a6-6edb049d71a9', node_type='1', metadata={'page_label': '72', 'file_name': '경제금융용어_700선_sample.pdf', 'file_path': 'c:\\\\Users\\\\USER\\\\Desktop\\\\Project\\\\llamaindex_practice\\\\data\\\\경제금융용어_700선_sample.pdf', 'file_type': 'application/pdf', 'file_size': 1358899, 'creation_date': '2025-01-01', 'last_modified_date': '2025-01-26'}, hash='cd90ea561da2cbebd693b91b233b114f36c94f0050c26b698a492b7e642af3fc')}, metadata_template='{key}: {value}', metadata_separator='\\n', text='기펜재\\n일반적으로 재화는 수요의 법칙에 따라 가격이 하락하면 수요량이 늘어난다. 그러나 \\n예외적으로 재화의 가격이 하락할 때 수요량이 감소하는 현상을 관찰할 수 있다. 이렇게 \\n가격이 하락할 경우 수요의 법칙에 위배되는 재화를 이를 처음 관찰한 학자의 이름을 \\n따서 기펜재라고 부른다. 기펜재는 열등재의 일종이다. 즉 소득이 증가함에 따라 수요가 \\n감소하는 재화를 열등재라 하는데, 열등재 중에서도 열등성이 매우 커서 소득효과가', mimetype='text/plain', start_char_idx=787, end_char_idx=1026, metadata_seperator='\\n', text_template='{metadata_str}\\n\\n{content}'), score=0.84570809837875),\n",
       " NodeWithScore(node=TextNode(id_='8d2a04e2-a54a-43bf-b9a6-6edb049d71a9', embedding=None, metadata={'page_label': '72', 'file_name': '경제금융용어_700선_sample.pdf', 'file_path': 'c:\\\\Users\\\\USER\\\\Desktop\\\\Project\\\\llamaindex_practice\\\\data\\\\경제금융용어_700선_sample.pdf', 'file_type': 'application/pdf', 'file_size': 1358899, 'creation_date': '2025-01-01', 'last_modified_date': '2025-01-26'}, excluded_embed_metadata_keys=['file_name', 'file_type', 'file_size', 'creation_date', 'last_modified_date', 'last_accessed_date'], excluded_llm_metadata_keys=['file_name', 'file_type', 'file_size', 'creation_date', 'last_modified_date', 'last_accessed_date'], relationships={<NodeRelationship.SOURCE: '1'>: RelatedNodeInfo(node_id='0ff9e1bd-ff7d-48e0-a071-53bd986bb219', node_type='4', metadata={'page_label': '72', 'file_name': '경제금융용어_700선_sample.pdf', 'file_path': 'c:\\\\Users\\\\USER\\\\Desktop\\\\Project\\\\llamaindex_practice\\\\data\\\\경제금융용어_700선_sample.pdf', 'file_type': 'application/pdf', 'file_size': 1358899, 'creation_date': '2025-01-01', 'last_modified_date': '2025-01-26'}, hash='8390821c967797db6f3f85abfee5f3cfb3d7d1d7af5ec1ad38579a0a8765c267'), <NodeRelationship.NEXT: '3'>: RelatedNodeInfo(node_id='4a3546e8-6ba7-4d93-9fe5-31d46f42c1c9', node_type='1', metadata={}, hash='dd4ccdaeb583e129dfc27031db3381f23b5249693bed87c2b0ccf889d5384b42')}, metadata_template='{key}: {value}', metadata_separator='\\n', text='72\\n경제금융용어 700선\\n기축통화\\n기축통화란 여러 국가의 암묵적인 동의하에 국제거래에서 중심적인 역할을 하는 \\n통화를 지칭한다. 구체적으로는 ① 국제무역결제에 사용되는 통화 ② 환율 평가 시의 \\n지표가 되는 통화 ③ 대외준비자산으로 보유되는 통화 등의 의미를 포함한다. 그러므로 \\n어떤 나라의 통화가 기축통화가 되기 위해서는 세계적으로 원활히 유통될 수 있도록 \\n유동성이 풍부하여야 하고 거래당사자들이 믿고 사용할 수 있도록 신뢰성을 갖추어야 \\n하며, 국제적으로 경제력은 물론 정치력･군사력까지 인정받는 국가의 통화여야 한다. \\n20세기 초반까지는 세계 금융경제의 중심이었던 영국의 파운드화가 기축통화로서 국제\\n거래에 주로 이용되었으며, 2차 세계대전 이후에는 전 세계 외환거래 및 외환보유액의 \\n상당 부분을 차지하는 미국 달러화가 기축통화로 인정받고 있다. 한편, 현재 국제거래에\\n서 비교적 자주 사용되는 통화로는 미국 달러화이외에도 유로화, 영국 파운드화, 일본 \\n엔화, 스위스 프랑화 등이 있는데 이들은 흔히 교환성통화라 한다 . \\n 연관검색어 : 교환성 통화\\n기타기본자본(Additional Tier 1)\\n기타기본자본(AT1; Additional Tier 1)은 요건을 충족하는 기타기본자본증권 및 이와 \\n관련된 자본잉여금, 자회사가 발행한 기타기본자본증권의 제3자 보유분 중 일부 금액 \\n등으로 구성된다. 기타기본자본증권으로 인정받기 위해서는 예금자, 일반채권자 및 \\n후순위채권보다 후순위, 영구적, 배당 및 이자지급의 임의성, 중도상환 유인이 없을 \\n것 등 총 14개 요건을 충족해야 한다 .\\n기펜재\\n일반적으로 재화는 수요의 법칙에 따라 가격이 하락하면 수요량이 늘어난다. 그러나 \\n예외적으로 재화의 가격이 하락할 때 수요량이 감소하는 현상을 관찰할 수 있다. 이렇게 \\n가격이 하락할 경우 수요의 법칙에 위배되는 재화를 이를 처음 관찰한 학자의 이름을 \\n따서 기펜재라고 부른다. 기펜재는 열등재의 일종이다.', mimetype='text/plain', start_char_idx=0, end_char_idx=962, metadata_seperator='\\n', text_template='{metadata_str}\\n\\n{content}'), score=0.8301379085759443)]"
      ]
     },
     "execution_count": 13,
     "metadata": {},
     "output_type": "execute_result"
    }
   ],
   "source": [
    "response.source_nodes"
   ]
  }
 ],
 "metadata": {
  "kernelspec": {
   "display_name": ".venv",
   "language": "python",
   "name": "python3"
  },
  "language_info": {
   "codemirror_mode": {
    "name": "ipython",
    "version": 3
   },
   "file_extension": ".py",
   "mimetype": "text/x-python",
   "name": "python",
   "nbconvert_exporter": "python",
   "pygments_lexer": "ipython3",
   "version": "3.10.7"
  }
 },
 "nbformat": 4,
 "nbformat_minor": 2
}
