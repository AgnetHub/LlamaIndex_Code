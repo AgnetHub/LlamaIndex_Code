{
 "cells": [
  {
   "cell_type": "code",
   "execution_count": null,
   "metadata": {},
   "outputs": [],
   "source": [
    "! pip install llama-parse"
   ]
  },
  {
   "cell_type": "markdown",
   "metadata": {},
   "source": [
    "### 1. LLalmaParser 사용하기"
   ]
  },
  {
   "cell_type": "code",
   "execution_count": 1,
   "metadata": {},
   "outputs": [
    {
     "data": {
      "text/plain": [
       "True"
      ]
     },
     "execution_count": 1,
     "metadata": {},
     "output_type": "execute_result"
    }
   ],
   "source": [
    "from llama_parse import LlamaParse\n",
    "from llama_index.core import SimpleDirectoryReader\n",
    "from dotenv import load_dotenv # 환경 변수 설정\n",
    "load_dotenv()"
   ]
  },
  {
   "cell_type": "code",
   "execution_count": 2,
   "metadata": {},
   "outputs": [],
   "source": [
    "# 비동기 처리 문제 해결\n",
    "import nest_asyncio\n",
    "nest_asyncio.apply()"
   ]
  },
  {
   "cell_type": "code",
   "execution_count": 3,
   "metadata": {},
   "outputs": [
    {
     "name": "stdout",
     "output_type": "stream",
     "text": [
      "Started parsing the file under job_id 2ae7d35e-6635-4afc-9028-2c13082a8fe8\n",
      "....."
     ]
    }
   ],
   "source": [
    "# LlamaParse 파서 설정 (\"markdown\"과 \"text\" 형식 중 선택 가능)\n",
    "parser = LlamaParse(result_type=\"markdown\")\n",
    "\n",
    "# SimpleDirectoryReader를 사용하여 파일 파싱\n",
    "file_extractor = {\".pdf\": parser}  # PDF 파일을 LlamaParse로 처리하도록 설정\n",
    "documents = SimpleDirectoryReader(\n",
    "    input_files=[\"./data/240510_카카오_AI투자,눈에 밟히는 비용_유진투자증권.pdf\"], file_extractor=file_extractor\n",
    ").load_data()\n"
   ]
  },
  {
   "cell_type": "code",
   "execution_count": 4,
   "metadata": {},
   "outputs": [
    {
     "name": "stdout",
     "output_type": "stream",
     "text": [
      "Doc ID: d8641b6b-ed13-4d29-9236-8ebdb8046982\n",
      "Text: # Korea| 인터넷 | 2024.05.10  # 카카오  # 투자의견  BUY(유지)  # (035720)\n",
      "목표주가  73,000 원(유지)  # 현재주가  48,600 원(05/09)  # 시가총액  21,639(십억원)  #\n",
      "인터넷/게임/우주 정의훈_ 02)368-6170_uihoon0607@eugenefn.com  - 1분기 매출액 1조\n",
      "9,884억원(+22.5%yoy), 영업이익 1,203억원(+92.2%yoy), 컨센서스(1,271억원) 소폭 하회 - 톡비즈\n",
      "광고 매출은 메시지 비즈니스와 비즈보드에서 모두 두 자릿수 성장률 기록하며 성장. 중국 이커머스 플랫폼의 국내 마케팅 확장\n",
      "또한 동사 광고 성장에...\n"
     ]
    }
   ],
   "source": [
    "print(documents[0])"
   ]
  },
  {
   "cell_type": "code",
   "execution_count": 5,
   "metadata": {},
   "outputs": [],
   "source": [
    "file_name = \"parse_kakao_doc1.md\"\n",
    "with open(file_name, 'w', encoding='utf-8') as file:\n",
    "    for n, doc in enumerate(documents, start=1):\n",
    "        file.write(f'#####{n} page 요약\\n')\n",
    "        file.write(doc.text+'\\n')"
   ]
  },
  {
   "cell_type": "code",
   "execution_count": 13,
   "metadata": {},
   "outputs": [
    {
     "name": "stdout",
     "output_type": "stream",
     "text": [
      "WARNING: parsing_instruction is deprecated. Use complemental_formatting_instruction or content_guideline_instruction instead.\n",
      "Started parsing the file under job_id af7f4731-0cf3-4d0c-8d7c-d907df7b87db\n",
      "."
     ]
    }
   ],
   "source": [
    "\n",
    "'''\n",
    "document 생성시 instruction promprt 사용하기\n",
    "'''\n",
    "documents_with_instruction = LlamaParse(\n",
    "    result_type='markdown',\n",
    "    parsing_instruction=\"\"\"\n",
    "    전체 내용을 투자자 관점에서 간결하게 설명해주시기 바랍니다.\n",
    "    문서 안에 표가 포함 된 경우 수치를 포함해 요약해주세요.\n",
    "    \"\"\"\n",
    ").load_data(\"./data/240510_카카오_AI투자,눈에 밟히는 비용_유진투자증권.pdf\")"
   ]
  },
  {
   "cell_type": "code",
   "execution_count": 14,
   "metadata": {},
   "outputs": [],
   "source": [
    "file_name = \"parse_kakao_doc2.md\"\n",
    "with open(file_name, 'w', encoding='utf-8') as file:\n",
    "    for n, doc in enumerate(documents_with_instruction, start=1):\n",
    "        file.write(f'#####{n} page 요약\\n')\n",
    "        file.write(doc.text+'\\n')\n",
    "        "
   ]
  },
  {
   "cell_type": "markdown",
   "metadata": {},
   "source": [
    "### 2. LlamaParser를 활용한 RAG 시스템 구축"
   ]
  },
  {
   "cell_type": "code",
   "execution_count": 27,
   "metadata": {},
   "outputs": [],
   "source": [
    "# OpenAI GPT-4 모델을 사용하도록 설정\n",
    "from llama_index.llms.openai import OpenAI\n",
    "llm = OpenAI(model=\"gpt-4o\", max_tokens=1000)"
   ]
  },
  {
   "cell_type": "code",
   "execution_count": null,
   "metadata": {},
   "outputs": [],
   "source": [
    "from llama_index.core import VectorStoreIndex\n",
    "index = VectorStoreIndex.from_documents(documents=documents_with_instruction,\n",
    "                                        llm=llm)\n",
    "index.storage_context.persist(persist_dir=\"./index/ch05_2_llamaparser_vector_index_storage\") # index 저장"
   ]
  },
  {
   "cell_type": "code",
   "execution_count": 28,
   "metadata": {},
   "outputs": [],
   "source": [
    "### 저장 된 인덱스 불러오기\n",
    "from llama_index.core import StorageContext, load_index_from_storage\n",
    "storage_context = StorageContext.from_defaults(persist_dir=\"./index/ch05_2_llamaparser_vector_index_storage\") \n",
    "index = load_index_from_storage(storage_context) # 밀집 검색 인덱스 로드"
   ]
  },
  {
   "cell_type": "code",
   "execution_count": 39,
   "metadata": {},
   "outputs": [],
   "source": [
    "dense_retriever = index.as_retriever(\n",
    "        similarity_top_k = 3,\n",
    ")\n"
   ]
  },
  {
   "cell_type": "code",
   "execution_count": 40,
   "metadata": {},
   "outputs": [],
   "source": [
    "retrieval_results = dense_retriever.retrieve(\"카카오 2024년 실적 요약\")"
   ]
  },
  {
   "cell_type": "code",
   "execution_count": 43,
   "metadata": {},
   "outputs": [
    {
     "data": {
      "text/markdown": [
       "**Node ID:** 642ae671-75c3-4521-a5f1-ef8cbdf06736<br>**Similarity:** 0.8831013999784525<br>**Text:** 카카오는 2024년 1분기 실적에서 매출 1조 9,884억 원(+22.5% yoy)과 영업이익 1,203억 원(+92.2% yoy)을 기록했으나, 영업이익은 시장 예상치인 1,271억 원과 당사 추정치 1,301억 원을 소폭 하회했습니다.\n",
       "\n",
       "주요 성장 요인은 톡비즈 광고와 페이 부문으로, 특히 금융과 커머스 업종의 광고 활성화가 긍정적인 영향을 미쳤습...<br>"
      ],
      "text/plain": [
       "<IPython.core.display.Markdown object>"
      ]
     },
     "metadata": {},
     "output_type": "display_data"
    },
    {
     "data": {
      "text/markdown": [
       "**Node ID:** 9b9ef1df-b70c-4e3f-a0a6-c80e64bfa699<br>**Similarity:** 0.8611001950555083<br>**Text:** ### 카카오 실적 요약\n",
       "\n",
       "#### 1. 분기 실적 (2023년 1Q - 2024년 4Q 예상)\n",
       "- **매출액**:\n",
       "- 2023년: 7,557억 원\n",
       "- 2024년 예상: 8,443억 원\n",
       "- 연평균 성장률: 11.1% (2023), 11.7% (2024)\n",
       "\n",
       "- **영업이익**:\n",
       "- 2023년: 460.9억 원\n",
       "- 2024년 예상: 581.8억 원\n",
       "- 영...<br>"
      ],
      "text/plain": [
       "<IPython.core.display.Markdown object>"
      ]
     },
     "metadata": {},
     "output_type": "display_data"
    },
    {
     "data": {
      "text/markdown": [
       "**Node ID:** 580cb1d7-8fa6-49c3-b67e-798305fbe0e6<br>**Similarity:** 0.8376004129186496<br>**Text:** ### 카카오 투자 요약\n",
       "\n",
       "- **투자의견**: BUY (유지)\n",
       "- **목표주가**: 73,000 원 (유지)\n",
       "- **현재주가**: 48,600 원 (2024.05.09)\n",
       "- **시가총액**: 21,639 억원\n",
       "\n",
       "#### 1분기 실적\n",
       "- **매출액**: 1조 9,884억원 (+22.5% YoY)\n",
       "- **영업이익**: 1,203억원 (+92.2% YoY...<br>"
      ],
      "text/plain": [
       "<IPython.core.display.Markdown object>"
      ]
     },
     "metadata": {},
     "output_type": "display_data"
    }
   ],
   "source": [
    "from llama_index.core.response.notebook_utils import display_source_node\n",
    "for res_node in retrieval_results:\n",
    "    display_source_node(res_node, source_length=200)"
   ]
  },
  {
   "cell_type": "code",
   "execution_count": 44,
   "metadata": {},
   "outputs": [],
   "source": [
    "query_engine = index.as_query_engine()"
   ]
  },
  {
   "cell_type": "code",
   "execution_count": 45,
   "metadata": {},
   "outputs": [],
   "source": [
    "response = query_engine.query(\"카카오 2024년 실적 요약\")"
   ]
  },
  {
   "cell_type": "code",
   "execution_count": 46,
   "metadata": {},
   "outputs": [
    {
     "name": "stdout",
     "output_type": "stream",
     "text": [
      "카카오의 2024년 실적 요약은 다음과 같습니다:\n",
      "- 매출액: 8,443억 원\n",
      "- 영업이익: 581.8억 원\n",
      "- 당기순이익: 448.5억 원\n",
      "- EPS: 1,008원\n",
      "- PER: 48.2배\n"
     ]
    }
   ],
   "source": [
    "print(response)"
   ]
  }
 ],
 "metadata": {
  "kernelspec": {
   "display_name": ".venv",
   "language": "python",
   "name": "python3"
  },
  "language_info": {
   "codemirror_mode": {
    "name": "ipython",
    "version": 3
   },
   "file_extension": ".py",
   "mimetype": "text/x-python",
   "name": "python",
   "nbconvert_exporter": "python",
   "pygments_lexer": "ipython3",
   "version": "3.10.7"
  }
 },
 "nbformat": 4,
 "nbformat_minor": 2
}
