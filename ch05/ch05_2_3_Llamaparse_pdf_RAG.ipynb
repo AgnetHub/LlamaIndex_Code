{
 "cells": [
  {
   "cell_type": "code",
   "execution_count": null,
   "metadata": {},
   "outputs": [],
   "source": [
    "! pip install llama-parse"
   ]
  },
  {
   "cell_type": "markdown",
   "metadata": {},
   "source": [
    "### 1. LLalmaParser 사용하기"
   ]
  },
  {
   "cell_type": "code",
   "execution_count": null,
   "metadata": {},
   "outputs": [
    {
     "data": {
      "text/plain": [
       "True"
      ]
     },
     "execution_count": 1,
     "metadata": {},
     "output_type": "execute_result"
    }
   ],
   "source": [
    "# 필요 모듈 import 및 env 설정\n",
    "from llama_parse import LlamaParse\n",
    "from llama_index.core import SimpleDirectoryReader\n",
    "from dotenv import load_dotenv\n",
    "load_dotenv()"
   ]
  },
  {
   "cell_type": "code",
   "execution_count": 2,
   "metadata": {},
   "outputs": [],
   "source": [
    "# 비동기 처리 문제 해결\n",
    "import nest_asyncio\n",
    "nest_asyncio.apply()"
   ]
  },
  {
   "cell_type": "code",
   "execution_count": 3,
   "metadata": {},
   "outputs": [
    {
     "name": "stderr",
     "output_type": "stream",
     "text": [
      "2025-09-23 20:43:07,178 - INFO - HTTP Request: POST https://api.cloud.llamaindex.ai/api/parsing/upload \"HTTP/1.1 200 OK\"\n"
     ]
    },
    {
     "name": "stdout",
     "output_type": "stream",
     "text": [
      "Started parsing the file under job_id e6cfc3ff-8a3d-48e6-9cdf-0cc833858f08\n"
     ]
    },
    {
     "name": "stderr",
     "output_type": "stream",
     "text": [
      "2025-09-23 20:43:08,573 - INFO - HTTP Request: GET https://api.cloud.llamaindex.ai/api/parsing/job/e6cfc3ff-8a3d-48e6-9cdf-0cc833858f08 \"HTTP/1.1 200 OK\"\n",
      "2025-09-23 20:43:10,918 - INFO - HTTP Request: GET https://api.cloud.llamaindex.ai/api/parsing/job/e6cfc3ff-8a3d-48e6-9cdf-0cc833858f08 \"HTTP/1.1 200 OK\"\n",
      "2025-09-23 20:43:11,370 - INFO - HTTP Request: GET https://api.cloud.llamaindex.ai/api/parsing/job/e6cfc3ff-8a3d-48e6-9cdf-0cc833858f08/result/markdown \"HTTP/1.1 200 OK\"\n"
     ]
    }
   ],
   "source": [
    "# LlamaParse 파서 설정 (\"markdown\"과 \"text\" 형식 중 선택 가능)\n",
    "parser = LlamaParse(result_type=\"markdown\")\n",
    "\n",
    "# SimpleDirectoryReader를 사용하여 파일 파싱\n",
    "file_extractor = {\".pdf\": parser}  # PDF 파일을 LlamaParse로 처리하도록 설정\n",
    "documents = SimpleDirectoryReader(\n",
    "    input_files=[\"./data/240510_카카오_AI투자,눈에 밟히는 비용_유진투자증권.pdf\"], file_extractor=file_extractor\n",
    ").load_data()"
   ]
  },
  {
   "cell_type": "code",
   "execution_count": 4,
   "metadata": {},
   "outputs": [
    {
     "name": "stdout",
     "output_type": "stream",
     "text": [
      "Doc ID: 4353264e-7ae2-424c-954c-3fe11fe935a8\n",
      "Text: Korea | 인터넷 | 2024.05.10  # 카카오  # 투자의견  BUY(유지)  # 목표주가  73,000\n",
      "원(유지)  # 현재주가  48,600 원(05/09)  # 시가총액  21,639(십억원)  인터넷/게임/우주 정의훈_\n",
      "02)368-6170_ uihoon0607@eugenefn.com  - 1분기 매출액 1조 9,884억원(+22.5%yoy),\n",
      "영업이익 1,203억원(+92.2%yoy), 컨센서스(1,271억원) 소폭 하회 - 톡비즈 광고 매출은 메시지 비즈니스와\n",
      "비즈보드에서 모두 두 자릿수 성장률 기록하며 성장. 중국 이커머스 플랫폼의 국내 마케팅 확장 또한 동사 광고 성장에 일정 부분\n",
      "기여 -...\n"
     ]
    }
   ],
   "source": [
    "print(documents[0])"
   ]
  },
  {
   "cell_type": "code",
   "execution_count": 5,
   "metadata": {},
   "outputs": [],
   "source": [
    "file_name = \"parse_kakao_doc1.md\"\n",
    "with open(file_name, 'w', encoding='utf-8') as file:\n",
    "    for n, doc in enumerate(documents, start=1):\n",
    "        file.write(f'#####{n} page 요약\\n')\n",
    "        file.write(doc.text+'\\n')"
   ]
  },
  {
   "cell_type": "code",
   "execution_count": 6,
   "metadata": {},
   "outputs": [
    {
     "name": "stdout",
     "output_type": "stream",
     "text": [
      "WARNING: parsing_instruction is deprecated. Use complemental_formatting_instruction or content_guideline_instruction instead.\n",
      "Started parsing the file under job_id 13f10c4b-24b2-49d5-ac46-5880f0d8ab92\n",
      "."
     ]
    }
   ],
   "source": [
    "'''\n",
    "document 생성시 instruction promprt 사용하기\n",
    "'''\n",
    "documents_with_instruction = LlamaParse(\n",
    "    result_type='markdown',\n",
    "    parsing_instruction=\"\"\"\n",
    "    전체 내용을 투자자 관점에서 간결하게 설명해주시기 바랍니다.\n",
    "    문서 안에 표가 포함 된 경우 수치를 포함해 요약해주세요.\n",
    "    \"\"\"\n",
    ").load_data(\"./data/240510_카카오_AI투자,눈에 밟히는 비용_유진투자증권.pdf\")"
   ]
  },
  {
   "cell_type": "code",
   "execution_count": 7,
   "metadata": {},
   "outputs": [],
   "source": [
    "file_name = \"parse_kakao_doc2.md\"\n",
    "with open(file_name, 'w', encoding='utf-8') as file:\n",
    "    for n, doc in enumerate(documents_with_instruction, start=1):\n",
    "        file.write(f'#####{n} page 요약\\n')\n",
    "        file.write(doc.text+'\\n')\n",
    "        "
   ]
  },
  {
   "cell_type": "markdown",
   "metadata": {},
   "source": [
    "### 2. LlamaParser를 활용한 RAG 시스템 구축"
   ]
  },
  {
   "cell_type": "code",
   "execution_count": 8,
   "metadata": {},
   "outputs": [],
   "source": [
    "# OpenAI GPT-4 모델을 사용하도록 설정\n",
    "from llama_index.llms.openai import OpenAI\n",
    "llm = OpenAI(model=\"gpt-4o\", max_tokens=1000)"
   ]
  },
  {
   "cell_type": "code",
   "execution_count": null,
   "metadata": {},
   "outputs": [],
   "source": [
    "from llama_index.core import VectorStoreIndex\n",
    "index = VectorStoreIndex.from_documents(documents=documents_with_instruction,\n",
    "                                        llm=llm)\n",
    "index.storage_context.persist(persist_dir=\"./index/ch05_2_llamaparser_vector_index_storage\") # index 저장"
   ]
  },
  {
   "cell_type": "code",
   "execution_count": 9,
   "metadata": {},
   "outputs": [
    {
     "name": "stdout",
     "output_type": "stream",
     "text": [
      "Loading llama_index.core.storage.kvstore.simple_kvstore from ./index/ch05_2_llamaparser_vector_index_storage\\docstore.json.\n",
      "Loading llama_index.core.storage.kvstore.simple_kvstore from ./index/ch05_2_llamaparser_vector_index_storage\\index_store.json.\n"
     ]
    }
   ],
   "source": [
    "### 저장 된 인덱스 불러오기\n",
    "from llama_index.core import StorageContext, load_index_from_storage\n",
    "storage_context = StorageContext.from_defaults(persist_dir=\"./index/ch05_2_llamaparser_vector_index_storage\") \n",
    "index = load_index_from_storage(storage_context) # 밀집 검색 인덱스 로드"
   ]
  },
  {
   "cell_type": "code",
   "execution_count": null,
   "metadata": {},
   "outputs": [],
   "source": [
    "dense_retriever = index.as_retriever(\n",
    "        similarity_top_k = 3,\n",
    ")"
   ]
  },
  {
   "cell_type": "code",
   "execution_count": 11,
   "metadata": {},
   "outputs": [],
   "source": [
    "retrieval_results = dense_retriever.retrieve(\"카카오 2024년 실적 요약\")"
   ]
  },
  {
   "cell_type": "code",
   "execution_count": 12,
   "metadata": {},
   "outputs": [
    {
     "data": {
      "text/markdown": [
       "**Node ID:** 1614d2c8-7e35-47d0-b9bb-697127a8fcff<br>**Similarity:** 0.8831501543600708<br>**Text:** 카카오는 2024년 1분기 실적에서 매출 1조 9,884억 원(+22.5% yoy)과 영업이익 1,203억 원(+92.2% yoy)을 기록했으나, 영업이익은 시장 예상치인 1,271억 원과 당사 추정치 1,301억 원을 소폭 하회했습니다.\n",
       "\n",
       "주요 성장 요인은 톡비즈 광고와 페이 부문으로, 특히 금융과 커머스 업종의 광고 활성화가 긍정적인 영향을 미쳤습니다. 반면, 콘텐츠 부문은 신작 효과에도 불구하고 기존 매출 감소로 어려움을 겪었고, 뮤직 부문도 아티스트 음반 판매 감소로 매출이 줄었습니다.\n",
       "\n",
       "AI 투자와 관련하여 카카오는 약 2억 달러 규모의 교환사채를 발행했으며, 이 자금의 일부는 AI 경쟁력 강화에 사용될 예정입니다. 그러나 이러한 투자로 인해 카카오브레인의 영업적자가 확대될 것으로 예상되며, 단기적으로는 수익성에 부정적인 영향을 미칠 것으로 보입니다.<br>"
      ],
      "text/plain": [
       "<IPython.core.display.Markdown object>"
      ]
     },
     "metadata": {},
     "output_type": "display_data"
    },
    {
     "data": {
      "text/markdown": [
       "**Node ID:** ba59882e-736b-4dce-b8e0-4d86b7dc9e5f<br>**Similarity:** 0.8610891056103033<br>**Text:** ### 카카오 실적 요약\n",
       "\n",
       "#### 1. 분기 실적 (2023년 1Q - 2024년 4Q 예상)\n",
       "- **매출액**:\n",
       "- 2023년: 7,557억 원\n",
       "- 2024년 예상: 8,443억 원\n",
       "- 연평균 성장률: 11.1% (2023), 11.7% (2024)\n",
       "\n",
       "- **영업이익**:\n",
       "- 2023년: 460.9억 원\n",
       "- 2024년 예상: 581.8억 원\n",
       "- 영업이익률(OPM): 6.1% (2023), 6.9% (2024)\n",
       "\n",
       "- **당기순이익**:\n",
       "- 2023년: -649.4억 원 (적자)\n",
       "- 2024년 예상: 448.5억 원 (흑자 전환)\n",
       "\n",
       "#### 2. 연간 실적 (2021 - 2024E)\n",
       "- **매출액**:\n",
       "- 2021: 6,136.7억 원\n",
       "- 2022: 6,799.0억 원\n",
       "- 2023: 7,557.0억 원\n",
       "- 2024E: 8,443.3억 원\n",
       "\n",
       "- **영업이익**:\n",
       "- 2021: 594.9억 원\n",
       "- 2022: 569.4억 원\n",
       "- 2023: 460.9억 원\n",
       "- 2024E: 581.8억...<br>"
      ],
      "text/plain": [
       "<IPython.core.display.Markdown object>"
      ]
     },
     "metadata": {},
     "output_type": "display_data"
    },
    {
     "data": {
      "text/markdown": [
       "**Node ID:** 1a92934e-1109-4f36-a6ee-c277c37ea71f<br>**Similarity:** 0.8376008748418426<br>**Text:** ### 카카오 투자 요약\n",
       "\n",
       "- **투자의견**: BUY (유지)\n",
       "- **목표주가**: 73,000 원 (유지)\n",
       "- **현재주가**: 48,600 원 (2024.05.09)\n",
       "- **시가총액**: 21,639 억원\n",
       "\n",
       "#### 1분기 실적\n",
       "- **매출액**: 1조 9,884억원 (+22.5% YoY)\n",
       "- **영업이익**: 1,203억원 (+92.2% YoY, 컨센서스 1,271억원 소폭 하회)\n",
       "\n",
       "#### 주요 부문 성과\n",
       "- **톡비즈 광고**: 두 자릿수 성장률 기록\n",
       "- **플랫폼 기타 부문**: 페이 부문에서 역대 최고 매출\n",
       "- **콘텐츠 부문**: 게임 매출 감소, 픽코마 및 스토리 매출 부진\n",
       "- **뮤직 매출**: 아티스트 음반 판매 감소로 전분기 대비 감소\n",
       "\n",
       "#### 비용 및 투자\n",
       "- AI 투자 확대에 따른 영업적자 증가 예상\n",
       "- 2,930억원의 교환사채 발행 자금 중 1,000억원은 AI 투자에 사용 예정\n",
       "\n",
       "#### 주가 및 재무 지표\n",
       "- **52주 최고가**: 61,900...<br>"
      ],
      "text/plain": [
       "<IPython.core.display.Markdown object>"
      ]
     },
     "metadata": {},
     "output_type": "display_data"
    }
   ],
   "source": [
    "from llama_index.core.response.notebook_utils import display_source_node\n",
    "for res_node in retrieval_results:\n",
    "    display_source_node(res_node, source_length=500)"
   ]
  },
  {
   "cell_type": "code",
   "execution_count": 13,
   "metadata": {},
   "outputs": [],
   "source": [
    "query_engine = index.as_query_engine()"
   ]
  },
  {
   "cell_type": "code",
   "execution_count": 14,
   "metadata": {},
   "outputs": [],
   "source": [
    "response = query_engine.query(\"카카오 2024년 실적 요약\")"
   ]
  },
  {
   "cell_type": "code",
   "execution_count": 15,
   "metadata": {},
   "outputs": [
    {
     "name": "stdout",
     "output_type": "stream",
     "text": [
      "카카오의 2024년 실적 요약은 다음과 같습니다:\n",
      "- 매출액: 8,443억 원\n",
      "- 영업이익: 581.8억 원\n",
      "- 당기순이익: 448.5억 원\n",
      "- EPS: 1,008원\n",
      "- PER: 48.2배\n"
     ]
    }
   ],
   "source": [
    "print(response)"
   ]
  }
 ],
 "metadata": {
  "kernelspec": {
   "display_name": ".venv",
   "language": "python",
   "name": "python3"
  },
  "language_info": {
   "codemirror_mode": {
    "name": "ipython",
    "version": 3
   },
   "file_extension": ".py",
   "mimetype": "text/x-python",
   "name": "python",
   "nbconvert_exporter": "python",
   "pygments_lexer": "ipython3",
   "version": "3.10.7"
  }
 },
 "nbformat": 4,
 "nbformat_minor": 2
}
