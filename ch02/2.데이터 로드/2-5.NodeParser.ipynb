{
 "cells": [
  {
   "cell_type": "markdown",
   "metadata": {},
   "source": [
    "### 1. Simple Node Parser (Text Splitter)\n"
   ]
  },
  {
   "cell_type": "code",
   "execution_count": null,
   "metadata": {},
   "outputs": [],
   "source": [
    "from llama_index.core import Document\n",
    "from llama_index.core.node_parser import TokenTextSplitter, SentenceSplitter"
   ]
  },
  {
   "cell_type": "code",
   "execution_count": null,
   "metadata": {},
   "outputs": [],
   "source": [
    "text = \"\"\"\n",
    "LlamaIndex는 대규모 언어 모델(LLM)을 사용하여 개인 데이터를 처리하는 데이터 프레임워크입니다. 이 프레임워크는 데이터 수집부터 처리, 검색까지 전체 과정을 지원합니다.\n",
    "\n",
    "주요 구성 요소는 다음과 같습니다:\n",
    "Documents는 원시 데이터를 표현하는 기본 단위입니다. 텍스트 파일, PDF, 웹페이지 등 다양한 소스의 데이터를 포함할 수 있습니다.\n",
    "Nodes는 Documents를 더 작은 단위로 분할한 것으로, LLM이 효과적으로 처리할 수 있는 크기입니다.\n",
    "\n",
    "데이터 처리 과정은 다음과 같습니다:\n",
    "먼저 데이터 로더를 사용하여 Documents를 생성합니다. 그 다음 Node Parser를 통해 Documents를 Nodes로 분할합니다.\n",
    "마지막으로 인덱스를 구축하여 효율적인 검색이 가능하도록 합니다.\n",
    "\n",
    "LlamaIndex는 다양한 인덱스 유형을 제공합니다. VectorStoreIndex는 임베딩 기반 검색을, SummaryIndex는 요약 기반 검색을 지원합니다.\n",
    "또한 하이브리드 검색, 재순위화 등 고급 검색 기능도 제공하여 검색 품질을 향상시킬 수 있습니다.\n",
    "\"\"\""
   ]
  },
  {
   "cell_type": "code",
   "execution_count": null,
   "metadata": {},
   "outputs": [],
   "source": [
    "# 1. TokenTextSplitter (토큰 기반 분할)\n",
    "token_splitter = TokenTextSplitter(\n",
    "    chunk_size=100, chunk_overlap=20  # 노드 크기 (토큰 수)  # 노드 간 중복 토큰 수\n",
    ")\n",
    "token_nodes = token_splitter.split_text(text)\n",
    "\n",
    "# 결과 출력\n",
    "print(\"=== TokenTextSplitter 결과 ===\")\n",
    "for i, node in enumerate(token_nodes, 1):\n",
    "    print(f\"\\nNode {i}:\")\n",
    "    print(node)"
   ]
  },
  {
   "cell_type": "code",
   "execution_count": null,
   "metadata": {},
   "outputs": [],
   "source": [
    "# 2. SentenceSplitter (문장 단위 분할)\n",
    "sentence_splitter = SentenceSplitter(\n",
    "    chunk_size=100, chunk_overlap=20  # 노드 크기  # 노드 간 중복 크기\n",
    ")\n",
    "sentence_nodes = sentence_splitter.split_text(text)\n",
    "\n",
    "print(\"\\n=== SentenceSplitter 결과 ===\")\n",
    "for i, node in enumerate(sentence_nodes, 1):\n",
    "    print(f\"\\nNode {i}:\")\n",
    "    print(node)"
   ]
  },
  {
   "cell_type": "markdown",
   "metadata": {},
   "source": [
    "### 2. Structured Node Parser\n"
   ]
  },
  {
   "cell_type": "markdown",
   "metadata": {},
   "source": [
    "#### 1) JSONNodeParser"
   ]
  },
  {
   "cell_type": "code",
   "execution_count": null,
   "metadata": {},
   "outputs": [],
   "source": [
    "from llama_index.core.node_parser import JSONNodeParser\n",
    "from llama_index.core import SimpleDirectoryReader\n",
    "\n",
    "# SimpleDirectoryReader를 사용하여 JSON 파일 로드\n",
    "json_docs = SimpleDirectoryReader(input_dir=\"../data\", required_exts=[\".json\"]).load_data()\n",
    "\n",
    "# JSON NodeParser 사용\n",
    "parser = JSONNodeParser()\n",
    "json_nodes = parser.get_nodes_from_documents(json_docs)\n",
    "\n",
    "# 결과 출력\n",
    "print(\"JSONNode 개수:\",len(json_nodes))  # JSON의 항목 개수만큼 노드가 생성됨\n",
    "print(\"첫번째 노드 텍스트:\", json_nodes[0].text)  # 첫 번째 노드의 텍스트 출력\n",
    "print(\"첫번째 노드 메타데이터:\", json_nodes[0].metadata)  # JSON의 Key-Value 메타데이터 출력"
   ]
  },
  {
   "cell_type": "markdown",
   "metadata": {},
   "source": [
    "#### 2) HTMLNodeParser"
   ]
  },
  {
   "cell_type": "code",
   "execution_count": null,
   "metadata": {},
   "outputs": [],
   "source": [
    "from llama_index.core.node_parser import HTMLNodeParser\n",
    "from llama_index.core import SimpleDirectoryReader\n",
    "\n",
    "# HTML 파일 로드 \n",
    "html_docs = SimpleDirectoryReader(input_dir=\"../data\", required_exts=[\".html\"]).load_data()\n",
    "\n",
    "# HTML NodeParser 사용\n",
    "parser = HTMLNodeParser()\n",
    "html_nodes = parser.get_nodes_from_documents(html_docs)\n",
    "\n",
    "# 결과 출력\n",
    "print(\"HTMLNode 개수:\",len(html_nodes))\n",
    "print(\"첫번째 노드 텍스트:\", html_nodes[0].text)\n",
    "print(\"첫번째 노드 메타데이터:\", html_nodes[0].metadata)\n"
   ]
  },
  {
   "cell_type": "markdown",
   "metadata": {},
   "source": [
    "#### 3) MarkdownNodeParser\n"
   ]
  },
  {
   "cell_type": "code",
   "execution_count": null,
   "metadata": {},
   "outputs": [],
   "source": [
    "from llama_index.core.node_parser import MarkdownNodeParser\n",
    "from llama_index.core import SimpleDirectoryReader\n",
    "\n",
    "# Markdown 파일 로드\n",
    "markdown_docs = SimpleDirectoryReader(input_dir=\"../data\", required_exts=[\".md\"]).load_data()\n",
    "\n",
    "# Markdown NodeParser 사용\n",
    "parser = MarkdownNodeParser()\n",
    "markdown_nodes = parser.get_nodes_from_documents(markdown_docs)\n",
    "\n",
    "# 결과 출력\n",
    "print(\"MarkdownNode 개수:\", len(markdown_nodes))\n",
    "print(\"첫번째 노드 텍스트:\", markdown_nodes[0].text)\n",
    "print(\"첫번째 노드 메타데이터:\", markdown_nodes[0].metadata)"
   ]
  }
 ],
 "metadata": {
  "kernelspec": {
   "display_name": "LlamaIndex_VENV",
   "language": "python",
   "name": "python3"
  },
  "language_info": {
   "codemirror_mode": {
    "name": "ipython",
    "version": 3
   },
   "file_extension": ".py",
   "mimetype": "text/x-python",
   "name": "python",
   "nbconvert_exporter": "python",
   "pygments_lexer": "ipython3",
   "version": "3.13.1"
  }
 },
 "nbformat": 4,
 "nbformat_minor": 2
}
