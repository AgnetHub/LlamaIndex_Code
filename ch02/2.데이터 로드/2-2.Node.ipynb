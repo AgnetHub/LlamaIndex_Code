{
 "cells": [
  {
   "cell_type": "markdown",
   "metadata": {},
   "source": [
    "### 1. Node 객체 직접 생성"
   ]
  },
  {
   "cell_type": "code",
   "execution_count": null,
   "metadata": {},
   "outputs": [],
   "source": [
    "from llama_index.core import Document\n",
    "from llama_index.core.schema import TextNode\n",
    "\n",
    "document = Document(\n",
    "    text=\"\"\"인공지능은 우리의 미래를 변화시킬 것입니다.\n",
    "                        이러한 변화에 우리는 준비되어 있어야 합니다.\"\"\"\n",
    ")\n",
    "\n",
    "# 문서를 두 개의 노드로 분할 (각 문장을 하나의 노드로)\n",
    "node1 = TextNode(text=document.text[:24], doc_id=document.id_)\n",
    "node2 = TextNode(text=document.text[25:], doc_id=document.id_)\n",
    "\n",
    "print(node1)\n",
    "print(node2)"
   ]
  },
  {
   "cell_type": "markdown",
   "metadata": {},
   "source": [
    "### 2. 문서를 불러와서 Document와 Node 객체 생성"
   ]
  },
  {
   "cell_type": "code",
   "execution_count": null,
   "metadata": {},
   "outputs": [],
   "source": [
    "from llama_index.core import SimpleDirectoryReader\n",
    "from llama_index.core.node_parser import SimpleNodeParser\n",
    "\n",
    "# docx 파일 로드 및 documents 변수에 저장\n",
    "documents = SimpleDirectoryReader(\"../data\", required_exts=[\".docx\"]).load_data()"
   ]
  },
  {
   "cell_type": "code",
   "execution_count": null,
   "metadata": {},
   "outputs": [],
   "source": [
    "# SimpleNodeParser 사용\n",
    "parser = SimpleNodeParser.from_defaults(\n",
    "    chunk_size=200,\n",
    "    chunk_overlap=20 \n",
    ")\n",
    "\n",
    "nodes = parser.get_nodes_from_documents([documents[0]])"
   ]
  },
  {
   "cell_type": "code",
   "execution_count": null,
   "metadata": {},
   "outputs": [],
   "source": [
    "# Node 확인\n",
    "for i, node in enumerate(nodes):\n",
    "    print(f\"\\n=== Node {i+1} ===\")\n",
    "    print(f\"Text: {node.text}\")"
   ]
  },
  {
   "cell_type": "code",
   "execution_count": null,
   "metadata": {},
   "outputs": [],
   "source": [
    "print(f\"Metadata: {node.metadata}\")"
   ]
  }
 ],
 "metadata": {
  "kernelspec": {
   "display_name": "LlamaIndex_VENV",
   "language": "python",
   "name": "python3"
  },
  "language_info": {
   "codemirror_mode": {
    "name": "ipython",
    "version": 3
   },
   "file_extension": ".py",
   "mimetype": "text/x-python",
   "name": "python",
   "nbconvert_exporter": "python",
   "pygments_lexer": "ipython3",
   "version": "3.13.1"
  }
 },
 "nbformat": 4,
 "nbformat_minor": 2
}
