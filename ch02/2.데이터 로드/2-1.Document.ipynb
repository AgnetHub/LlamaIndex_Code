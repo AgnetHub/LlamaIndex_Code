{
 "cells": [
  {
   "cell_type": "markdown",
   "metadata": {},
   "source": [
    "### 1. Document 객체 직접 생성"
   ]
  },
  {
   "cell_type": "code",
   "execution_count": null,
   "metadata": {},
   "outputs": [],
   "source": [
    "from llama_index.core import Document\n",
    "\n",
    "# 예시 : 제품 설명서\n",
    "text = \"\"\"\n",
    "AI 챗봇 사용 가이드:\n",
    "- 간단한 질문으로 시작하세요\n",
    "- 구체적인 예시를 포함하면 더 좋은 답변을 받을 수 있습니다\n",
    "- 부적절한 내용은 자동으로 필터링됩니다\n",
    "\"\"\"\n",
    "document = Document(\n",
    "    text=text,\n",
    "    metadata={\"author\": \"제품개발팀\", \"category\": \"사용설명서\", \"version\": \"2.0\"},\n",
    "    id_=\"manual_ai_001\",\n",
    ")\n",
    "\n",
    "print(document)"
   ]
  },
  {
   "cell_type": "markdown",
   "metadata": {},
   "source": [
    "### 2. 기존 문서 로드하여 Document 객체 생성\n"
   ]
  },
  {
   "cell_type": "code",
   "execution_count": null,
   "metadata": {},
   "outputs": [],
   "source": [
    "# llama_index의 가장 기본적인 데이터 로드 방법\n",
    "from llama_index.core import SimpleDirectoryReader\n",
    "\n",
    "# pdf 파일 로드 및 documents 변수에 저장\n",
    "documents = SimpleDirectoryReader(input_files=[\"../data/pdf_example.pdf\"]).load_data()"
   ]
  },
  {
   "cell_type": "code",
   "execution_count": null,
   "metadata": {},
   "outputs": [],
   "source": [
    "print(\"documents의 타입 : \", type(documents))"
   ]
  },
  {
   "cell_type": "code",
   "execution_count": null,
   "metadata": {},
   "outputs": [],
   "source": [
    "print(\"documents[0]의 타입 : \", type(documents[0]), \"\\n\")\n",
    "print(\"Document 객체의 내용 : \", documents)"
   ]
  },
  {
   "cell_type": "code",
   "execution_count": null,
   "metadata": {},
   "outputs": [],
   "source": [
    "# documents[0]를 변수에 저장\n",
    "document = documents[0]\n",
    "\n",
    "# 문서 내용 확인\n",
    "print(document.text)\n",
    "\n",
    "# 파일 정보 확인\n",
    "print(document.metadata[\"file_name\"])\n",
    "print(document.metadata[\"file_type\"])\n",
    "\n",
    "# 문서 ID 확인\n",
    "print(document.id_)"
   ]
  }
 ],
 "metadata": {
  "kernelspec": {
   "display_name": "LlamaIndex_VENV",
   "language": "python",
   "name": "python3"
  },
  "language_info": {
   "codemirror_mode": {
    "name": "ipython",
    "version": 3
   },
   "file_extension": ".py",
   "mimetype": "text/x-python",
   "name": "python",
   "nbconvert_exporter": "python",
   "pygments_lexer": "ipython3",
   "version": "3.13.1"
  }
 },
 "nbformat": 4,
 "nbformat_minor": 2
}
