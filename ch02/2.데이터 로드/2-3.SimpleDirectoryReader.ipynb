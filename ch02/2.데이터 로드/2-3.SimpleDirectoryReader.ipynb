{
 "cells": [
  {
   "cell_type": "code",
   "execution_count": null,
   "metadata": {},
   "outputs": [],
   "source": [
    "from llama_index.core import SimpleDirectoryReader\n",
    "\n",
    "documents = SimpleDirectoryReader(\"../data\").load_data()"
   ]
  },
  {
   "cell_type": "code",
   "execution_count": null,
   "metadata": {},
   "outputs": [],
   "source": [
    "print(\"디렉토리 내 파일 개수 : \", len(documents))\n",
    "print(\"각 document의 파일명 : \")\n",
    "for document in documents:\n",
    "    print(document.metadata[\"file_name\"], end=\"  \")"
   ]
  },
  {
   "cell_type": "code",
   "execution_count": null,
   "metadata": {},
   "outputs": [],
   "source": [
    "# 하위 폴더 포함\n",
    "documents = SimpleDirectoryReader(input_dir=\"../data\", recursive=True).load_data()\n",
    "\n",
    "print(\"하위 폴더 포함 파일 개수 : \", len(documents))\n",
    "print(\"각 document의 파일명 : \")\n",
    "for document in documents:\n",
    "    print(document.metadata[\"file_name\"], end=\"  \")"
   ]
  },
  {
   "cell_type": "code",
   "execution_count": null,
   "metadata": {},
   "outputs": [],
   "source": [
    "# 특정 파일만 로드\n",
    "documents = SimpleDirectoryReader(input_dir=\"../data\", input_files=[\"../data/json_example.json\", \"../data/txt_example.txt\"])\n",
    "\n",
    "# 특정 파일 제외\n",
    "documents = SimpleDirectoryReader(input_dir=\"../data\", exclude=[\"../data/json_example.json\", \"../data/txt_example.txt\"])\n",
    "\n",
    "# 특정 확장자만 로드\n",
    "documents = SimpleDirectoryReader(input_dir=\"../data\", required_exts=[\".txt\"])"
   ]
  },
  {
   "cell_type": "markdown",
   "metadata": {},
   "source": [
    "### 다양한 확장자 파일 로드 실습"
   ]
  },
  {
   "cell_type": "markdown",
   "metadata": {},
   "source": [
    "#### 엑셀만 로드"
   ]
  },
  {
   "cell_type": "code",
   "execution_count": null,
   "metadata": {},
   "outputs": [],
   "source": [
    "documents = SimpleDirectoryReader(\"../data\", required_exts=[\".xlsx\"]).load_data()\n",
    "\n",
    "print(len(documents))\n",
    "\n",
    "print(documents[0].text)"
   ]
  },
  {
   "cell_type": "markdown",
   "metadata": {},
   "source": [
    "#### 이미지만 로드\n"
   ]
  },
  {
   "cell_type": "code",
   "execution_count": null,
   "metadata": {},
   "outputs": [],
   "source": [
    "documents = SimpleDirectoryReader(\n",
    "    \"../data\", required_exts=[\".jpg\", \".jpeg\", \".png\"]\n",
    ").load_data()\n",
    "\n",
    "print(len(documents))\n",
    "\n",
    "# 이미지 실제로 출력\n",
    "from IPython.display import Image\n",
    "\n",
    "Image(url=documents[0].metadata[\"file_path\"])"
   ]
  },
  {
   "cell_type": "markdown",
   "metadata": {},
   "source": [
    "#### csv 파일 로드\n"
   ]
  },
  {
   "cell_type": "code",
   "execution_count": null,
   "metadata": {},
   "outputs": [],
   "source": [
    "documents = SimpleDirectoryReader(\"../data\", required_exts=[\".csv\"]).load_data()\n",
    "\n",
    "print(len(documents))\n",
    "\n",
    "print(documents[0].text)"
   ]
  },
  {
   "cell_type": "markdown",
   "metadata": {},
   "source": [
    "#### xml 파일 로드"
   ]
  },
  {
   "cell_type": "code",
   "execution_count": null,
   "metadata": {},
   "outputs": [],
   "source": [
    "documents = SimpleDirectoryReader(\"../data\", required_exts=[\".xml\"]).load_data()\n",
    "\n",
    "print(len(documents))\n",
    "\n",
    "print(documents[0].text)"
   ]
  }
 ],
 "metadata": {
  "kernelspec": {
   "display_name": "LlamaIndex_VENV",
   "language": "python",
   "name": "python3"
  },
  "language_info": {
   "codemirror_mode": {
    "name": "ipython",
    "version": 3
   },
   "file_extension": ".py",
   "mimetype": "text/x-python",
   "name": "python",
   "nbconvert_exporter": "python",
   "pygments_lexer": "ipython3",
   "version": "3.13.1"
  }
 },
 "nbformat": 4,
 "nbformat_minor": 2
}
