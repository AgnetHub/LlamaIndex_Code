{
 "cells": [
  {
   "cell_type": "code",
   "execution_count": 1,
   "metadata": {},
   "outputs": [],
   "source": [
    "# 라마인덱스 패키지 임포트\n",
    "from llama_index.core import VectorStoreIndex, SimpleDirectoryReader\n",
    "from llama_index.llms.openai import OpenAI\n",
    "from llama_index.core import Settings\n",
    "\n",
    "# 환경변수 설정 (api key)\n",
    "import os\n",
    "from dotenv import load_dotenv"
   ]
  },
  {
   "cell_type": "code",
   "execution_count": 3,
   "metadata": {},
   "outputs": [],
   "source": [
    "# .env 파일에서 환경 변수 로드\n",
    "load_dotenv()\n",
    "\n",
    "# OpenAI API 키 설정\n",
    "os.environ[\"OPENAI_API_KEY\"] = os.getenv(\"OPENAI_API_KEY\")"
   ]
  },
  {
   "cell_type": "code",
   "execution_count": 4,
   "metadata": {},
   "outputs": [],
   "source": [
    "# LLM 설정\n",
    "Settings.llm = OpenAI(model=\"gpt-4o\", temperature=0.5)"
   ]
  },
  {
   "cell_type": "code",
   "execution_count": 6,
   "metadata": {},
   "outputs": [
    {
     "name": "stdout",
     "output_type": "stream",
     "text": [
      "NIPS-2017-attention-is-all-you-need-Paper.pdf\n",
      "NIPS-2017-attention-is-all-you-need-Paper.pdf\n",
      "NIPS-2017-attention-is-all-you-need-Paper.pdf\n",
      "NIPS-2017-attention-is-all-you-need-Paper.pdf\n",
      "NIPS-2017-attention-is-all-you-need-Paper.pdf\n",
      "NIPS-2017-attention-is-all-you-need-Paper.pdf\n",
      "NIPS-2017-attention-is-all-you-need-Paper.pdf\n",
      "NIPS-2017-attention-is-all-you-need-Paper.pdf\n",
      "NIPS-2017-attention-is-all-you-need-Paper.pdf\n",
      "NIPS-2017-attention-is-all-you-need-Paper.pdf\n",
      "NIPS-2017-attention-is-all-you-need-Paper.pdf\n"
     ]
    }
   ],
   "source": [
    "# 데이터 로드 (data가 있는 경로 입력)\n",
    "documents = SimpleDirectoryReader(\"../data/pdf_sample2\").load_data()\n",
    "\n",
    "# 파일이름 확인\n",
    "for doc in documents:\n",
    "    print(doc.metadata[\"file_name\"])"
   ]
  },
  {
   "cell_type": "code",
   "execution_count": 7,
   "metadata": {},
   "outputs": [
    {
     "name": "stderr",
     "output_type": "stream",
     "text": [
      "c:\\Code\\LlamaIndex_Code-main\\LlamaIndex_VENV\\Lib\\site-packages\\tqdm\\auto.py:21: TqdmWarning: IProgress not found. Please update jupyter and ipywidgets. See https://ipywidgets.readthedocs.io/en/stable/user_install.html\n",
      "  from .autonotebook import tqdm as notebook_tqdm\n",
      "Parsing nodes: 100%|██████████| 11/11 [00:00<00:00, 1701.98it/s]\n",
      "Generating embeddings: 100%|██████████| 12/12 [00:02<00:00,  4.16it/s]\n"
     ]
    }
   ],
   "source": [
    "# 인덱스 생성 및 데이터 임베딩\n",
    "index = VectorStoreIndex.from_documents(documents, show_progress=True)\n",
    "\n",
    "# 쿼리 엔진 생성\n",
    "query_engine = index.as_query_engine()"
   ]
  },
  {
   "cell_type": "code",
   "execution_count": 8,
   "metadata": {},
   "outputs": [
    {
     "name": "stdout",
     "output_type": "stream",
     "text": [
      "The title of the paper is \"Attention Is All You Need.\"\n"
     ]
    }
   ],
   "source": [
    "# 쿼리 실행\n",
    "query = \"what is the title of the paper? let me konw the title of the paper\"\n",
    "response = query_engine.query(query)\n",
    "\n",
    "# 응답 출력\n",
    "print(response)"
   ]
  }
 ],
 "metadata": {
  "kernelspec": {
   "display_name": "LlamaIndex_VENV",
   "language": "python",
   "name": "python3"
  },
  "language_info": {
   "codemirror_mode": {
    "name": "ipython",
    "version": 3
   },
   "file_extension": ".py",
   "mimetype": "text/x-python",
   "name": "python",
   "nbconvert_exporter": "python",
   "pygments_lexer": "ipython3",
   "version": "3.13.1"
  }
 },
 "nbformat": 4,
 "nbformat_minor": 2
}
