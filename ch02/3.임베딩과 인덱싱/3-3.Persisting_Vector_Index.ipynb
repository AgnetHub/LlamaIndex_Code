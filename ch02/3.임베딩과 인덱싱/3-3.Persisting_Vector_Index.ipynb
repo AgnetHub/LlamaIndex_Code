{
 "cells": [
  {
   "cell_type": "code",
   "execution_count": null,
   "metadata": {},
   "outputs": [],
   "source": [
    "# 라마인덱스 패키지 임포트\n",
    "from llama_index.core import VectorStoreIndex, SimpleDirectoryReader\n",
    "from llama_index.llms.openai import OpenAI\n",
    "from llama_index.core import Settings\n",
    "\n",
    "# 환경변수 설정 (api key)\n",
    "import os\n",
    "from dotenv import load_dotenv\n",
    "\n",
    "# .env 파일에서 환경 변수 로드\n",
    "load_dotenv()\n",
    "\n",
    "# OpenAI API 키 설정\n",
    "os.environ[\"OPENAI_API_KEY\"] = os.getenv(\"OPENAI_API_KEY\")\n",
    "\n",
    "# LLM 설정\n",
    "Settings.llm = OpenAI(model=\"gpt-4o\", temperature=0.5)\n",
    "\n",
    "# 데이터 로드 (data가 있는 경로 입력)\n",
    "documents = SimpleDirectoryReader(\"../data/pdf_sample2\").load_data()\n",
    "\n",
    "# 파일이름 확인\n",
    "for doc in documents:\n",
    "    print(doc.metadata[\"file_name\"])\n",
    "\n",
    "# 인덱스 생성 및 데이터 임베딩\n",
    "index = VectorStoreIndex.from_documents(documents, show_progress=True)"
   ]
  },
  {
   "cell_type": "code",
   "execution_count": null,
   "metadata": {},
   "outputs": [],
   "source": [
    "# 벡터 DB 관련 라마인덱스 패키지 임포트\n",
    "from llama_index.core import StorageContext, load_index_from_storage\n",
    "\n",
    "# 저장할 디렉토리 지정\n",
    "persist_dir = \"./saved_index\"\n",
    "\n",
    "# 인덱스 저장\n",
    "index.storage_context.persist(persist_dir)"
   ]
  },
  {
   "cell_type": "code",
   "execution_count": null,
   "metadata": {},
   "outputs": [],
   "source": [
    "# 저장된 인덱스 로드 준비\n",
    "storage_context = StorageContext.from_defaults(persist_dir=persist_dir)\n",
    "\n",
    "# 저장된 인덱스 로드\n",
    "loaded_index = load_index_from_storage(storage_context)"
   ]
  },
  {
   "cell_type": "code",
   "execution_count": null,
   "metadata": {},
   "outputs": [],
   "source": [
    "# 로드된 인덱스로 쿼리 엔진 생성\n",
    "loaded_query_engine = loaded_index.as_query_engine()\n",
    "\n",
    "# 다른 쿼리 실행\n",
    "query = \"이 논문에서 제안하는 모델의 장점은 무엇인가요?\"\n",
    "response = loaded_query_engine.query(query)\n",
    "\n",
    "# 응답 출력\n",
    "print(\"\\n질문:\", query)\n",
    "print(\"답변:\", response)"
   ]
  }
 ],
 "metadata": {
  "kernelspec": {
   "display_name": "LlamaIndex_VENV",
   "language": "python",
   "name": "python3"
  },
  "language_info": {
   "codemirror_mode": {
    "name": "ipython",
    "version": 3
   },
   "file_extension": ".py",
   "mimetype": "text/x-python",
   "name": "python",
   "nbconvert_exporter": "python",
   "pygments_lexer": "ipython3",
   "version": "3.13.1"
  }
 },
 "nbformat": 4,
 "nbformat_minor": 2
}
