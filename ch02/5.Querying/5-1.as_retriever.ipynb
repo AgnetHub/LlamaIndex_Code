{
 "cells": [
  {
   "cell_type": "markdown",
   "metadata": {},
   "source": [
    "Document를 텍스트 직접 입력으로 생성하고 인덱스 생성"
   ]
  },
  {
   "cell_type": "code",
   "execution_count": null,
   "metadata": {},
   "outputs": [],
   "source": [
    "from llama_index.core import Document\n",
    "from llama_index.core import VectorStoreIndex\n",
    "\n",
    "# 문서 생성\n",
    "documents = [\n",
    "    Document(text=\"LlamaIndex는 강력한 검색 엔진을 구축할 수 있는 오픈소스 라이브러리입니다.\"),\n",
    "    Document(text=\"LlamaIndex는 다양한 검색 방법을 지원합니다. (벡터 검색, 키워드 검색)\"),\n",
    "    Document(text=\"벡터 검색은 문서의 의미적 유사도를 기반으로 정보를 검색하는 방법입니다.\"),\n",
    "    Document(text=\"키워드 검색은 특정 단어가 포함된 문서를 검색하는 방식입니다.\"),\n",
    "    Document(text=\"이 라이브러리는 Python 기반이며, 빠르고 유연한 검색 기능을 제공합니다.\")\n",
    "]\n",
    "\n",
    "# Document에서 곧바로 인덱스 생성\n",
    "index = VectorStoreIndex.from_documents(documents)"
   ]
  },
  {
   "cell_type": "markdown",
   "metadata": {},
   "source": [
    "Retrieve로 관련 노드 검색"
   ]
  },
  {
   "cell_type": "code",
   "execution_count": null,
   "metadata": {},
   "outputs": [
    {
     "name": "stdout",
     "output_type": "stream",
     "text": [
      "키워드 검색은 특정 단어가 포함된 문서를 검색하는 방식입니다.\n"
     ]
    }
   ],
   "source": [
    "# 벡터 검색\n",
    "retriever = index.as_retriever() # 기본값: 상위 2개 검색\n",
    "\n",
    "# 벡터 검색 파라미터 설정\n",
    "retriever = index.as_retriever(\n",
    "    similarity_top_k=1,  # 상위 1개 문서 검색\n",
    "    search_type=\"vector\"  # 기본값은 \"vector\"\n",
    ")\n",
    "\n",
    "# 질문에 대한 맥락 검색\n",
    "nodes = retriever.retrieve(\"키워드 검색이란?\")\n",
    "\n",
    "# 검색된 노드 출력\n",
    "for node in nodes:\n",
    "    print(node.text)\n"
   ]
  }
 ],
 "metadata": {
  "kernelspec": {
   "display_name": "LlamaIndex_VENV",
   "language": "python",
   "name": "python3"
  },
  "language_info": {
   "name": "python",
   "version": "3.10.7"
  }
 },
 "nbformat": 4,
 "nbformat_minor": 2
}
