{
 "cells": [
  {
   "cell_type": "markdown",
   "metadata": {},
   "source": [
    "### 1. RAG 관련 pdf 예제 데이터 로딩"
   ]
  },
  {
   "cell_type": "code",
   "execution_count": null,
   "metadata": {},
   "outputs": [],
   "source": [
    "from llama_index.core import SimpleDirectoryReader, VectorStoreIndex\n",
    "\n",
    "# 문서 로드 및 인덱스 생성\n",
    "documents = SimpleDirectoryReader(input_files=[\"../data/pdf_example.pdf\"]).load_data()\n",
    "index = VectorStoreIndex.from_documents(documents)\n"
   ]
  },
  {
   "cell_type": "markdown",
   "metadata": {},
   "source": [
    "### 2. 가장 기본적인 쿼리 엔진"
   ]
  },
  {
   "cell_type": "code",
   "execution_count": null,
   "metadata": {},
   "outputs": [],
   "source": [
    "# 쿼리 엔진 생성\n",
    "query_engine = index.as_query_engine()\n",
    "\n",
    "# 쿼리 실행\n",
    "query = \"RAG에 대해서 설명해줘\"\n",
    "response = query_engine.query(query)\n",
    "\n",
    "# 응답 출력\n",
    "print(response)"
   ]
  },
  {
   "cell_type": "markdown",
   "metadata": {},
   "source": [
    "### 3. as_query_engine() 주요 파라미터\n"
   ]
  },
  {
   "cell_type": "code",
   "execution_count": null,
   "metadata": {},
   "outputs": [],
   "source": [
    "from llama_index.core.postprocessor import SimilarityPostprocessor\n",
    "\n",
    "\n",
    "query_engine = index.as_query_engine(\n",
    "    # 기본적인 설정\n",
    "    similarity_top_k=3,                # 상위 3개 문서 사용\n",
    "    response_mode=\"tree_summarize\",    # 트리 구조로 요약\n",
    "    streaming=True,                    # 스트리밍 응답 활성화\n",
    "    # 유사도 0.7 이상만 선택 (후처리)\n",
    "    node_postprocessors=[SimilarityPostprocessor(similarity_cutoff=0.7)]\n",
    "    )\n",
    "\n",
    "query = \"RAG의 장점에 대해서 설명해줘\"\n",
    "\n",
    "# 스트리밍 쿼리 실행\n",
    "streaming_response = query_engine.query(query)\n",
    "streaming_response.print_response_stream()"
   ]
  },
  {
   "cell_type": "code",
   "execution_count": null,
   "metadata": {},
   "outputs": [],
   "source": [
    "# 2.테스트할 응답 모드 리스트\n",
    "response_modes = [\"tree_summarize\", \"refine\", \"compact\"]\n",
    "\n",
    "\n",
    "# 3.동일한 질문에 대해 응답 모드별로 실행\n",
    "question = \"RAG에 대해서 설명해줘\"\n",
    "\n",
    "for mode in response_modes:\n",
    "    print(f\"\\n ========== 응답 모드: {mode} ==========\")\n",
    "    \n",
    "    # Query Engine 생성 및 실행\n",
    "    query_engine = index.as_query_engine(response_mode=mode)\n",
    "    response = query_engine.query(question)\n",
    "    \n",
    "    # 응답 출력\n",
    "    print(response)"
   ]
  }
 ],
 "metadata": {
  "kernelspec": {
   "display_name": "LlamaIndex_VENV",
   "language": "python",
   "name": "python3"
  },
  "language_info": {
   "codemirror_mode": {
    "name": "ipython",
    "version": 3
   },
   "file_extension": ".py",
   "mimetype": "text/x-python",
   "name": "python",
   "nbconvert_exporter": "python",
   "pygments_lexer": "ipython3",
   "version": "3.13.1"
  }
 },
 "nbformat": 4,
 "nbformat_minor": 2
}
