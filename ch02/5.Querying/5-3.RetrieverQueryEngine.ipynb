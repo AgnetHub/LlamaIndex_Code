{
 "cells": [
  {
   "cell_type": "markdown",
   "metadata": {},
   "source": [
    "RetrieverQueryEngine"
   ]
  },
  {
   "cell_type": "code",
   "execution_count": 81,
   "metadata": {},
   "outputs": [
    {
     "name": "stdout",
     "output_type": "stream",
     "text": [
      "총 노드 수: 10\n"
     ]
    }
   ],
   "source": [
    "# 관련 모듈 및 클래스 임포트\n",
    "from llama_index.core import VectorStoreIndex, SimpleDirectoryReader, get_response_synthesizer\n",
    "from llama_index.core.postprocessor import SimilarityPostprocessor\n",
    "from llama_index.core.query_engine import RetrieverQueryEngine\n",
    "from llama_index.core.node_parser import SentenceSplitter\n",
    "\n",
    "# 문서 로드 및 인덱스 생성\n",
    "documents = SimpleDirectoryReader(input_files=[\"../data/txt_example.txt\"]).load_data()\n",
    "\n",
    "# 2. 노드 파서 설정 수정\n",
    "node_parser = SentenceSplitter(\n",
    "    chunk_size=100,        # 청크 크기 증가\n",
    "    chunk_overlap=20,        # 오버랩 제거\n",
    "    separator=\"\\n\"        # 빈 줄을 기준으로 분할\n",
    ")\n",
    "\n",
    "# 문서 분할\n",
    "nodes = node_parser.get_nodes_from_documents(documents)\n",
    "\n",
    "# 총 노드 수 확인\n",
    "print(f\"총 노드 수: {len(nodes)}\")\n"
   ]
  },
  {
   "cell_type": "code",
   "execution_count": 76,
   "metadata": {},
   "outputs": [
    {
     "name": "stdout",
     "output_type": "stream",
     "text": [
      "\n",
      "검색된 노드 수: 2\n",
      "\n",
      "\n",
      "--- 노드 1 ---\n",
      "인공지능(AI)의 개요와 주요 분야\n",
      "\n",
      "1. 인공지능의 정의\n",
      "인공지능은 인간의 학습능력과 추론능력, 지각능력, 자연언어의 이해능력 등을 컴퓨터 프로그램으로 실현한 기술입니다.\n",
      "\n",
      "--- 노드 2 ---\n",
      "현대 사회에서 인공지능은 다양한 분야에서 혁신을 이끌고 있습니다.\n",
      "\n",
      "2. 머신러닝\n",
      "머신러닝은 인공지능의 한 분야로, 데이터로부터 패턴을 학습하여 의사결정을 내리는 기술입니다.\n"
     ]
    }
   ],
   "source": [
    "# 벡터 인덱스 생성\n",
    "index = VectorStoreIndex(nodes)"
   ]
  },
  {
   "cell_type": "code",
   "execution_count": 79,
   "metadata": {},
   "outputs": [
    {
     "name": "stdout",
     "output_type": "stream",
     "text": [
      "\n",
      "검색된 노드 수: 5\n",
      "\n",
      "\n",
      "--- 노드 1 ---\n",
      "인공지능(AI)의 개요와 주요 분야\n",
      "\n",
      "1. 인공지능의 정의\n",
      "인공지능은 인간의 학습능력과 추론능력, 지각능력, 자연언어의 이해능력 등을 컴퓨터 프로그램으로 실현한 기술입니다.\n",
      "\n",
      "--- 노드 2 ---\n",
      "현대 사회에서 인공지능은 다양한 분야에서 혁신을 이끌고 있습니다.\n",
      "\n",
      "2. 머신러닝\n",
      "머신러닝은 인공지능의 한 분야로, 데이터로부터 패턴을 학습하여 의사결정을 내리는 기술입니다.\n",
      "\n",
      "--- 노드 3 ---\n",
      "앞으로 다음과 같은 분야에서 더 큰 혁신이 예상됩니다:\n",
      "- 범용 인공지능(AGI) 개발\n",
      "- 인간-AI 협력 시스템\n",
      "- 윤리적 AI 프레임워크\n",
      "\n",
      "--- 노드 4 ---\n",
      "학습자 분석\n",
      "\n",
      "5. 인공지능의 미래\n",
      "인공지능 기술은 계속해서 발전하고 있으며,\n",
      "\n",
      "--- 노드 5 ---\n",
      "인공지능의 응용 분야\n",
      "인공지능은 다양한 산업 분야에서 활용되고 있습니다:\n",
      "- 의료: 질병 진단, 신약 개발\n",
      "- 금융: 주식 거래,\n"
     ]
    }
   ],
   "source": [
    "# 리트리버 생성 (벡터 유사도 검색)\n",
    "retriever = index.as_retriever(similarity_top_k=5)\n",
    "\n",
    "# 리트리버 테스트\n",
    "retrieved_nodes = retriever.retrieve(\"인공지능에 대해서 요약해줘\")\n",
    "print(f\"\\n검색된 노드 수: {len(retrieved_nodes)}\\n\")\n",
    "\n",
    "for i, node in enumerate(retrieved_nodes, 1):\n",
    "    print(f\"\\n--- 노드 {i} ---\")\n",
    "    print(node.text)\n"
   ]
  },
  {
   "cell_type": "code",
   "execution_count": 89,
   "metadata": {},
   "outputs": [
    {
     "name": "stdout",
     "output_type": "stream",
     "text": [
      "인공지능은 인간의 학습능력, 추론능력, 지각능력, 자연어 이해능력 등을 컴퓨터 프로그램으로 구현한 기술이며, 현대 사회에서 다양한 분야에서 혁신을 이끌고 있습니다. 머신러닝은 인공지능의 한 분야로, 데이터로부터 패턴을 학습하여 의사결정을 내리는 기술이며, 앞으로는 범용 인공지능(AGI) 개발, 인간-AI 협력 시스템, 윤리적 AI 프레임워크 등에서 더 큰 혁신이 예상됩니다. 인공지능 기술은 계속 발전하고 있으며, 다양한 산업 분야에서 의료(질병 진단, 신약 개발), 금융(주식 거래) 등에서 활용되고 있습니다.\n"
     ]
    }
   ],
   "source": [
    "# 후처리기 생성 (유사도 0.7 이상만 필터링)\n",
    "postprocessor = SimilarityPostprocessor(similarity_cutoff=0.8)\n",
    "\n",
    "# 응답 생성기 생성 (트리 요약 모드, 상세 로깅)\n",
    "response_synthesizer = get_response_synthesizer(\n",
    "    response_mode=\"compact\",\n",
    "    verbose=True\n",
    ")\n",
    "\n",
    "# 쿼리 엔진 생성\n",
    "query_engine = RetrieverQueryEngine(\n",
    "    retriever=retriever,\n",
    "    response_synthesizer=response_synthesizer,\n",
    "    node_postprocessors=[postprocessor]\n",
    ")\n",
    "\n",
    "# 쿼리 실행\n",
    "response = query_engine.query(\"인공지능에 대해서 요약해줘\")\n",
    "print(response)\n"
   ]
  }
 ],
 "metadata": {
  "kernelspec": {
   "display_name": "LlamaIndex_VENV",
   "language": "python",
   "name": "python3"
  },
  "language_info": {
   "codemirror_mode": {
    "name": "ipython",
    "version": 3
   },
   "file_extension": ".py",
   "mimetype": "text/x-python",
   "name": "python",
   "nbconvert_exporter": "python",
   "pygments_lexer": "ipython3",
   "version": "3.13.1"
  }
 },
 "nbformat": 4,
 "nbformat_minor": 2
}
