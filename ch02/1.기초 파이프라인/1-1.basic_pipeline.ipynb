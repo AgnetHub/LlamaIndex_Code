{
 "cells": [
  {
   "cell_type": "code",
   "execution_count": 1,
   "metadata": {},
   "outputs": [],
   "source": [
    "from llama_index.llms.openai import OpenAI # 라마인덱스 OpenAI LLM 모델을 불러오기 위함 \n",
    "from llama_index.core import VectorStoreIndex, SimpleDirectoryReader # 문서 로드 및 Index\n",
    "import os # 환경변수 사용\n",
    "from dotenv import load_dotenv # 환경변수 로드"
   ]
  },
  {
   "cell_type": "code",
   "execution_count": 4,
   "metadata": {},
   "outputs": [],
   "source": [
    "# .env 파일 로드\n",
    "load_dotenv()\n",
    "\n",
    "# OpenAI API 키 설정\n",
    "os.environ[\"OPENAI_API_KEY\"] = os.getenv(\"OPENAI_API_KEY\")"
   ]
  },
  {
   "cell_type": "code",
   "execution_count": 5,
   "metadata": {},
   "outputs": [],
   "source": [
    "# OpenAI GPT-4o 모델을 사용하도록 설정\n",
    "llm = OpenAI(model=\"gpt-4o\")"
   ]
  },
  {
   "cell_type": "code",
   "execution_count": 6,
   "metadata": {},
   "outputs": [],
   "source": [
    "documents = SimpleDirectoryReader(input_files=[\"../data/240828_(AI리포트)_미국의_인공지능(AI)_정책,전략.pdf\"]).load_data()"
   ]
  },
  {
   "cell_type": "code",
   "execution_count": 7,
   "metadata": {},
   "outputs": [
    {
     "name": "stdout",
     "output_type": "stream",
     "text": [
      "Doc ID: 997eac9f-f4e2-46d7-b10e-17c4ba029b51\n",
      "Text: NIA AI정책본부 미래전략팀 이정아(leeja@nia.or.kr)  THE AI REPORT  2024-3 |\n",
      "2024.9.11. 1 미국의 인공지능(AI) 정책 전략 현황과 변화 방향 -AI 지배력 강화와 초강대국 유지를 위해 미국은\n",
      "어떻게 변화하고 있는가? - 1. 미국의 인공지능(AI) 정책 기조와 주요 변화   미 행정부의 변화 : AI 경쟁력\n",
      "확보․강화에서 ‘AI 팍스 아메리카나’로  ○ 미국 역대 정권의 AI 정책 기조는, 시장과 기술 우위성을 토대로 막대한\n",
      "연구개발(R&D) 투자를 확대해 AI 강국의 지위를 더욱 공고히 하고, 세계 최고의 AI 경쟁력을 유지하는 것 - 오바마\n",
      "행정부는 AI R&D 전...\n"
     ]
    }
   ],
   "source": [
    "print(documents[2])"
   ]
  },
  {
   "cell_type": "code",
   "execution_count": 23,
   "metadata": {},
   "outputs": [
    {
     "name": "stdout",
     "output_type": "stream",
     "text": [
      "{'page_label': '3', 'file_name': '240828_(AI리포트)_미국의_인공지능(AI)_정책,전략.pdf', 'file_path': '..\\\\data\\\\240828_(AI리포트)_미국의_인공지능(AI)_정책,전략.pdf', 'file_type': 'application/pdf', 'file_size': 359946, 'creation_date': '2025-01-31', 'last_modified_date': '2025-01-31'}\n"
     ]
    }
   ],
   "source": [
    "print(documents[2].metadata)"
   ]
  },
  {
   "cell_type": "code",
   "execution_count": 24,
   "metadata": {},
   "outputs": [],
   "source": [
    "index = VectorStoreIndex.from_documents(documents, llm=llm)"
   ]
  },
  {
   "cell_type": "code",
   "execution_count": 25,
   "metadata": {},
   "outputs": [],
   "source": [
    "query_engine = index.as_query_engine()"
   ]
  },
  {
   "cell_type": "code",
   "execution_count": 26,
   "metadata": {},
   "outputs": [],
   "source": [
    "response = query_engine.query(\"미국의 인공지능 정책과 주요 변화에 대해 알려주세요\")"
   ]
  },
  {
   "cell_type": "code",
   "execution_count": 28,
   "metadata": {},
   "outputs": [
    {
     "name": "stdout",
     "output_type": "stream",
     "text": [
      "미국의 인공지능(AI) 정책은 연방의회에서 초당적인 노력을 통해 강화되고 있으며, AI 위험성과 잠재력을 법적으로 다루는 법안을 마련하기 위한 노력이 진행되고 있습니다. 또한, AI 규율이 연방의회에서 중점 논의되고 있으며, AI 관련 법안을 제출하는 양원(상․하원) 의원들이 초당적으로 협력하고 있습니다. 미국은 AI 개발에 투자하여 리더십을 유지하고, 중국과의 경쟁에서 우위를 차지하기 위해 정부자금을 증액하는 방향으로 변화하고 있습니다.\n"
     ]
    }
   ],
   "source": [
    "print(response)"
   ]
  },
  {
   "cell_type": "code",
   "execution_count": 27,
   "metadata": {},
   "outputs": [
    {
     "name": "stdout",
     "output_type": "stream",
     "text": [
      "{'a88be022-0899-4850-a737-224f822dc22a': {'page_label': '1', 'file_name': '240828_(AI리포트)_미국의_인공지능(AI)_정책,전략.pdf', 'file_path': '..\\\\data\\\\240828_(AI리포트)_미국의_인공지능(AI)_정책,전략.pdf', 'file_type': 'application/pdf', 'file_size': 359946, 'creation_date': '2025-01-31', 'last_modified_date': '2025-01-31'}, '90944b50-f8f2-4d17-a797-72b06f936bb9': {'page_label': '4', 'file_name': '240828_(AI리포트)_미국의_인공지능(AI)_정책,전략.pdf', 'file_path': '..\\\\data\\\\240828_(AI리포트)_미국의_인공지능(AI)_정책,전략.pdf', 'file_type': 'application/pdf', 'file_size': 359946, 'creation_date': '2025-01-31', 'last_modified_date': '2025-01-31'}}\n"
     ]
    }
   ],
   "source": [
    "print(response.metadata)"
   ]
  }
 ],
 "metadata": {
  "kernelspec": {
   "display_name": "LlamaIndex_VENV",
   "language": "python",
   "name": "python3"
  },
  "language_info": {
   "codemirror_mode": {
    "name": "ipython",
    "version": 3
   },
   "file_extension": ".py",
   "mimetype": "text/x-python",
   "name": "python",
   "nbconvert_exporter": "python",
   "pygments_lexer": "ipython3",
   "version": "3.10.7"
  }
 },
 "nbformat": 4,
 "nbformat_minor": 2
}
