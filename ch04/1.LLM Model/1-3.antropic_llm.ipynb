{
 "cells": [
  {
   "cell_type": "code",
   "execution_count": 14,
   "metadata": {},
   "outputs": [
    {
     "name": "stdout",
     "output_type": "stream",
     "text": [
      "^C\n",
      "Note: you may need to restart the kernel to use updated packages.\n"
     ]
    }
   ],
   "source": [
    "%pip uninstall llama-index-llms-anthropic"
   ]
  },
  {
   "cell_type": "code",
   "execution_count": 1,
   "metadata": {},
   "outputs": [],
   "source": [
    "from llama_index.llms.anthropic import Anthropic\n",
    "from llama_index.core import Settings\n",
    "from dotenv import load_dotenv\n",
    "\n",
    "# .env 파일을 사용하여 환경 변수 설정\n",
    "load_dotenv()\n",
    "\n",
    "# Claude 4 모델 설정\n",
    "llm = Anthropic(model=\"claude-sonnet-4-20250514\")\n",
    "\n",
    "# LlamaIndex의 글로벌 설정으로 적용\n",
    "Settings.llm = llm\n"
   ]
  },
  {
   "cell_type": "code",
   "execution_count": 2,
   "metadata": {},
   "outputs": [
    {
     "name": "stdout",
     "output_type": "stream",
     "text": [
      "이 문서의 핵심 내용은 인공지능(AI)에 대한 포괄적인 개요입니다.\n",
      "\n",
      "주요 내용을 요약하면:\n",
      "\n",
      "**인공지능의 기본 개념**\n",
      "- 인간의 학습능력, 추론능력, 지각능력, 자연언어 이해능력을 컴퓨터로 구현한 기술\n",
      "- 현대 사회 다양한 분야에서 혁신을 주도\n",
      "\n",
      "**핵심 기술 분야**\n",
      "- 머신러닝: 데이터에서 패턴을 학습하여 의사결정하는 기술 (지도학습, 비지도학습, 강화학습)\n",
      "- 딥러닝: 인공신경망을 활용한 머신러닝의 하위 분야 (컴퓨터 비전, 자연어 처리, 음성 인식에서 우수한 성능)\n",
      "\n",
      "**실제 응용 분야**\n",
      "- 의료: 질병 진단, 신약 개발\n",
      "- 금융: 주식 거래, 사기 탐지  \n",
      "- 자율주행: 차량 제어, 환경 인식\n",
      "- 교육: 개인화 학습, 학습자 분석\n",
      "\n",
      "**미래 전망**\n",
      "- 범용 인공지능(AGI) 개발\n",
      "- 인간-AI 협력 시스템\n",
      "- 윤리적 AI 프레임워크\n",
      "\n",
      "전체적으로 인공지능의 정의부터 주요 기술, 현재 활용 사례, 그리고 미래 발전 방향까지 체계적으로 설명한 종합적인 가이드 문서입니다.\n"
     ]
    }
   ],
   "source": [
    "from llama_index.core import VectorStoreIndex, SimpleDirectoryReader\n",
    "\n",
    "# 문서 로드\n",
    "documents = SimpleDirectoryReader(input_dir=\"../data\", required_exts=[\".txt\"]).load_data()\n",
    "\n",
    "# 인덱스 생성\n",
    "index = VectorStoreIndex.from_documents(documents)\n",
    "\n",
    "# 쿼리 엔진 생성 및 실행\n",
    "query_engine = index.as_query_engine()\n",
    "response = query_engine.query(\"이 문서의 핵심 내용은 무엇인가요? 한국어로 대답해 주세요.\")\n",
    "print(response)\n"
   ]
  }
 ],
 "metadata": {
  "kernelspec": {
   "display_name": "LlamaIndex_VENV",
   "language": "python",
   "name": "python3"
  },
  "language_info": {
   "codemirror_mode": {
    "name": "ipython",
    "version": 3
   },
   "file_extension": ".py",
   "mimetype": "text/x-python",
   "name": "python",
   "nbconvert_exporter": "python",
   "pygments_lexer": "ipython3",
   "version": "3.13.1"
  }
 },
 "nbformat": 4,
 "nbformat_minor": 2
}
