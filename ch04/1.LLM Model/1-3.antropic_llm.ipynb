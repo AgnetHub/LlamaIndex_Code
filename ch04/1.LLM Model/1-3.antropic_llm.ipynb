{
 "cells": [
  {
   "cell_type": "code",
   "execution_count": 2,
   "metadata": {},
   "outputs": [
    {
     "name": "stdout",
     "output_type": "stream",
     "text": [
      "Requirement already satisfied: llama-index-llms-anthropic in c:\\code\\llamaindex_code-main\\llamaindex_venv\\lib\\site-packages (0.6.10)\n",
      "Requirement already satisfied: llama-index-core<0.13.0,>=0.12.5 in c:\\code\\llamaindex_code-main\\llamaindex_venv\\lib\\site-packages (from llama-index-llms-anthropic) (0.12.27)\n",
      "Requirement already satisfied: anthropic[bedrock,vertex]>=0.49.0 in c:\\code\\llamaindex_code-main\\llamaindex_venv\\lib\\site-packages (from llama-index-llms-anthropic) (0.49.0)\n",
      "Requirement already satisfied: distro<2,>=1.7.0 in c:\\code\\llamaindex_code-main\\llamaindex_venv\\lib\\site-packages (from anthropic[bedrock,vertex]>=0.49.0->llama-index-llms-anthropic) (1.9.0)\n",
      "Requirement already satisfied: httpx<1,>=0.23.0 in c:\\code\\llamaindex_code-main\\llamaindex_venv\\lib\\site-packages (from anthropic[bedrock,vertex]>=0.49.0->llama-index-llms-anthropic) (0.28.1)\n",
      "Requirement already satisfied: pydantic<3,>=1.9.0 in c:\\code\\llamaindex_code-main\\llamaindex_venv\\lib\\site-packages (from anthropic[bedrock,vertex]>=0.49.0->llama-index-llms-anthropic) (2.10.6)\n",
      "Requirement already satisfied: sniffio in c:\\code\\llamaindex_code-main\\llamaindex_venv\\lib\\site-packages (from anthropic[bedrock,vertex]>=0.49.0->llama-index-llms-anthropic) (1.3.1)\n",
      "Requirement already satisfied: jiter<1,>=0.4.0 in c:\\code\\llamaindex_code-main\\llamaindex_venv\\lib\\site-packages (from anthropic[bedrock,vertex]>=0.49.0->llama-index-llms-anthropic) (0.8.2)\n",
      "Requirement already satisfied: anyio<5,>=3.5.0 in c:\\code\\llamaindex_code-main\\llamaindex_venv\\lib\\site-packages (from anthropic[bedrock,vertex]>=0.49.0->llama-index-llms-anthropic) (4.8.0)\n",
      "Requirement already satisfied: typing-extensions<5,>=4.10 in c:\\code\\llamaindex_code-main\\llamaindex_venv\\lib\\site-packages (from anthropic[bedrock,vertex]>=0.49.0->llama-index-llms-anthropic) (4.12.2)\n",
      "Requirement already satisfied: boto3>=1.28.57 in c:\\code\\llamaindex_code-main\\llamaindex_venv\\lib\\site-packages (from anthropic[bedrock,vertex]>=0.49.0->llama-index-llms-anthropic) (1.37.26)\n",
      "Requirement already satisfied: botocore>=1.31.57 in c:\\code\\llamaindex_code-main\\llamaindex_venv\\lib\\site-packages (from anthropic[bedrock,vertex]>=0.49.0->llama-index-llms-anthropic) (1.37.26)\n",
      "Requirement already satisfied: google-auth<3,>=2 in c:\\code\\llamaindex_code-main\\llamaindex_venv\\lib\\site-packages (from anthropic[bedrock,vertex]>=0.49.0->llama-index-llms-anthropic) (2.38.0)\n",
      "Requirement already satisfied: PyYAML>=6.0.1 in c:\\code\\llamaindex_code-main\\llamaindex_venv\\lib\\site-packages (from llama-index-core<0.13.0,>=0.12.5->llama-index-llms-anthropic) (6.0.2)\n",
      "Requirement already satisfied: filetype<2.0.0,>=1.2.0 in c:\\code\\llamaindex_code-main\\llamaindex_venv\\lib\\site-packages (from llama-index-core<0.13.0,>=0.12.5->llama-index-llms-anthropic) (1.2.0)\n",
      "Requirement already satisfied: SQLAlchemy[asyncio]>=1.4.49 in c:\\code\\llamaindex_code-main\\llamaindex_venv\\lib\\site-packages (from llama-index-core<0.13.0,>=0.12.5->llama-index-llms-anthropic) (2.0.38)\n",
      "Requirement already satisfied: wrapt in c:\\code\\llamaindex_code-main\\llamaindex_venv\\lib\\site-packages (from llama-index-core<0.13.0,>=0.12.5->llama-index-llms-anthropic) (1.17.2)\n",
      "Requirement already satisfied: numpy in c:\\code\\llamaindex_code-main\\llamaindex_venv\\lib\\site-packages (from llama-index-core<0.13.0,>=0.12.5->llama-index-llms-anthropic) (2.2.4)\n",
      "Requirement already satisfied: networkx>=3.0 in c:\\code\\llamaindex_code-main\\llamaindex_venv\\lib\\site-packages (from llama-index-core<0.13.0,>=0.12.5->llama-index-llms-anthropic) (3.4.2)\n",
      "Requirement already satisfied: dirtyjson<2.0.0,>=1.0.8 in c:\\code\\llamaindex_code-main\\llamaindex_venv\\lib\\site-packages (from llama-index-core<0.13.0,>=0.12.5->llama-index-llms-anthropic) (1.0.8)\n",
      "Requirement already satisfied: fsspec>=2023.5.0 in c:\\code\\llamaindex_code-main\\llamaindex_venv\\lib\\site-packages (from llama-index-core<0.13.0,>=0.12.5->llama-index-llms-anthropic) (2025.2.0)\n",
      "Requirement already satisfied: pillow>=9.0.0 in c:\\code\\llamaindex_code-main\\llamaindex_venv\\lib\\site-packages (from llama-index-core<0.13.0,>=0.12.5->llama-index-llms-anthropic) (10.4.0)\n",
      "Requirement already satisfied: dataclasses-json in c:\\code\\llamaindex_code-main\\llamaindex_venv\\lib\\site-packages (from llama-index-core<0.13.0,>=0.12.5->llama-index-llms-anthropic) (0.6.7)\n",
      "Requirement already satisfied: requests>=2.31.0 in c:\\code\\llamaindex_code-main\\llamaindex_venv\\lib\\site-packages (from llama-index-core<0.13.0,>=0.12.5->llama-index-llms-anthropic) (2.32.3)\n",
      "Requirement already satisfied: tenacity!=8.4.0,<10.0.0,>=8.2.0 in c:\\code\\llamaindex_code-main\\llamaindex_venv\\lib\\site-packages (from llama-index-core<0.13.0,>=0.12.5->llama-index-llms-anthropic) (9.0.0)\n",
      "Requirement already satisfied: tqdm<5.0.0,>=4.66.1 in c:\\code\\llamaindex_code-main\\llamaindex_venv\\lib\\site-packages (from llama-index-core<0.13.0,>=0.12.5->llama-index-llms-anthropic) (4.67.1)\n",
      "Requirement already satisfied: typing-inspect>=0.8.0 in c:\\code\\llamaindex_code-main\\llamaindex_venv\\lib\\site-packages (from llama-index-core<0.13.0,>=0.12.5->llama-index-llms-anthropic) (0.9.0)\n",
      "Requirement already satisfied: banks<3.0.0,>=2.0.0 in c:\\code\\llamaindex_code-main\\llamaindex_venv\\lib\\site-packages (from llama-index-core<0.13.0,>=0.12.5->llama-index-llms-anthropic) (2.1.1)\n",
      "Requirement already satisfied: nest-asyncio<2.0.0,>=1.5.8 in c:\\code\\llamaindex_code-main\\llamaindex_venv\\lib\\site-packages (from llama-index-core<0.13.0,>=0.12.5->llama-index-llms-anthropic) (1.6.0)\n",
      "Requirement already satisfied: aiohttp<4.0.0,>=3.8.6 in c:\\code\\llamaindex_code-main\\llamaindex_venv\\lib\\site-packages (from llama-index-core<0.13.0,>=0.12.5->llama-index-llms-anthropic) (3.11.12)\n",
      "Requirement already satisfied: tiktoken>=0.3.3 in c:\\code\\llamaindex_code-main\\llamaindex_venv\\lib\\site-packages (from llama-index-core<0.13.0,>=0.12.5->llama-index-llms-anthropic) (0.9.0)\n",
      "Requirement already satisfied: deprecated>=1.2.9.3 in c:\\code\\llamaindex_code-main\\llamaindex_venv\\lib\\site-packages (from llama-index-core<0.13.0,>=0.12.5->llama-index-llms-anthropic) (1.2.18)\n",
      "Requirement already satisfied: nltk>3.8.1 in c:\\code\\llamaindex_code-main\\llamaindex_venv\\lib\\site-packages (from llama-index-core<0.13.0,>=0.12.5->llama-index-llms-anthropic) (3.9.1)\n",
      "Requirement already satisfied: multidict<7.0,>=4.5 in c:\\code\\llamaindex_code-main\\llamaindex_venv\\lib\\site-packages (from aiohttp<4.0.0,>=3.8.6->llama-index-core<0.13.0,>=0.12.5->llama-index-llms-anthropic) (6.1.0)\n",
      "Requirement already satisfied: async-timeout<6.0,>=4.0 in c:\\code\\llamaindex_code-main\\llamaindex_venv\\lib\\site-packages (from aiohttp<4.0.0,>=3.8.6->llama-index-core<0.13.0,>=0.12.5->llama-index-llms-anthropic) (5.0.1)\n",
      "Requirement already satisfied: propcache>=0.2.0 in c:\\code\\llamaindex_code-main\\llamaindex_venv\\lib\\site-packages (from aiohttp<4.0.0,>=3.8.6->llama-index-core<0.13.0,>=0.12.5->llama-index-llms-anthropic) (0.3.0)\n",
      "Requirement already satisfied: aiosignal>=1.1.2 in c:\\code\\llamaindex_code-main\\llamaindex_venv\\lib\\site-packages (from aiohttp<4.0.0,>=3.8.6->llama-index-core<0.13.0,>=0.12.5->llama-index-llms-anthropic) (1.3.2)\n",
      "Requirement already satisfied: frozenlist>=1.1.1 in c:\\code\\llamaindex_code-main\\llamaindex_venv\\lib\\site-packages (from aiohttp<4.0.0,>=3.8.6->llama-index-core<0.13.0,>=0.12.5->llama-index-llms-anthropic) (1.5.0)\n",
      "Requirement already satisfied: attrs>=17.3.0 in c:\\code\\llamaindex_code-main\\llamaindex_venv\\lib\\site-packages (from aiohttp<4.0.0,>=3.8.6->llama-index-core<0.13.0,>=0.12.5->llama-index-llms-anthropic) (25.1.0)\n",
      "Requirement already satisfied: yarl<2.0,>=1.17.0 in c:\\code\\llamaindex_code-main\\llamaindex_venv\\lib\\site-packages (from aiohttp<4.0.0,>=3.8.6->llama-index-core<0.13.0,>=0.12.5->llama-index-llms-anthropic) (1.18.3)\n",
      "Requirement already satisfied: aiohappyeyeballs>=2.3.0 in c:\\code\\llamaindex_code-main\\llamaindex_venv\\lib\\site-packages (from aiohttp<4.0.0,>=3.8.6->llama-index-core<0.13.0,>=0.12.5->llama-index-llms-anthropic) (2.4.6)\n",
      "Requirement already satisfied: exceptiongroup>=1.0.2 in c:\\code\\llamaindex_code-main\\llamaindex_venv\\lib\\site-packages (from anyio<5,>=3.5.0->anthropic[bedrock,vertex]>=0.49.0->llama-index-llms-anthropic) (1.2.2)\n",
      "Requirement already satisfied: idna>=2.8 in c:\\code\\llamaindex_code-main\\llamaindex_venv\\lib\\site-packages (from anyio<5,>=3.5.0->anthropic[bedrock,vertex]>=0.49.0->llama-index-llms-anthropic) (3.10)\n",
      "Requirement already satisfied: platformdirs in c:\\code\\llamaindex_code-main\\llamaindex_venv\\lib\\site-packages (from banks<3.0.0,>=2.0.0->llama-index-core<0.13.0,>=0.12.5->llama-index-llms-anthropic) (4.3.6)\n",
      "Requirement already satisfied: griffe in c:\\code\\llamaindex_code-main\\llamaindex_venv\\lib\\site-packages (from banks<3.0.0,>=2.0.0->llama-index-core<0.13.0,>=0.12.5->llama-index-llms-anthropic) (1.7.2)\n",
      "Requirement already satisfied: jinja2 in c:\\code\\llamaindex_code-main\\llamaindex_venv\\lib\\site-packages (from banks<3.0.0,>=2.0.0->llama-index-core<0.13.0,>=0.12.5->llama-index-llms-anthropic) (3.1.5)\n",
      "Requirement already satisfied: jmespath<2.0.0,>=0.7.1 in c:\\code\\llamaindex_code-main\\llamaindex_venv\\lib\\site-packages (from boto3>=1.28.57->anthropic[bedrock,vertex]>=0.49.0->llama-index-llms-anthropic) (1.0.1)\n",
      "Requirement already satisfied: s3transfer<0.12.0,>=0.11.0 in c:\\code\\llamaindex_code-main\\llamaindex_venv\\lib\\site-packages (from boto3>=1.28.57->anthropic[bedrock,vertex]>=0.49.0->llama-index-llms-anthropic) (0.11.4)\n",
      "Requirement already satisfied: python-dateutil<3.0.0,>=2.1 in c:\\code\\llamaindex_code-main\\llamaindex_venv\\lib\\site-packages (from botocore>=1.31.57->anthropic[bedrock,vertex]>=0.49.0->llama-index-llms-anthropic) (2.9.0.post0)\n",
      "Requirement already satisfied: urllib3!=2.2.0,<3,>=1.25.4 in c:\\code\\llamaindex_code-main\\llamaindex_venv\\lib\\site-packages (from botocore>=1.31.57->anthropic[bedrock,vertex]>=0.49.0->llama-index-llms-anthropic) (2.3.0)\n",
      "Requirement already satisfied: pyasn1-modules>=0.2.1 in c:\\code\\llamaindex_code-main\\llamaindex_venv\\lib\\site-packages (from google-auth<3,>=2->anthropic[bedrock,vertex]>=0.49.0->llama-index-llms-anthropic) (0.4.1)\n",
      "Requirement already satisfied: cachetools<6.0,>=2.0.0 in c:\\code\\llamaindex_code-main\\llamaindex_venv\\lib\\site-packages (from google-auth<3,>=2->anthropic[bedrock,vertex]>=0.49.0->llama-index-llms-anthropic) (5.5.2)\n",
      "Requirement already satisfied: rsa<5,>=3.1.4 in c:\\code\\llamaindex_code-main\\llamaindex_venv\\lib\\site-packages (from google-auth<3,>=2->anthropic[bedrock,vertex]>=0.49.0->llama-index-llms-anthropic) (4.9)\n",
      "Requirement already satisfied: certifi in c:\\code\\llamaindex_code-main\\llamaindex_venv\\lib\\site-packages (from httpx<1,>=0.23.0->anthropic[bedrock,vertex]>=0.49.0->llama-index-llms-anthropic) (2025.1.31)\n",
      "Requirement already satisfied: httpcore==1.* in c:\\code\\llamaindex_code-main\\llamaindex_venv\\lib\\site-packages (from httpx<1,>=0.23.0->anthropic[bedrock,vertex]>=0.49.0->llama-index-llms-anthropic) (1.0.7)\n",
      "Requirement already satisfied: h11<0.15,>=0.13 in c:\\code\\llamaindex_code-main\\llamaindex_venv\\lib\\site-packages (from httpcore==1.*->httpx<1,>=0.23.0->anthropic[bedrock,vertex]>=0.49.0->llama-index-llms-anthropic) (0.14.0)\n",
      "Requirement already satisfied: joblib in c:\\code\\llamaindex_code-main\\llamaindex_venv\\lib\\site-packages (from nltk>3.8.1->llama-index-core<0.13.0,>=0.12.5->llama-index-llms-anthropic) (1.4.2)\n",
      "Requirement already satisfied: click in c:\\code\\llamaindex_code-main\\llamaindex_venv\\lib\\site-packages (from nltk>3.8.1->llama-index-core<0.13.0,>=0.12.5->llama-index-llms-anthropic) (8.1.8)\n",
      "Requirement already satisfied: regex>=2021.8.3 in c:\\code\\llamaindex_code-main\\llamaindex_venv\\lib\\site-packages (from nltk>3.8.1->llama-index-core<0.13.0,>=0.12.5->llama-index-llms-anthropic) (2024.11.6)\n",
      "Requirement already satisfied: pydantic-core==2.27.2 in c:\\code\\llamaindex_code-main\\llamaindex_venv\\lib\\site-packages (from pydantic<3,>=1.9.0->anthropic[bedrock,vertex]>=0.49.0->llama-index-llms-anthropic) (2.27.2)\n",
      "Requirement already satisfied: annotated-types>=0.6.0 in c:\\code\\llamaindex_code-main\\llamaindex_venv\\lib\\site-packages (from pydantic<3,>=1.9.0->anthropic[bedrock,vertex]>=0.49.0->llama-index-llms-anthropic) (0.7.0)\n",
      "Requirement already satisfied: charset-normalizer<4,>=2 in c:\\code\\llamaindex_code-main\\llamaindex_venv\\lib\\site-packages (from requests>=2.31.0->llama-index-core<0.13.0,>=0.12.5->llama-index-llms-anthropic) (3.4.1)\n",
      "Requirement already satisfied: greenlet!=0.4.17 in c:\\code\\llamaindex_code-main\\llamaindex_venv\\lib\\site-packages (from SQLAlchemy[asyncio]>=1.4.49->llama-index-core<0.13.0,>=0.12.5->llama-index-llms-anthropic) (3.1.1)\n",
      "Requirement already satisfied: colorama in c:\\code\\llamaindex_code-main\\llamaindex_venv\\lib\\site-packages (from tqdm<5.0.0,>=4.66.1->llama-index-core<0.13.0,>=0.12.5->llama-index-llms-anthropic) (0.4.6)\n",
      "Requirement already satisfied: mypy-extensions>=0.3.0 in c:\\code\\llamaindex_code-main\\llamaindex_venv\\lib\\site-packages (from typing-inspect>=0.8.0->llama-index-core<0.13.0,>=0.12.5->llama-index-llms-anthropic) (1.0.0)\n",
      "Requirement already satisfied: marshmallow<4.0.0,>=3.18.0 in c:\\code\\llamaindex_code-main\\llamaindex_venv\\lib\\site-packages (from dataclasses-json->llama-index-core<0.13.0,>=0.12.5->llama-index-llms-anthropic) (3.26.1)\n",
      "Requirement already satisfied: packaging>=17.0 in c:\\code\\llamaindex_code-main\\llamaindex_venv\\lib\\site-packages (from marshmallow<4.0.0,>=3.18.0->dataclasses-json->llama-index-core<0.13.0,>=0.12.5->llama-index-llms-anthropic) (24.2)\n",
      "Requirement already satisfied: pyasn1<0.7.0,>=0.4.6 in c:\\code\\llamaindex_code-main\\llamaindex_venv\\lib\\site-packages (from pyasn1-modules>=0.2.1->google-auth<3,>=2->anthropic[bedrock,vertex]>=0.49.0->llama-index-llms-anthropic) (0.6.1)\n",
      "Requirement already satisfied: six>=1.5 in c:\\code\\llamaindex_code-main\\llamaindex_venv\\lib\\site-packages (from python-dateutil<3.0.0,>=2.1->botocore>=1.31.57->anthropic[bedrock,vertex]>=0.49.0->llama-index-llms-anthropic) (1.17.0)\n",
      "Requirement already satisfied: MarkupSafe>=2.0 in c:\\code\\llamaindex_code-main\\llamaindex_venv\\lib\\site-packages (from jinja2->banks<3.0.0,>=2.0.0->llama-index-core<0.13.0,>=0.12.5->llama-index-llms-anthropic) (3.0.2)\n",
      "Note: you may need to restart the kernel to use updated packages.\n"
     ]
    },
    {
     "name": "stderr",
     "output_type": "stream",
     "text": [
      "WARNING: There was an error checking the latest version of pip.\n"
     ]
    }
   ],
   "source": [
    "%pip install llama-index-llms-anthropic"
   ]
  },
  {
   "cell_type": "code",
   "execution_count": 3,
   "metadata": {},
   "outputs": [],
   "source": [
    "from llama_index.llms.anthropic import Anthropic\n",
    "from llama_index.core import Settings\n",
    "from dotenv import load_dotenv\n",
    "\n",
    "# .env 파일을 사용하여 환경 변수 설정\n",
    "load_dotenv()\n",
    "\n",
    "# Claude 3.5 모델 설정\n",
    "llm = Anthropic(model=\"claude-3-5-sonnet-latest\")\n",
    "\n",
    "# LlamaIndex의 글로벌 설정으로 적용\n",
    "Settings.llm = llm\n"
   ]
  },
  {
   "cell_type": "code",
   "execution_count": 4,
   "metadata": {},
   "outputs": [
    {
     "name": "stdout",
     "output_type": "stream",
     "text": [
      "이 문서는 인공지능(AI)의 기본 개념과 주요 분야를 포괄적으로 설명하고 있습니다.\n",
      "\n",
      "주요 내용은 다음과 같습니다:\n",
      "\n",
      "1. 인공지능의 기본 정의와 특성\n",
      "2. 머신러닝의 세 가지 학습 방식 (지도학습, 비지도학습, 강화학습)\n",
      "3. 딥러닝의 특징과 주요 적용 분야\n",
      "4. 의료, 금융, 자율주행, 교육 등 실제 산업에서의 인공지능 응용\n",
      "5. 범용 인공지능 개발, 인간-AI 협력 시스템, 윤리적 AI 프레임워크 등 미래 발전 방향\n",
      "\n",
      "이 문서는 인공지능 기술의 현재와 미래를 체계적으로 정리하여 설명하고 있으며, 특히 기술의 실용적 응용과 앞으로의 발전 가능성에 중점을 두고 있습니다.\n"
     ]
    }
   ],
   "source": [
    "from llama_index.core import VectorStoreIndex, SimpleDirectoryReader\n",
    "\n",
    "# 문서 로드\n",
    "documents = SimpleDirectoryReader(input_dir=\"../data\", required_exts=[\".txt\"]).load_data()\n",
    "\n",
    "# 인덱스 생성\n",
    "index = VectorStoreIndex.from_documents(documents)\n",
    "\n",
    "# 쿼리 엔진 생성 및 실행\n",
    "query_engine = index.as_query_engine()\n",
    "response = query_engine.query(\"이 문서의 핵심 내용은 무엇인가요? 한국어로 대답해 주세요.\")\n",
    "print(response)\n"
   ]
  }
 ],
 "metadata": {
  "kernelspec": {
   "display_name": "LlamaIndex_VENV",
   "language": "python",
   "name": "python3"
  },
  "language_info": {
   "codemirror_mode": {
    "name": "ipython",
    "version": 3
   },
   "file_extension": ".py",
   "mimetype": "text/x-python",
   "name": "python",
   "nbconvert_exporter": "python",
   "pygments_lexer": "ipython3",
   "version": "3.10.7"
  }
 },
 "nbformat": 4,
 "nbformat_minor": 2
}
