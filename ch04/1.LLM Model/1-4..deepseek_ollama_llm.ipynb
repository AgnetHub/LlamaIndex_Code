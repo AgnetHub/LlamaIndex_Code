{
 "cells": [
  {
   "cell_type": "code",
   "execution_count": null,
   "metadata": {},
   "outputs": [],
   "source": [
    "pip install llama-index-llms-ollama"
   ]
  },
  {
   "cell_type": "code",
   "execution_count": null,
   "metadata": {},
   "outputs": [
    {
     "name": "stdout",
     "output_type": "stream",
     "text": [
      "<think>\n",
      "Okay, so I need to figure out what the capital of South Korea is. Hmm, let me start by recalling what I know about South Korea. I think it's a country in East Asia, right? They have a big city called Seoul that I've heard about before. Wait, was there something about a river going through it or maybe some historical sites?\n",
      "\n",
      "I remember that many countries have their capitals where the government is located. So for South Korea, the capital should be where the administrative center is. From what I can recall, it's not one of the smaller cities; it's a major metropolitan area. I think it's in the northwest part of the country, maybe along the Han River. \n",
      "\n",
      "Let me try to visualize a map of South Korea. There's the country with Pyongyang as the capital of North Korea nearby. South Korea has a different history and government, so their capital should be somewhere else. I believe it's Seoul because that's the most mentioned city when talking about South Korea.\n",
      "\n",
      "I'm trying to remember if there were any specific events or landmarks associated with Seoul. Oh right, there's Gyeongbokgung Palace which is an ancient royal palace. Also, the Han River flows through it and has bridges connecting different parts of the city. I think those bridges are significant because they're part of the urban infrastructure.\n",
      "\n",
      "Wait, but sometimes countries have capitals that are moved for political reasons. Is there a chance that South Korea's capital was moved from somewhere else? No, I don't think so. Seoul has been the capital for a long time and is the cultural and economic hub. So it makes sense that the government would be based there.\n",
      "\n",
      "To double-check, I can think about famous landmarks or events associated with South Korea's capital. The 1988 Summer Olympics were hosted in Seoul, which is a big event and probably wouldn't happen in a non-capital city. Also, many international conferences and meetings are held in Seoul because of its status as the capital.\n",
      "\n",
      "Another point to consider: administrative functions like the president's office, legislative buildings, and government ministries must be located in the capital. I don't think those would be scattered around other cities; they're concentrated in one place, which is Seoul.\n",
      "\n",
      "I should also remember that sometimes people confuse capitals with other important cities. For example, Tokyo is a major city in Japan but not the capital. Similarly, Osaka is a big city in Japan but not the capital either. So applying that logic, Seoul must be South Korea's capital because it's their largest and most prominent city.\n",
      "\n",
      "Wait, are there any other possibilities? Maybe Busan or Daegu? No, those are significant cities in terms of economy and culture, but they aren't the political capitals. South Korea's administrative functions are centered around Seoul, so that must be where the government is located.\n",
      "\n",
      "In summary, after considering the geographical location, historical significance, cultural importance, and governmental functions, it seems clear that Seoul is the capital of South Korea.\n",
      "</think>\n",
      "\n",
      "The capital of South Korea is **Seoul**. This city serves as the administrative, economic, and cultural hub, housing significant landmarks like Gyeongbokgung Palace and hosting major events such as the 1988 Summer Olympics. It is the gathering place for government functions, including the president's office and legislative buildings, making it the political heart of the nation.\n"
     ]
    }
   ],
   "source": [
    "from llama_index.llms.ollama import Ollama\n",
    "\n",
    "ollama_model = Ollama(model=\"deepseek-r1:8b\", request_timeout=300)\n",
    "\n",
    "print(ollama_model.complete(\"what is the capital of South Korea?\"))"
   ]
  },
  {
   "cell_type": "code",
   "execution_count": null,
   "metadata": {},
   "outputs": [],
   "source": []
  }
 ],
 "metadata": {
  "kernelspec": {
   "display_name": "LlamaIndex_VENV",
   "language": "python",
   "name": "python3"
  },
  "language_info": {
   "codemirror_mode": {
    "name": "ipython",
    "version": 3
   },
   "file_extension": ".py",
   "mimetype": "text/x-python",
   "name": "python",
   "nbconvert_exporter": "python",
   "pygments_lexer": "ipython3",
   "version": "3.13.1"
  }
 },
 "nbformat": 4,
 "nbformat_minor": 2
}
