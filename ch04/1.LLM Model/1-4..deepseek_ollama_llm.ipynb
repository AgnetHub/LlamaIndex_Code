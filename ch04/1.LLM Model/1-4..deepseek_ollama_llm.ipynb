{
 "cells": [
  {
   "cell_type": "code",
   "execution_count": 2,
   "metadata": {},
   "outputs": [
    {
     "name": "stdout",
     "output_type": "stream",
     "text": [
      "Requirement already satisfied: llama-index-llms-ollama in c:\\code\\llamaindex_code-main\\llamaindex_venv\\lib\\site-packages (0.5.4)\n",
      "Requirement already satisfied: llama-index-core<0.13.0,>=0.12.4 in c:\\code\\llamaindex_code-main\\llamaindex_venv\\lib\\site-packages (from llama-index-llms-ollama) (0.12.27)\n",
      "Requirement already satisfied: ollama>=0.4.3 in c:\\code\\llamaindex_code-main\\llamaindex_venv\\lib\\site-packages (from llama-index-llms-ollama) (0.4.7)\n",
      "Requirement already satisfied: pydantic>=2.8.0 in c:\\code\\llamaindex_code-main\\llamaindex_venv\\lib\\site-packages (from llama-index-core<0.13.0,>=0.12.4->llama-index-llms-ollama) (2.10.6)\n",
      "Requirement already satisfied: tqdm<5.0.0,>=4.66.1 in c:\\code\\llamaindex_code-main\\llamaindex_venv\\lib\\site-packages (from llama-index-core<0.13.0,>=0.12.4->llama-index-llms-ollama) (4.67.1)\n",
      "Requirement already satisfied: numpy in c:\\code\\llamaindex_code-main\\llamaindex_venv\\lib\\site-packages (from llama-index-core<0.13.0,>=0.12.4->llama-index-llms-ollama) (2.2.4)\n",
      "Requirement already satisfied: PyYAML>=6.0.1 in c:\\code\\llamaindex_code-main\\llamaindex_venv\\lib\\site-packages (from llama-index-core<0.13.0,>=0.12.4->llama-index-llms-ollama) (6.0.2)\n",
      "Requirement already satisfied: tenacity!=8.4.0,<10.0.0,>=8.2.0 in c:\\code\\llamaindex_code-main\\llamaindex_venv\\lib\\site-packages (from llama-index-core<0.13.0,>=0.12.4->llama-index-llms-ollama) (9.0.0)\n",
      "Requirement already satisfied: wrapt in c:\\code\\llamaindex_code-main\\llamaindex_venv\\lib\\site-packages (from llama-index-core<0.13.0,>=0.12.4->llama-index-llms-ollama) (1.17.2)\n",
      "Requirement already satisfied: httpx in c:\\code\\llamaindex_code-main\\llamaindex_venv\\lib\\site-packages (from llama-index-core<0.13.0,>=0.12.4->llama-index-llms-ollama) (0.28.1)\n",
      "Requirement already satisfied: typing-inspect>=0.8.0 in c:\\code\\llamaindex_code-main\\llamaindex_venv\\lib\\site-packages (from llama-index-core<0.13.0,>=0.12.4->llama-index-llms-ollama) (0.9.0)\n",
      "Requirement already satisfied: dataclasses-json in c:\\code\\llamaindex_code-main\\llamaindex_venv\\lib\\site-packages (from llama-index-core<0.13.0,>=0.12.4->llama-index-llms-ollama) (0.6.7)\n",
      "Requirement already satisfied: banks<3.0.0,>=2.0.0 in c:\\code\\llamaindex_code-main\\llamaindex_venv\\lib\\site-packages (from llama-index-core<0.13.0,>=0.12.4->llama-index-llms-ollama) (2.1.1)\n",
      "Requirement already satisfied: SQLAlchemy[asyncio]>=1.4.49 in c:\\code\\llamaindex_code-main\\llamaindex_venv\\lib\\site-packages (from llama-index-core<0.13.0,>=0.12.4->llama-index-llms-ollama) (2.0.38)\n",
      "Requirement already satisfied: filetype<2.0.0,>=1.2.0 in c:\\code\\llamaindex_code-main\\llamaindex_venv\\lib\\site-packages (from llama-index-core<0.13.0,>=0.12.4->llama-index-llms-ollama) (1.2.0)\n",
      "Requirement already satisfied: networkx>=3.0 in c:\\code\\llamaindex_code-main\\llamaindex_venv\\lib\\site-packages (from llama-index-core<0.13.0,>=0.12.4->llama-index-llms-ollama) (3.4.2)\n",
      "Requirement already satisfied: nltk>3.8.1 in c:\\code\\llamaindex_code-main\\llamaindex_venv\\lib\\site-packages (from llama-index-core<0.13.0,>=0.12.4->llama-index-llms-ollama) (3.9.1)\n",
      "Requirement already satisfied: tiktoken>=0.3.3 in c:\\code\\llamaindex_code-main\\llamaindex_venv\\lib\\site-packages (from llama-index-core<0.13.0,>=0.12.4->llama-index-llms-ollama) (0.9.0)\n",
      "Requirement already satisfied: typing-extensions>=4.5.0 in c:\\code\\llamaindex_code-main\\llamaindex_venv\\lib\\site-packages (from llama-index-core<0.13.0,>=0.12.4->llama-index-llms-ollama) (4.12.2)\n",
      "Requirement already satisfied: requests>=2.31.0 in c:\\code\\llamaindex_code-main\\llamaindex_venv\\lib\\site-packages (from llama-index-core<0.13.0,>=0.12.4->llama-index-llms-ollama) (2.32.3)\n",
      "Requirement already satisfied: deprecated>=1.2.9.3 in c:\\code\\llamaindex_code-main\\llamaindex_venv\\lib\\site-packages (from llama-index-core<0.13.0,>=0.12.4->llama-index-llms-ollama) (1.2.18)\n",
      "Requirement already satisfied: fsspec>=2023.5.0 in c:\\code\\llamaindex_code-main\\llamaindex_venv\\lib\\site-packages (from llama-index-core<0.13.0,>=0.12.4->llama-index-llms-ollama) (2025.2.0)\n",
      "Requirement already satisfied: pillow>=9.0.0 in c:\\code\\llamaindex_code-main\\llamaindex_venv\\lib\\site-packages (from llama-index-core<0.13.0,>=0.12.4->llama-index-llms-ollama) (10.4.0)\n",
      "Requirement already satisfied: aiohttp<4.0.0,>=3.8.6 in c:\\code\\llamaindex_code-main\\llamaindex_venv\\lib\\site-packages (from llama-index-core<0.13.0,>=0.12.4->llama-index-llms-ollama) (3.11.12)\n",
      "Requirement already satisfied: nest-asyncio<2.0.0,>=1.5.8 in c:\\code\\llamaindex_code-main\\llamaindex_venv\\lib\\site-packages (from llama-index-core<0.13.0,>=0.12.4->llama-index-llms-ollama) (1.6.0)\n",
      "Requirement already satisfied: dirtyjson<2.0.0,>=1.0.8 in c:\\code\\llamaindex_code-main\\llamaindex_venv\\lib\\site-packages (from llama-index-core<0.13.0,>=0.12.4->llama-index-llms-ollama) (1.0.8)\n",
      "Requirement already satisfied: aiosignal>=1.1.2 in c:\\code\\llamaindex_code-main\\llamaindex_venv\\lib\\site-packages (from aiohttp<4.0.0,>=3.8.6->llama-index-core<0.13.0,>=0.12.4->llama-index-llms-ollama) (1.3.2)\n",
      "Requirement already satisfied: attrs>=17.3.0 in c:\\code\\llamaindex_code-main\\llamaindex_venv\\lib\\site-packages (from aiohttp<4.0.0,>=3.8.6->llama-index-core<0.13.0,>=0.12.4->llama-index-llms-ollama) (25.1.0)\n",
      "Requirement already satisfied: async-timeout<6.0,>=4.0 in c:\\code\\llamaindex_code-main\\llamaindex_venv\\lib\\site-packages (from aiohttp<4.0.0,>=3.8.6->llama-index-core<0.13.0,>=0.12.4->llama-index-llms-ollama) (5.0.1)\n",
      "Requirement already satisfied: aiohappyeyeballs>=2.3.0 in c:\\code\\llamaindex_code-main\\llamaindex_venv\\lib\\site-packages (from aiohttp<4.0.0,>=3.8.6->llama-index-core<0.13.0,>=0.12.4->llama-index-llms-ollama) (2.4.6)\n",
      "Requirement already satisfied: multidict<7.0,>=4.5 in c:\\code\\llamaindex_code-main\\llamaindex_venv\\lib\\site-packages (from aiohttp<4.0.0,>=3.8.6->llama-index-core<0.13.0,>=0.12.4->llama-index-llms-ollama) (6.1.0)\n",
      "Requirement already satisfied: frozenlist>=1.1.1 in c:\\code\\llamaindex_code-main\\llamaindex_venv\\lib\\site-packages (from aiohttp<4.0.0,>=3.8.6->llama-index-core<0.13.0,>=0.12.4->llama-index-llms-ollama) (1.5.0)\n",
      "Requirement already satisfied: yarl<2.0,>=1.17.0 in c:\\code\\llamaindex_code-main\\llamaindex_venv\\lib\\site-packages (from aiohttp<4.0.0,>=3.8.6->llama-index-core<0.13.0,>=0.12.4->llama-index-llms-ollama) (1.18.3)\n",
      "Requirement already satisfied: propcache>=0.2.0 in c:\\code\\llamaindex_code-main\\llamaindex_venv\\lib\\site-packages (from aiohttp<4.0.0,>=3.8.6->llama-index-core<0.13.0,>=0.12.4->llama-index-llms-ollama) (0.3.0)\n",
      "Requirement already satisfied: griffe in c:\\code\\llamaindex_code-main\\llamaindex_venv\\lib\\site-packages (from banks<3.0.0,>=2.0.0->llama-index-core<0.13.0,>=0.12.4->llama-index-llms-ollama) (1.7.2)\n",
      "Requirement already satisfied: jinja2 in c:\\code\\llamaindex_code-main\\llamaindex_venv\\lib\\site-packages (from banks<3.0.0,>=2.0.0->llama-index-core<0.13.0,>=0.12.4->llama-index-llms-ollama) (3.1.5)\n",
      "Requirement already satisfied: platformdirs in c:\\code\\llamaindex_code-main\\llamaindex_venv\\lib\\site-packages (from banks<3.0.0,>=2.0.0->llama-index-core<0.13.0,>=0.12.4->llama-index-llms-ollama) (4.3.6)\n",
      "Requirement already satisfied: httpcore==1.* in c:\\code\\llamaindex_code-main\\llamaindex_venv\\lib\\site-packages (from httpx->llama-index-core<0.13.0,>=0.12.4->llama-index-llms-ollama) (1.0.7)\n",
      "Requirement already satisfied: anyio in c:\\code\\llamaindex_code-main\\llamaindex_venv\\lib\\site-packages (from httpx->llama-index-core<0.13.0,>=0.12.4->llama-index-llms-ollama) (4.8.0)\n",
      "Requirement already satisfied: idna in c:\\code\\llamaindex_code-main\\llamaindex_venv\\lib\\site-packages (from httpx->llama-index-core<0.13.0,>=0.12.4->llama-index-llms-ollama) (3.10)\n",
      "Requirement already satisfied: certifi in c:\\code\\llamaindex_code-main\\llamaindex_venv\\lib\\site-packages (from httpx->llama-index-core<0.13.0,>=0.12.4->llama-index-llms-ollama) (2025.1.31)\n",
      "Requirement already satisfied: h11<0.15,>=0.13 in c:\\code\\llamaindex_code-main\\llamaindex_venv\\lib\\site-packages (from httpcore==1.*->httpx->llama-index-core<0.13.0,>=0.12.4->llama-index-llms-ollama) (0.14.0)\n",
      "Requirement already satisfied: click in c:\\code\\llamaindex_code-main\\llamaindex_venv\\lib\\site-packages (from nltk>3.8.1->llama-index-core<0.13.0,>=0.12.4->llama-index-llms-ollama) (8.1.8)\n",
      "Requirement already satisfied: regex>=2021.8.3 in c:\\code\\llamaindex_code-main\\llamaindex_venv\\lib\\site-packages (from nltk>3.8.1->llama-index-core<0.13.0,>=0.12.4->llama-index-llms-ollama) (2024.11.6)\n",
      "Requirement already satisfied: joblib in c:\\code\\llamaindex_code-main\\llamaindex_venv\\lib\\site-packages (from nltk>3.8.1->llama-index-core<0.13.0,>=0.12.4->llama-index-llms-ollama) (1.4.2)\n",
      "Requirement already satisfied: annotated-types>=0.6.0 in c:\\code\\llamaindex_code-main\\llamaindex_venv\\lib\\site-packages (from pydantic>=2.8.0->llama-index-core<0.13.0,>=0.12.4->llama-index-llms-ollama) (0.7.0)\n",
      "Requirement already satisfied: pydantic-core==2.27.2 in c:\\code\\llamaindex_code-main\\llamaindex_venv\\lib\\site-packages (from pydantic>=2.8.0->llama-index-core<0.13.0,>=0.12.4->llama-index-llms-ollama) (2.27.2)\n",
      "Requirement already satisfied: urllib3<3,>=1.21.1 in c:\\code\\llamaindex_code-main\\llamaindex_venv\\lib\\site-packages (from requests>=2.31.0->llama-index-core<0.13.0,>=0.12.4->llama-index-llms-ollama) (2.3.0)\n",
      "Requirement already satisfied: charset-normalizer<4,>=2 in c:\\code\\llamaindex_code-main\\llamaindex_venv\\lib\\site-packages (from requests>=2.31.0->llama-index-core<0.13.0,>=0.12.4->llama-index-llms-ollama) (3.4.1)\n",
      "Requirement already satisfied: greenlet!=0.4.17 in c:\\code\\llamaindex_code-main\\llamaindex_venv\\lib\\site-packages (from SQLAlchemy[asyncio]>=1.4.49->llama-index-core<0.13.0,>=0.12.4->llama-index-llms-ollama) (3.1.1)\n",
      "Requirement already satisfied: colorama in c:\\code\\llamaindex_code-main\\llamaindex_venv\\lib\\site-packages (from tqdm<5.0.0,>=4.66.1->llama-index-core<0.13.0,>=0.12.4->llama-index-llms-ollama) (0.4.6)\n",
      "Requirement already satisfied: mypy-extensions>=0.3.0 in c:\\code\\llamaindex_code-main\\llamaindex_venv\\lib\\site-packages (from typing-inspect>=0.8.0->llama-index-core<0.13.0,>=0.12.4->llama-index-llms-ollama) (1.0.0)\n",
      "Requirement already satisfied: marshmallow<4.0.0,>=3.18.0 in c:\\code\\llamaindex_code-main\\llamaindex_venv\\lib\\site-packages (from dataclasses-json->llama-index-core<0.13.0,>=0.12.4->llama-index-llms-ollama) (3.26.1)\n",
      "Requirement already satisfied: packaging>=17.0 in c:\\code\\llamaindex_code-main\\llamaindex_venv\\lib\\site-packages (from marshmallow<4.0.0,>=3.18.0->dataclasses-json->llama-index-core<0.13.0,>=0.12.4->llama-index-llms-ollama) (24.2)\n",
      "Requirement already satisfied: sniffio>=1.1 in c:\\code\\llamaindex_code-main\\llamaindex_venv\\lib\\site-packages (from anyio->httpx->llama-index-core<0.13.0,>=0.12.4->llama-index-llms-ollama) (1.3.1)\n",
      "Requirement already satisfied: exceptiongroup>=1.0.2 in c:\\code\\llamaindex_code-main\\llamaindex_venv\\lib\\site-packages (from anyio->httpx->llama-index-core<0.13.0,>=0.12.4->llama-index-llms-ollama) (1.2.2)\n",
      "Requirement already satisfied: MarkupSafe>=2.0 in c:\\code\\llamaindex_code-main\\llamaindex_venv\\lib\\site-packages (from jinja2->banks<3.0.0,>=2.0.0->llama-index-core<0.13.0,>=0.12.4->llama-index-llms-ollama) (3.0.2)\n",
      "Note: you may need to restart the kernel to use updated packages.\n"
     ]
    },
    {
     "name": "stderr",
     "output_type": "stream",
     "text": [
      "WARNING: There was an error checking the latest version of pip.\n"
     ]
    }
   ],
   "source": [
    "%pip install llama-index-llms-ollama"
   ]
  },
  {
   "cell_type": "code",
   "execution_count": 3,
   "metadata": {},
   "outputs": [
    {
     "name": "stdout",
     "output_type": "stream",
     "text": [
      "<think>\n",
      "\n",
      "</think>\n",
      "\n",
      "Hello! I'm just a virtual assistant, so I don't have feelings, but I'm here and ready to help you with whatever you need. How are you doing today? 😊\n"
     ]
    }
   ],
   "source": [
    "from llama_index.llms.ollama import Ollama\n",
    "\n",
    "ollama_model = Ollama(model=\"deepseek-r1:8b\")\n",
    "\n",
    "print(ollama_model.complete(\"Hello, how are you?\"))"
   ]
  }
 ],
 "metadata": {
  "kernelspec": {
   "display_name": "LlamaIndex_VENV",
   "language": "python",
   "name": "python3"
  },
  "language_info": {
   "codemirror_mode": {
    "name": "ipython",
    "version": 3
   },
   "file_extension": ".py",
   "mimetype": "text/x-python",
   "name": "python",
   "nbconvert_exporter": "python",
   "pygments_lexer": "ipython3",
   "version": "3.10.7"
  }
 },
 "nbformat": 4,
 "nbformat_minor": 2
}
