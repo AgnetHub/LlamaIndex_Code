{
 "cells": [
  {
   "cell_type": "code",
   "execution_count": null,
   "metadata": {},
   "outputs": [],
   "source": [
    "pip install llama-index-embeddings-openai"
   ]
  },
  {
   "cell_type": "code",
   "execution_count": 1,
   "metadata": {},
   "outputs": [
    {
     "data": {
      "text/plain": [
       "True"
      ]
     },
     "execution_count": 1,
     "metadata": {},
     "output_type": "execute_result"
    }
   ],
   "source": [
    "import os\n",
    "\n",
    "from dotenv import load_dotenv\n",
    "\n",
    "load_dotenv()"
   ]
  },
  {
   "cell_type": "markdown",
   "metadata": {},
   "source": [
    "Using OpenAI text-embedding-3-large"
   ]
  },
  {
   "cell_type": "code",
   "execution_count": null,
   "metadata": {},
   "outputs": [
    {
     "name": "stdout",
     "output_type": "stream",
     "text": [
      "Dimension of embeddings: 3072\n",
      "[-0.011500772088766098, 0.02457442320883274, -0.01760469563305378, -0.017763426527380943, 0.029841400682926178]\n"
     ]
    }
   ],
   "source": [
    "# OpenAI의 임베딩 모델을 사용하기 위한 라이브러리를 임포트합니다\n",
    "from llama_index.embeddings.openai import OpenAIEmbedding\n",
    "\n",
    "# text-embedding-3-large 모델을 사용하여 임베딩 모델을 초기화합니다\n",
    "embed_model = OpenAIEmbedding(model=\"text-embedding-3-large\")\n",
    "\n",
    "# 샘플 텍스트에 대한 임베딩을 생성합니다\n",
    "embeddings = embed_model.get_text_embedding(\"Open AI new Embeddings models is great.\")\n",
    "\n",
    "# 생성된 임베딩의 차원을 출력합니다\n",
    "print(f\"Dimension of embeddings: {len(embeddings)}\")\n",
    "# 임베딩 벡터의 처음 5개 값을 출력합니다\n",
    "print(embeddings[:5])"
   ]
  },
  {
   "cell_type": "markdown",
   "metadata": {},
   "source": [
    "Using OpenAI text-embedding-3-small"
   ]
  },
  {
   "cell_type": "code",
   "execution_count": 7,
   "metadata": {},
   "outputs": [
    {
     "name": "stdout",
     "output_type": "stream",
     "text": [
      "Dimension of embeddings: 1536\n",
      "[-0.020461713895201683, -0.04114966467022896, -0.004062806721776724, 0.008238730952143669, -0.024760182946920395]\n"
     ]
    }
   ],
   "source": [
    "embed_model = OpenAIEmbedding(model=\"text-embedding-3-small\")\n",
    "\n",
    "embeddings = embed_model.get_text_embedding(\"Open AI new Embeddings models is awesome.\")\n",
    "\n",
    "print(f\"Dimension of embeddings: {len(embeddings)}\")\n",
    "print(embeddings[:5])"
   ]
  }
 ],
 "metadata": {
  "kernelspec": {
   "display_name": "LlamaIndex_VENV",
   "language": "python",
   "name": "python3"
  },
  "language_info": {
   "codemirror_mode": {
    "name": "ipython",
    "version": 3
   },
   "file_extension": ".py",
   "mimetype": "text/x-python",
   "name": "python",
   "nbconvert_exporter": "python",
   "pygments_lexer": "ipython3",
   "version": "3.10.7"
  }
 },
 "nbformat": 4,
 "nbformat_minor": 2
}
