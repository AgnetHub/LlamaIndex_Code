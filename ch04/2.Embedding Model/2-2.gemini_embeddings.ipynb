{
 "cells": [
  {
   "cell_type": "code",
   "execution_count": 1,
   "metadata": {},
   "outputs": [
    {
     "name": "stdout",
     "output_type": "stream",
     "text": [
      "Collecting llama-index-embeddings-gemini\n",
      "  Downloading llama_index_embeddings_gemini-0.3.2-py3-none-any.whl (4.0 kB)\n",
      "Requirement already satisfied: llama-index-core<0.13.0,>=0.12.0 in c:\\code\\llamaindex_code-main\\llamaindex_venv\\lib\\site-packages (from llama-index-embeddings-gemini) (0.12.27)\n",
      "Requirement already satisfied: google-generativeai>=0.5.2 in c:\\code\\llamaindex_code-main\\llamaindex_venv\\lib\\site-packages (from llama-index-embeddings-gemini) (0.8.4)\n",
      "Requirement already satisfied: google-api-core in c:\\code\\llamaindex_code-main\\llamaindex_venv\\lib\\site-packages (from google-generativeai>=0.5.2->llama-index-embeddings-gemini) (2.24.1)\n",
      "Requirement already satisfied: google-auth>=2.15.0 in c:\\code\\llamaindex_code-main\\llamaindex_venv\\lib\\site-packages (from google-generativeai>=0.5.2->llama-index-embeddings-gemini) (2.38.0)\n",
      "Requirement already satisfied: google-ai-generativelanguage==0.6.15 in c:\\code\\llamaindex_code-main\\llamaindex_venv\\lib\\site-packages (from google-generativeai>=0.5.2->llama-index-embeddings-gemini) (0.6.15)\n",
      "Requirement already satisfied: tqdm in c:\\code\\llamaindex_code-main\\llamaindex_venv\\lib\\site-packages (from google-generativeai>=0.5.2->llama-index-embeddings-gemini) (4.67.1)\n",
      "Requirement already satisfied: pydantic in c:\\code\\llamaindex_code-main\\llamaindex_venv\\lib\\site-packages (from google-generativeai>=0.5.2->llama-index-embeddings-gemini) (2.10.6)\n",
      "Requirement already satisfied: google-api-python-client in c:\\code\\llamaindex_code-main\\llamaindex_venv\\lib\\site-packages (from google-generativeai>=0.5.2->llama-index-embeddings-gemini) (2.160.0)\n",
      "Requirement already satisfied: typing-extensions in c:\\code\\llamaindex_code-main\\llamaindex_venv\\lib\\site-packages (from google-generativeai>=0.5.2->llama-index-embeddings-gemini) (4.12.2)\n",
      "Requirement already satisfied: protobuf in c:\\code\\llamaindex_code-main\\llamaindex_venv\\lib\\site-packages (from google-generativeai>=0.5.2->llama-index-embeddings-gemini) (5.29.3)\n",
      "Requirement already satisfied: proto-plus<2.0.0dev,>=1.22.3 in c:\\code\\llamaindex_code-main\\llamaindex_venv\\lib\\site-packages (from google-ai-generativelanguage==0.6.15->google-generativeai>=0.5.2->llama-index-embeddings-gemini) (1.26.1)\n",
      "Requirement already satisfied: banks<3.0.0,>=2.0.0 in c:\\code\\llamaindex_code-main\\llamaindex_venv\\lib\\site-packages (from llama-index-core<0.13.0,>=0.12.0->llama-index-embeddings-gemini) (2.1.1)\n",
      "Requirement already satisfied: aiohttp<4.0.0,>=3.8.6 in c:\\code\\llamaindex_code-main\\llamaindex_venv\\lib\\site-packages (from llama-index-core<0.13.0,>=0.12.0->llama-index-embeddings-gemini) (3.11.12)\n",
      "Requirement already satisfied: tiktoken>=0.3.3 in c:\\code\\llamaindex_code-main\\llamaindex_venv\\lib\\site-packages (from llama-index-core<0.13.0,>=0.12.0->llama-index-embeddings-gemini) (0.9.0)\n",
      "Requirement already satisfied: dirtyjson<2.0.0,>=1.0.8 in c:\\code\\llamaindex_code-main\\llamaindex_venv\\lib\\site-packages (from llama-index-core<0.13.0,>=0.12.0->llama-index-embeddings-gemini) (1.0.8)\n",
      "Requirement already satisfied: typing-inspect>=0.8.0 in c:\\code\\llamaindex_code-main\\llamaindex_venv\\lib\\site-packages (from llama-index-core<0.13.0,>=0.12.0->llama-index-embeddings-gemini) (0.9.0)\n",
      "Requirement already satisfied: fsspec>=2023.5.0 in c:\\code\\llamaindex_code-main\\llamaindex_venv\\lib\\site-packages (from llama-index-core<0.13.0,>=0.12.0->llama-index-embeddings-gemini) (2025.2.0)\n",
      "Requirement already satisfied: wrapt in c:\\code\\llamaindex_code-main\\llamaindex_venv\\lib\\site-packages (from llama-index-core<0.13.0,>=0.12.0->llama-index-embeddings-gemini) (1.17.2)\n",
      "Requirement already satisfied: requests>=2.31.0 in c:\\code\\llamaindex_code-main\\llamaindex_venv\\lib\\site-packages (from llama-index-core<0.13.0,>=0.12.0->llama-index-embeddings-gemini) (2.32.3)\n",
      "Requirement already satisfied: PyYAML>=6.0.1 in c:\\code\\llamaindex_code-main\\llamaindex_venv\\lib\\site-packages (from llama-index-core<0.13.0,>=0.12.0->llama-index-embeddings-gemini) (6.0.2)\n",
      "Requirement already satisfied: nest-asyncio<2.0.0,>=1.5.8 in c:\\code\\llamaindex_code-main\\llamaindex_venv\\lib\\site-packages (from llama-index-core<0.13.0,>=0.12.0->llama-index-embeddings-gemini) (1.6.0)\n",
      "Requirement already satisfied: nltk>3.8.1 in c:\\code\\llamaindex_code-main\\llamaindex_venv\\lib\\site-packages (from llama-index-core<0.13.0,>=0.12.0->llama-index-embeddings-gemini) (3.9.1)\n",
      "Requirement already satisfied: deprecated>=1.2.9.3 in c:\\code\\llamaindex_code-main\\llamaindex_venv\\lib\\site-packages (from llama-index-core<0.13.0,>=0.12.0->llama-index-embeddings-gemini) (1.2.18)\n",
      "Requirement already satisfied: SQLAlchemy[asyncio]>=1.4.49 in c:\\code\\llamaindex_code-main\\llamaindex_venv\\lib\\site-packages (from llama-index-core<0.13.0,>=0.12.0->llama-index-embeddings-gemini) (2.0.38)\n",
      "Requirement already satisfied: httpx in c:\\code\\llamaindex_code-main\\llamaindex_venv\\lib\\site-packages (from llama-index-core<0.13.0,>=0.12.0->llama-index-embeddings-gemini) (0.28.1)\n",
      "Requirement already satisfied: networkx>=3.0 in c:\\code\\llamaindex_code-main\\llamaindex_venv\\lib\\site-packages (from llama-index-core<0.13.0,>=0.12.0->llama-index-embeddings-gemini) (3.4.2)\n",
      "Requirement already satisfied: dataclasses-json in c:\\code\\llamaindex_code-main\\llamaindex_venv\\lib\\site-packages (from llama-index-core<0.13.0,>=0.12.0->llama-index-embeddings-gemini) (0.6.7)\n",
      "Requirement already satisfied: numpy in c:\\code\\llamaindex_code-main\\llamaindex_venv\\lib\\site-packages (from llama-index-core<0.13.0,>=0.12.0->llama-index-embeddings-gemini) (2.2.4)\n",
      "Requirement already satisfied: filetype<2.0.0,>=1.2.0 in c:\\code\\llamaindex_code-main\\llamaindex_venv\\lib\\site-packages (from llama-index-core<0.13.0,>=0.12.0->llama-index-embeddings-gemini) (1.2.0)\n",
      "Requirement already satisfied: tenacity!=8.4.0,<10.0.0,>=8.2.0 in c:\\code\\llamaindex_code-main\\llamaindex_venv\\lib\\site-packages (from llama-index-core<0.13.0,>=0.12.0->llama-index-embeddings-gemini) (9.0.0)\n",
      "Requirement already satisfied: pillow>=9.0.0 in c:\\code\\llamaindex_code-main\\llamaindex_venv\\lib\\site-packages (from llama-index-core<0.13.0,>=0.12.0->llama-index-embeddings-gemini) (10.4.0)\n",
      "Requirement already satisfied: async-timeout<6.0,>=4.0 in c:\\code\\llamaindex_code-main\\llamaindex_venv\\lib\\site-packages (from aiohttp<4.0.0,>=3.8.6->llama-index-core<0.13.0,>=0.12.0->llama-index-embeddings-gemini) (5.0.1)\n",
      "Requirement already satisfied: aiosignal>=1.1.2 in c:\\code\\llamaindex_code-main\\llamaindex_venv\\lib\\site-packages (from aiohttp<4.0.0,>=3.8.6->llama-index-core<0.13.0,>=0.12.0->llama-index-embeddings-gemini) (1.3.2)\n",
      "Requirement already satisfied: propcache>=0.2.0 in c:\\code\\llamaindex_code-main\\llamaindex_venv\\lib\\site-packages (from aiohttp<4.0.0,>=3.8.6->llama-index-core<0.13.0,>=0.12.0->llama-index-embeddings-gemini) (0.3.0)\n",
      "Requirement already satisfied: aiohappyeyeballs>=2.3.0 in c:\\code\\llamaindex_code-main\\llamaindex_venv\\lib\\site-packages (from aiohttp<4.0.0,>=3.8.6->llama-index-core<0.13.0,>=0.12.0->llama-index-embeddings-gemini) (2.4.6)\n",
      "Requirement already satisfied: attrs>=17.3.0 in c:\\code\\llamaindex_code-main\\llamaindex_venv\\lib\\site-packages (from aiohttp<4.0.0,>=3.8.6->llama-index-core<0.13.0,>=0.12.0->llama-index-embeddings-gemini) (25.1.0)\n",
      "Requirement already satisfied: multidict<7.0,>=4.5 in c:\\code\\llamaindex_code-main\\llamaindex_venv\\lib\\site-packages (from aiohttp<4.0.0,>=3.8.6->llama-index-core<0.13.0,>=0.12.0->llama-index-embeddings-gemini) (6.1.0)\n",
      "Requirement already satisfied: yarl<2.0,>=1.17.0 in c:\\code\\llamaindex_code-main\\llamaindex_venv\\lib\\site-packages (from aiohttp<4.0.0,>=3.8.6->llama-index-core<0.13.0,>=0.12.0->llama-index-embeddings-gemini) (1.18.3)\n",
      "Requirement already satisfied: frozenlist>=1.1.1 in c:\\code\\llamaindex_code-main\\llamaindex_venv\\lib\\site-packages (from aiohttp<4.0.0,>=3.8.6->llama-index-core<0.13.0,>=0.12.0->llama-index-embeddings-gemini) (1.5.0)\n",
      "Requirement already satisfied: platformdirs in c:\\code\\llamaindex_code-main\\llamaindex_venv\\lib\\site-packages (from banks<3.0.0,>=2.0.0->llama-index-core<0.13.0,>=0.12.0->llama-index-embeddings-gemini) (4.3.6)\n",
      "Requirement already satisfied: griffe in c:\\code\\llamaindex_code-main\\llamaindex_venv\\lib\\site-packages (from banks<3.0.0,>=2.0.0->llama-index-core<0.13.0,>=0.12.0->llama-index-embeddings-gemini) (1.7.2)\n",
      "Requirement already satisfied: jinja2 in c:\\code\\llamaindex_code-main\\llamaindex_venv\\lib\\site-packages (from banks<3.0.0,>=2.0.0->llama-index-core<0.13.0,>=0.12.0->llama-index-embeddings-gemini) (3.1.5)\n",
      "Requirement already satisfied: pyasn1-modules>=0.2.1 in c:\\code\\llamaindex_code-main\\llamaindex_venv\\lib\\site-packages (from google-auth>=2.15.0->google-generativeai>=0.5.2->llama-index-embeddings-gemini) (0.4.1)\n",
      "Requirement already satisfied: rsa<5,>=3.1.4 in c:\\code\\llamaindex_code-main\\llamaindex_venv\\lib\\site-packages (from google-auth>=2.15.0->google-generativeai>=0.5.2->llama-index-embeddings-gemini) (4.9)\n",
      "Requirement already satisfied: cachetools<6.0,>=2.0.0 in c:\\code\\llamaindex_code-main\\llamaindex_venv\\lib\\site-packages (from google-auth>=2.15.0->google-generativeai>=0.5.2->llama-index-embeddings-gemini) (5.5.2)\n",
      "Requirement already satisfied: regex>=2021.8.3 in c:\\code\\llamaindex_code-main\\llamaindex_venv\\lib\\site-packages (from nltk>3.8.1->llama-index-core<0.13.0,>=0.12.0->llama-index-embeddings-gemini) (2024.11.6)\n",
      "Requirement already satisfied: click in c:\\code\\llamaindex_code-main\\llamaindex_venv\\lib\\site-packages (from nltk>3.8.1->llama-index-core<0.13.0,>=0.12.0->llama-index-embeddings-gemini) (8.1.8)\n",
      "Requirement already satisfied: joblib in c:\\code\\llamaindex_code-main\\llamaindex_venv\\lib\\site-packages (from nltk>3.8.1->llama-index-core<0.13.0,>=0.12.0->llama-index-embeddings-gemini) (1.4.2)\n",
      "Requirement already satisfied: annotated-types>=0.6.0 in c:\\code\\llamaindex_code-main\\llamaindex_venv\\lib\\site-packages (from pydantic->google-generativeai>=0.5.2->llama-index-embeddings-gemini) (0.7.0)\n",
      "Requirement already satisfied: pydantic-core==2.27.2 in c:\\code\\llamaindex_code-main\\llamaindex_venv\\lib\\site-packages (from pydantic->google-generativeai>=0.5.2->llama-index-embeddings-gemini) (2.27.2)\n",
      "Requirement already satisfied: charset-normalizer<4,>=2 in c:\\code\\llamaindex_code-main\\llamaindex_venv\\lib\\site-packages (from requests>=2.31.0->llama-index-core<0.13.0,>=0.12.0->llama-index-embeddings-gemini) (3.4.1)\n",
      "Requirement already satisfied: certifi>=2017.4.17 in c:\\code\\llamaindex_code-main\\llamaindex_venv\\lib\\site-packages (from requests>=2.31.0->llama-index-core<0.13.0,>=0.12.0->llama-index-embeddings-gemini) (2025.1.31)\n",
      "Requirement already satisfied: idna<4,>=2.5 in c:\\code\\llamaindex_code-main\\llamaindex_venv\\lib\\site-packages (from requests>=2.31.0->llama-index-core<0.13.0,>=0.12.0->llama-index-embeddings-gemini) (3.10)\n",
      "Requirement already satisfied: urllib3<3,>=1.21.1 in c:\\code\\llamaindex_code-main\\llamaindex_venv\\lib\\site-packages (from requests>=2.31.0->llama-index-core<0.13.0,>=0.12.0->llama-index-embeddings-gemini) (2.3.0)\n",
      "Requirement already satisfied: greenlet!=0.4.17 in c:\\code\\llamaindex_code-main\\llamaindex_venv\\lib\\site-packages (from SQLAlchemy[asyncio]>=1.4.49->llama-index-core<0.13.0,>=0.12.0->llama-index-embeddings-gemini) (3.1.1)\n",
      "Requirement already satisfied: colorama in c:\\code\\llamaindex_code-main\\llamaindex_venv\\lib\\site-packages (from tqdm->google-generativeai>=0.5.2->llama-index-embeddings-gemini) (0.4.6)\n",
      "Requirement already satisfied: mypy-extensions>=0.3.0 in c:\\code\\llamaindex_code-main\\llamaindex_venv\\lib\\site-packages (from typing-inspect>=0.8.0->llama-index-core<0.13.0,>=0.12.0->llama-index-embeddings-gemini) (1.0.0)\n",
      "Requirement already satisfied: marshmallow<4.0.0,>=3.18.0 in c:\\code\\llamaindex_code-main\\llamaindex_venv\\lib\\site-packages (from dataclasses-json->llama-index-core<0.13.0,>=0.12.0->llama-index-embeddings-gemini) (3.26.1)\n",
      "Requirement already satisfied: googleapis-common-protos<2.0.dev0,>=1.56.2 in c:\\code\\llamaindex_code-main\\llamaindex_venv\\lib\\site-packages (from google-api-core->google-generativeai>=0.5.2->llama-index-embeddings-gemini) (1.69.1)\n",
      "Requirement already satisfied: uritemplate<5,>=3.0.1 in c:\\code\\llamaindex_code-main\\llamaindex_venv\\lib\\site-packages (from google-api-python-client->google-generativeai>=0.5.2->llama-index-embeddings-gemini) (4.1.1)\n",
      "Requirement already satisfied: httplib2<1.dev0,>=0.19.0 in c:\\code\\llamaindex_code-main\\llamaindex_venv\\lib\\site-packages (from google-api-python-client->google-generativeai>=0.5.2->llama-index-embeddings-gemini) (0.22.0)\n",
      "Requirement already satisfied: google-auth-httplib2<1.0.0,>=0.2.0 in c:\\code\\llamaindex_code-main\\llamaindex_venv\\lib\\site-packages (from google-api-python-client->google-generativeai>=0.5.2->llama-index-embeddings-gemini) (0.2.0)\n",
      "Requirement already satisfied: httpcore==1.* in c:\\code\\llamaindex_code-main\\llamaindex_venv\\lib\\site-packages (from httpx->llama-index-core<0.13.0,>=0.12.0->llama-index-embeddings-gemini) (1.0.7)\n",
      "Requirement already satisfied: anyio in c:\\code\\llamaindex_code-main\\llamaindex_venv\\lib\\site-packages (from httpx->llama-index-core<0.13.0,>=0.12.0->llama-index-embeddings-gemini) (4.8.0)\n",
      "Requirement already satisfied: h11<0.15,>=0.13 in c:\\code\\llamaindex_code-main\\llamaindex_venv\\lib\\site-packages (from httpcore==1.*->httpx->llama-index-core<0.13.0,>=0.12.0->llama-index-embeddings-gemini) (0.14.0)\n",
      "Requirement already satisfied: grpcio<2.0dev,>=1.33.2 in c:\\code\\llamaindex_code-main\\llamaindex_venv\\lib\\site-packages (from google-api-core->google-generativeai>=0.5.2->llama-index-embeddings-gemini) (1.70.0)\n",
      "Requirement already satisfied: grpcio-status<2.0.dev0,>=1.33.2 in c:\\code\\llamaindex_code-main\\llamaindex_venv\\lib\\site-packages (from google-api-core->google-generativeai>=0.5.2->llama-index-embeddings-gemini) (1.70.0)\n",
      "Requirement already satisfied: pyparsing!=3.0.0,!=3.0.1,!=3.0.2,!=3.0.3,<4,>=2.4.2 in c:\\code\\llamaindex_code-main\\llamaindex_venv\\lib\\site-packages (from httplib2<1.dev0,>=0.19.0->google-api-python-client->google-generativeai>=0.5.2->llama-index-embeddings-gemini) (3.2.1)\n",
      "Requirement already satisfied: packaging>=17.0 in c:\\code\\llamaindex_code-main\\llamaindex_venv\\lib\\site-packages (from marshmallow<4.0.0,>=3.18.0->dataclasses-json->llama-index-core<0.13.0,>=0.12.0->llama-index-embeddings-gemini) (24.2)\n",
      "Requirement already satisfied: pyasn1<0.7.0,>=0.4.6 in c:\\code\\llamaindex_code-main\\llamaindex_venv\\lib\\site-packages (from pyasn1-modules>=0.2.1->google-auth>=2.15.0->google-generativeai>=0.5.2->llama-index-embeddings-gemini) (0.6.1)\n",
      "Requirement already satisfied: sniffio>=1.1 in c:\\code\\llamaindex_code-main\\llamaindex_venv\\lib\\site-packages (from anyio->httpx->llama-index-core<0.13.0,>=0.12.0->llama-index-embeddings-gemini) (1.3.1)\n",
      "Requirement already satisfied: exceptiongroup>=1.0.2 in c:\\code\\llamaindex_code-main\\llamaindex_venv\\lib\\site-packages (from anyio->httpx->llama-index-core<0.13.0,>=0.12.0->llama-index-embeddings-gemini) (1.2.2)\n",
      "Requirement already satisfied: MarkupSafe>=2.0 in c:\\code\\llamaindex_code-main\\llamaindex_venv\\lib\\site-packages (from jinja2->banks<3.0.0,>=2.0.0->llama-index-core<0.13.0,>=0.12.0->llama-index-embeddings-gemini) (3.0.2)\n",
      "Installing collected packages: llama-index-embeddings-gemini\n",
      "Successfully installed llama-index-embeddings-gemini-0.3.2\n",
      "Note: you may need to restart the kernel to use updated packages.\n"
     ]
    },
    {
     "name": "stderr",
     "output_type": "stream",
     "text": [
      "WARNING: There was an error checking the latest version of pip.\n"
     ]
    }
   ],
   "source": [
    "%pip install llama-index-embeddings-gemini"
   ]
  },
  {
   "cell_type": "code",
   "execution_count": 1,
   "metadata": {},
   "outputs": [
    {
     "data": {
      "text/plain": [
       "True"
      ]
     },
     "execution_count": 1,
     "metadata": {},
     "output_type": "execute_result"
    }
   ],
   "source": [
    "import os\n",
    "\n",
    "from dotenv import load_dotenv\n",
    "\n",
    "load_dotenv()"
   ]
  },
  {
   "cell_type": "code",
   "execution_count": 5,
   "metadata": {},
   "outputs": [
    {
     "name": "stdout",
     "output_type": "stream",
     "text": [
      "Dimension of embeddings: 768\n",
      "[0.031099992, 0.02192731, -0.06523498, 0.016788177, 0.0392835]\n"
     ]
    }
   ],
   "source": [
    "# 1. Gemini 임베딩 모델 임포트\n",
    "from llama_index.embeddings.gemini import GeminiEmbedding\n",
    "\n",
    "# 2. Gemini 임베딩 모델 설정\n",
    "embed_model = GeminiEmbedding(model_name=\"models/text-embedding-004\")\n",
    "\n",
    "# 3. 텍스트를 벡터로 변환\n",
    "embeddings = embed_model.get_text_embedding(\"Google Gemini Embeddings.\")\n",
    "\n",
    "# 4. 결과 출력\n",
    "print(f\"Dimension of embeddings: {len(embeddings)}\")\n",
    "print(embeddings[:5])"
   ]
  }
 ],
 "metadata": {
  "kernelspec": {
   "display_name": "LlamaIndex_VENV",
   "language": "python",
   "name": "python3"
  },
  "language_info": {
   "codemirror_mode": {
    "name": "ipython",
    "version": 3
   },
   "file_extension": ".py",
   "mimetype": "text/x-python",
   "name": "python",
   "nbconvert_exporter": "python",
   "pygments_lexer": "ipython3",
   "version": "3.10.7"
  }
 },
 "nbformat": 4,
 "nbformat_minor": 2
}
