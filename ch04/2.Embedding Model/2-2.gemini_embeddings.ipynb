{
 "cells": [
  {
   "cell_type": "code",
   "execution_count": null,
   "metadata": {},
   "outputs": [],
   "source": [
    "%pip install llama-index-embeddings-gemini"
   ]
  },
  {
   "cell_type": "code",
   "execution_count": null,
   "metadata": {},
   "outputs": [],
   "source": [
    "import os\n",
    "\n",
    "from dotenv import load_dotenv\n",
    "\n",
    "load_dotenv()"
   ]
  },
  {
   "cell_type": "code",
   "execution_count": null,
   "metadata": {},
   "outputs": [],
   "source": [
    "# 1. Gemini 임베딩 모델 임포트\n",
    "from llama_index.embeddings.gemini import GeminiEmbedding\n",
    "\n",
    "# 2. Gemini 임베딩 모델 설정\n",
    "embed_model = GeminiEmbedding(model_name=\"models/gemini-embedding-001\")\n",
    "\n",
    "# 3. 텍스트를 벡터로 변환\n",
    "embeddings = embed_model.get_text_embedding(\"Google Gemini Embeddings.\")\n",
    "\n",
    "# 4. 결과 출력\n",
    "print(f\"Dimension of embeddings: {len(embeddings)}\")\n",
    "print(embeddings[:5])"
   ]
  },
  {
   "cell_type": "code",
   "execution_count": null,
   "metadata": {},
   "outputs": [],
   "source": []
  }
 ],
 "metadata": {
  "kernelspec": {
   "display_name": "LlamaIndex_VENV",
   "language": "python",
   "name": "python3"
  },
  "language_info": {
   "codemirror_mode": {
    "name": "ipython",
    "version": 3
   },
   "file_extension": ".py",
   "mimetype": "text/x-python",
   "name": "python",
   "nbconvert_exporter": "python",
   "pygments_lexer": "ipython3",
   "version": "3.13.1"
  }
 },
 "nbformat": 4,
 "nbformat_minor": 2
}
