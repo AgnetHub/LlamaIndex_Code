{
 "cells": [
  {
   "cell_type": "code",
   "execution_count": 1,
   "metadata": {},
   "outputs": [
    {
     "name": "stdout",
     "output_type": "stream",
     "text": [
      "Collecting llama-index-embeddings-cohere\n",
      "  Using cached llama_index_embeddings_cohere-0.4.0-py3-none-any.whl (4.7 kB)\n",
      "Requirement already satisfied: llama-index-core<0.13.0,>=0.12.0 in c:\\code\\llamaindex_code-main\\llamaindex_venv\\lib\\site-packages (from llama-index-embeddings-cohere) (0.12.27)\n",
      "Collecting cohere<6.0.0,>=5.2.5\n",
      "  Downloading cohere-5.14.2-py3-none-any.whl (259 kB)\n",
      "     -------------------------------------- 259.2/259.2 kB 5.4 MB/s eta 0:00:00\n",
      "Requirement already satisfied: fastavro<2.0.0,>=1.9.4 in c:\\code\\llamaindex_code-main\\llamaindex_venv\\lib\\site-packages (from cohere<6.0.0,>=5.2.5->llama-index-embeddings-cohere) (1.10.0)\n",
      "Requirement already satisfied: tokenizers<1,>=0.15 in c:\\code\\llamaindex_code-main\\llamaindex_venv\\lib\\site-packages (from cohere<6.0.0,>=5.2.5->llama-index-embeddings-cohere) (0.21.0)\n",
      "Requirement already satisfied: httpx-sse==0.4.0 in c:\\code\\llamaindex_code-main\\llamaindex_venv\\lib\\site-packages (from cohere<6.0.0,>=5.2.5->llama-index-embeddings-cohere) (0.4.0)\n",
      "Requirement already satisfied: pydantic-core<3.0.0,>=2.18.2 in c:\\code\\llamaindex_code-main\\llamaindex_venv\\lib\\site-packages (from cohere<6.0.0,>=5.2.5->llama-index-embeddings-cohere) (2.27.2)\n",
      "Requirement already satisfied: pydantic>=1.9.2 in c:\\code\\llamaindex_code-main\\llamaindex_venv\\lib\\site-packages (from cohere<6.0.0,>=5.2.5->llama-index-embeddings-cohere) (2.10.6)\n",
      "Collecting types-requests<3.0.0,>=2.0.0\n",
      "  Downloading types_requests-2.32.0.20250328-py3-none-any.whl (20 kB)\n",
      "Requirement already satisfied: typing_extensions>=4.0.0 in c:\\code\\llamaindex_code-main\\llamaindex_venv\\lib\\site-packages (from cohere<6.0.0,>=5.2.5->llama-index-embeddings-cohere) (4.12.2)\n",
      "Requirement already satisfied: requests<3.0.0,>=2.0.0 in c:\\code\\llamaindex_code-main\\llamaindex_venv\\lib\\site-packages (from cohere<6.0.0,>=5.2.5->llama-index-embeddings-cohere) (2.32.3)\n",
      "Requirement already satisfied: httpx>=0.21.2 in c:\\code\\llamaindex_code-main\\llamaindex_venv\\lib\\site-packages (from cohere<6.0.0,>=5.2.5->llama-index-embeddings-cohere) (0.28.1)\n",
      "Requirement already satisfied: deprecated>=1.2.9.3 in c:\\code\\llamaindex_code-main\\llamaindex_venv\\lib\\site-packages (from llama-index-core<0.13.0,>=0.12.0->llama-index-embeddings-cohere) (1.2.18)\n",
      "Requirement already satisfied: nest-asyncio<2.0.0,>=1.5.8 in c:\\code\\llamaindex_code-main\\llamaindex_venv\\lib\\site-packages (from llama-index-core<0.13.0,>=0.12.0->llama-index-embeddings-cohere) (1.6.0)\n",
      "Requirement already satisfied: PyYAML>=6.0.1 in c:\\code\\llamaindex_code-main\\llamaindex_venv\\lib\\site-packages (from llama-index-core<0.13.0,>=0.12.0->llama-index-embeddings-cohere) (6.0.2)\n",
      "Requirement already satisfied: dirtyjson<2.0.0,>=1.0.8 in c:\\code\\llamaindex_code-main\\llamaindex_venv\\lib\\site-packages (from llama-index-core<0.13.0,>=0.12.0->llama-index-embeddings-cohere) (1.0.8)\n",
      "Requirement already satisfied: dataclasses-json in c:\\code\\llamaindex_code-main\\llamaindex_venv\\lib\\site-packages (from llama-index-core<0.13.0,>=0.12.0->llama-index-embeddings-cohere) (0.6.7)\n",
      "Requirement already satisfied: SQLAlchemy[asyncio]>=1.4.49 in c:\\code\\llamaindex_code-main\\llamaindex_venv\\lib\\site-packages (from llama-index-core<0.13.0,>=0.12.0->llama-index-embeddings-cohere) (2.0.38)\n",
      "Requirement already satisfied: numpy in c:\\code\\llamaindex_code-main\\llamaindex_venv\\lib\\site-packages (from llama-index-core<0.13.0,>=0.12.0->llama-index-embeddings-cohere) (2.2.4)\n",
      "Requirement already satisfied: tenacity!=8.4.0,<10.0.0,>=8.2.0 in c:\\code\\llamaindex_code-main\\llamaindex_venv\\lib\\site-packages (from llama-index-core<0.13.0,>=0.12.0->llama-index-embeddings-cohere) (9.0.0)\n",
      "Requirement already satisfied: typing-inspect>=0.8.0 in c:\\code\\llamaindex_code-main\\llamaindex_venv\\lib\\site-packages (from llama-index-core<0.13.0,>=0.12.0->llama-index-embeddings-cohere) (0.9.0)\n",
      "Requirement already satisfied: banks<3.0.0,>=2.0.0 in c:\\code\\llamaindex_code-main\\llamaindex_venv\\lib\\site-packages (from llama-index-core<0.13.0,>=0.12.0->llama-index-embeddings-cohere) (2.1.1)\n",
      "Requirement already satisfied: networkx>=3.0 in c:\\code\\llamaindex_code-main\\llamaindex_venv\\lib\\site-packages (from llama-index-core<0.13.0,>=0.12.0->llama-index-embeddings-cohere) (3.4.2)\n",
      "Requirement already satisfied: pillow>=9.0.0 in c:\\code\\llamaindex_code-main\\llamaindex_venv\\lib\\site-packages (from llama-index-core<0.13.0,>=0.12.0->llama-index-embeddings-cohere) (10.4.0)\n",
      "Requirement already satisfied: tiktoken>=0.3.3 in c:\\code\\llamaindex_code-main\\llamaindex_venv\\lib\\site-packages (from llama-index-core<0.13.0,>=0.12.0->llama-index-embeddings-cohere) (0.9.0)\n",
      "Requirement already satisfied: fsspec>=2023.5.0 in c:\\code\\llamaindex_code-main\\llamaindex_venv\\lib\\site-packages (from llama-index-core<0.13.0,>=0.12.0->llama-index-embeddings-cohere) (2025.2.0)\n",
      "Requirement already satisfied: filetype<2.0.0,>=1.2.0 in c:\\code\\llamaindex_code-main\\llamaindex_venv\\lib\\site-packages (from llama-index-core<0.13.0,>=0.12.0->llama-index-embeddings-cohere) (1.2.0)\n",
      "Requirement already satisfied: wrapt in c:\\code\\llamaindex_code-main\\llamaindex_venv\\lib\\site-packages (from llama-index-core<0.13.0,>=0.12.0->llama-index-embeddings-cohere) (1.17.2)\n",
      "Requirement already satisfied: nltk>3.8.1 in c:\\code\\llamaindex_code-main\\llamaindex_venv\\lib\\site-packages (from llama-index-core<0.13.0,>=0.12.0->llama-index-embeddings-cohere) (3.9.1)\n",
      "Requirement already satisfied: aiohttp<4.0.0,>=3.8.6 in c:\\code\\llamaindex_code-main\\llamaindex_venv\\lib\\site-packages (from llama-index-core<0.13.0,>=0.12.0->llama-index-embeddings-cohere) (3.11.12)\n",
      "Requirement already satisfied: tqdm<5.0.0,>=4.66.1 in c:\\code\\llamaindex_code-main\\llamaindex_venv\\lib\\site-packages (from llama-index-core<0.13.0,>=0.12.0->llama-index-embeddings-cohere) (4.67.1)\n",
      "Requirement already satisfied: aiosignal>=1.1.2 in c:\\code\\llamaindex_code-main\\llamaindex_venv\\lib\\site-packages (from aiohttp<4.0.0,>=3.8.6->llama-index-core<0.13.0,>=0.12.0->llama-index-embeddings-cohere) (1.3.2)\n",
      "Requirement already satisfied: aiohappyeyeballs>=2.3.0 in c:\\code\\llamaindex_code-main\\llamaindex_venv\\lib\\site-packages (from aiohttp<4.0.0,>=3.8.6->llama-index-core<0.13.0,>=0.12.0->llama-index-embeddings-cohere) (2.4.6)\n",
      "Requirement already satisfied: propcache>=0.2.0 in c:\\code\\llamaindex_code-main\\llamaindex_venv\\lib\\site-packages (from aiohttp<4.0.0,>=3.8.6->llama-index-core<0.13.0,>=0.12.0->llama-index-embeddings-cohere) (0.3.0)\n",
      "Requirement already satisfied: async-timeout<6.0,>=4.0 in c:\\code\\llamaindex_code-main\\llamaindex_venv\\lib\\site-packages (from aiohttp<4.0.0,>=3.8.6->llama-index-core<0.13.0,>=0.12.0->llama-index-embeddings-cohere) (5.0.1)\n",
      "Requirement already satisfied: yarl<2.0,>=1.17.0 in c:\\code\\llamaindex_code-main\\llamaindex_venv\\lib\\site-packages (from aiohttp<4.0.0,>=3.8.6->llama-index-core<0.13.0,>=0.12.0->llama-index-embeddings-cohere) (1.18.3)\n",
      "Requirement already satisfied: attrs>=17.3.0 in c:\\code\\llamaindex_code-main\\llamaindex_venv\\lib\\site-packages (from aiohttp<4.0.0,>=3.8.6->llama-index-core<0.13.0,>=0.12.0->llama-index-embeddings-cohere) (25.1.0)\n",
      "Requirement already satisfied: multidict<7.0,>=4.5 in c:\\code\\llamaindex_code-main\\llamaindex_venv\\lib\\site-packages (from aiohttp<4.0.0,>=3.8.6->llama-index-core<0.13.0,>=0.12.0->llama-index-embeddings-cohere) (6.1.0)\n",
      "Requirement already satisfied: frozenlist>=1.1.1 in c:\\code\\llamaindex_code-main\\llamaindex_venv\\lib\\site-packages (from aiohttp<4.0.0,>=3.8.6->llama-index-core<0.13.0,>=0.12.0->llama-index-embeddings-cohere) (1.5.0)\n",
      "Requirement already satisfied: jinja2 in c:\\code\\llamaindex_code-main\\llamaindex_venv\\lib\\site-packages (from banks<3.0.0,>=2.0.0->llama-index-core<0.13.0,>=0.12.0->llama-index-embeddings-cohere) (3.1.5)\n",
      "Requirement already satisfied: griffe in c:\\code\\llamaindex_code-main\\llamaindex_venv\\lib\\site-packages (from banks<3.0.0,>=2.0.0->llama-index-core<0.13.0,>=0.12.0->llama-index-embeddings-cohere) (1.7.2)\n",
      "Requirement already satisfied: platformdirs in c:\\code\\llamaindex_code-main\\llamaindex_venv\\lib\\site-packages (from banks<3.0.0,>=2.0.0->llama-index-core<0.13.0,>=0.12.0->llama-index-embeddings-cohere) (4.3.6)\n",
      "Requirement already satisfied: certifi in c:\\code\\llamaindex_code-main\\llamaindex_venv\\lib\\site-packages (from httpx>=0.21.2->cohere<6.0.0,>=5.2.5->llama-index-embeddings-cohere) (2025.1.31)\n",
      "Requirement already satisfied: httpcore==1.* in c:\\code\\llamaindex_code-main\\llamaindex_venv\\lib\\site-packages (from httpx>=0.21.2->cohere<6.0.0,>=5.2.5->llama-index-embeddings-cohere) (1.0.7)\n",
      "Requirement already satisfied: anyio in c:\\code\\llamaindex_code-main\\llamaindex_venv\\lib\\site-packages (from httpx>=0.21.2->cohere<6.0.0,>=5.2.5->llama-index-embeddings-cohere) (4.8.0)\n",
      "Requirement already satisfied: idna in c:\\code\\llamaindex_code-main\\llamaindex_venv\\lib\\site-packages (from httpx>=0.21.2->cohere<6.0.0,>=5.2.5->llama-index-embeddings-cohere) (3.10)\n",
      "Requirement already satisfied: h11<0.15,>=0.13 in c:\\code\\llamaindex_code-main\\llamaindex_venv\\lib\\site-packages (from httpcore==1.*->httpx>=0.21.2->cohere<6.0.0,>=5.2.5->llama-index-embeddings-cohere) (0.14.0)\n",
      "Requirement already satisfied: joblib in c:\\code\\llamaindex_code-main\\llamaindex_venv\\lib\\site-packages (from nltk>3.8.1->llama-index-core<0.13.0,>=0.12.0->llama-index-embeddings-cohere) (1.4.2)\n",
      "Requirement already satisfied: click in c:\\code\\llamaindex_code-main\\llamaindex_venv\\lib\\site-packages (from nltk>3.8.1->llama-index-core<0.13.0,>=0.12.0->llama-index-embeddings-cohere) (8.1.8)\n",
      "Requirement already satisfied: regex>=2021.8.3 in c:\\code\\llamaindex_code-main\\llamaindex_venv\\lib\\site-packages (from nltk>3.8.1->llama-index-core<0.13.0,>=0.12.0->llama-index-embeddings-cohere) (2024.11.6)\n",
      "Requirement already satisfied: annotated-types>=0.6.0 in c:\\code\\llamaindex_code-main\\llamaindex_venv\\lib\\site-packages (from pydantic>=1.9.2->cohere<6.0.0,>=5.2.5->llama-index-embeddings-cohere) (0.7.0)\n",
      "Requirement already satisfied: urllib3<3,>=1.21.1 in c:\\code\\llamaindex_code-main\\llamaindex_venv\\lib\\site-packages (from requests<3.0.0,>=2.0.0->cohere<6.0.0,>=5.2.5->llama-index-embeddings-cohere) (2.3.0)\n",
      "Requirement already satisfied: charset-normalizer<4,>=2 in c:\\code\\llamaindex_code-main\\llamaindex_venv\\lib\\site-packages (from requests<3.0.0,>=2.0.0->cohere<6.0.0,>=5.2.5->llama-index-embeddings-cohere) (3.4.1)\n",
      "Requirement already satisfied: greenlet!=0.4.17 in c:\\code\\llamaindex_code-main\\llamaindex_venv\\lib\\site-packages (from SQLAlchemy[asyncio]>=1.4.49->llama-index-core<0.13.0,>=0.12.0->llama-index-embeddings-cohere) (3.1.1)\n",
      "Requirement already satisfied: huggingface-hub<1.0,>=0.16.4 in c:\\code\\llamaindex_code-main\\llamaindex_venv\\lib\\site-packages (from tokenizers<1,>=0.15->cohere<6.0.0,>=5.2.5->llama-index-embeddings-cohere) (0.29.1)\n",
      "Requirement already satisfied: colorama in c:\\code\\llamaindex_code-main\\llamaindex_venv\\lib\\site-packages (from tqdm<5.0.0,>=4.66.1->llama-index-core<0.13.0,>=0.12.0->llama-index-embeddings-cohere) (0.4.6)\n",
      "Requirement already satisfied: mypy-extensions>=0.3.0 in c:\\code\\llamaindex_code-main\\llamaindex_venv\\lib\\site-packages (from typing-inspect>=0.8.0->llama-index-core<0.13.0,>=0.12.0->llama-index-embeddings-cohere) (1.0.0)\n",
      "Requirement already satisfied: marshmallow<4.0.0,>=3.18.0 in c:\\code\\llamaindex_code-main\\llamaindex_venv\\lib\\site-packages (from dataclasses-json->llama-index-core<0.13.0,>=0.12.0->llama-index-embeddings-cohere) (3.26.1)\n",
      "Requirement already satisfied: filelock in c:\\code\\llamaindex_code-main\\llamaindex_venv\\lib\\site-packages (from huggingface-hub<1.0,>=0.16.4->tokenizers<1,>=0.15->cohere<6.0.0,>=5.2.5->llama-index-embeddings-cohere) (3.17.0)\n",
      "Requirement already satisfied: packaging>=20.9 in c:\\code\\llamaindex_code-main\\llamaindex_venv\\lib\\site-packages (from huggingface-hub<1.0,>=0.16.4->tokenizers<1,>=0.15->cohere<6.0.0,>=5.2.5->llama-index-embeddings-cohere) (24.2)\n",
      "Requirement already satisfied: exceptiongroup>=1.0.2 in c:\\code\\llamaindex_code-main\\llamaindex_venv\\lib\\site-packages (from anyio->httpx>=0.21.2->cohere<6.0.0,>=5.2.5->llama-index-embeddings-cohere) (1.2.2)\n",
      "Requirement already satisfied: sniffio>=1.1 in c:\\code\\llamaindex_code-main\\llamaindex_venv\\lib\\site-packages (from anyio->httpx>=0.21.2->cohere<6.0.0,>=5.2.5->llama-index-embeddings-cohere) (1.3.1)\n",
      "Requirement already satisfied: MarkupSafe>=2.0 in c:\\code\\llamaindex_code-main\\llamaindex_venv\\lib\\site-packages (from jinja2->banks<3.0.0,>=2.0.0->llama-index-core<0.13.0,>=0.12.0->llama-index-embeddings-cohere) (3.0.2)\n",
      "Installing collected packages: types-requests, cohere, llama-index-embeddings-cohere\n",
      "Successfully installed cohere-5.14.2 llama-index-embeddings-cohere-0.4.0 types-requests-2.32.0.20250328\n",
      "Note: you may need to restart the kernel to use updated packages.\n"
     ]
    },
    {
     "name": "stderr",
     "output_type": "stream",
     "text": [
      "WARNING: There was an error checking the latest version of pip.\n"
     ]
    }
   ],
   "source": [
    "%pip install llama-index-embeddings-cohere"
   ]
  },
  {
   "cell_type": "code",
   "execution_count": 3,
   "metadata": {},
   "outputs": [],
   "source": [
    "from dotenv import load_dotenv\n",
    "import os\n",
    "\n",
    "# dotenv를 사용하여 환경 변수 로드\n",
    "load_dotenv()\n",
    "\n",
    "# 환경 변수에서 API 키 가져오기\n",
    "api_key = os.getenv(\"COHERE_API_KEY\")"
   ]
  },
  {
   "cell_type": "code",
   "execution_count": 4,
   "metadata": {},
   "outputs": [],
   "source": [
    "from llama_index.embeddings.cohere import CohereEmbedding\n",
    "from llama_index.core import VectorStoreIndex, SimpleDirectoryReader\n",
    "\n",
    "# Cohere 다국어 임베딩 모델 설정\n",
    "embed_model = CohereEmbedding(\n",
    "    model_name=\"embed-multilingual-v3.0\",\n",
    "    api_key=api_key)"
   ]
  },
  {
   "cell_type": "code",
   "execution_count": 7,
   "metadata": {},
   "outputs": [
    {
     "name": "stdout",
     "output_type": "stream",
     "text": [
      "Dimension of embeddings: 1024\n",
      "[0.0015039444, 0.040618896, -0.045837402, 0.022201538, 0.0075302124]\n"
     ]
    }
   ],
   "source": [
    "# 텍스트를 벡터로 변환\n",
    "embeddings = embed_model.get_text_embedding(\"Cohere Embeddings.\")\n",
    "\n",
    "# 결과 출력\n",
    "print(f\"Dimension of embeddings: {len(embeddings)}\")\n",
    "print(embeddings[:5])"
   ]
  },
  {
   "cell_type": "code",
   "execution_count": 11,
   "metadata": {},
   "outputs": [
    {
     "name": "stdout",
     "output_type": "stream",
     "text": [
      "이 문서에서 가장 중요한 내용은 '인공지능의 정의'와 '인공지능의 응용 분야'입니다.\n"
     ]
    }
   ],
   "source": [
    "# 문서 로드\n",
    "documents = SimpleDirectoryReader(input_files=[\"../data/txt_example.txt\"]).load_data()\n",
    "\n",
    "# 벡터 인덱스 생성 (임베딩 모델 적용)\n",
    "index = VectorStoreIndex.from_documents(documents, embed_model=embed_model)\n",
    "\n",
    "# 쿼리 엔진 생성\n",
    "query_engine = index.as_query_engine()\n",
    "\n",
    "# 질의 수행\n",
    "response = query_engine.query(\"이 문서에서 가장 중요한 내용은 무엇인가요? 한국어로 작성해주세요.\")\n",
    "print(response)"
   ]
  }
 ],
 "metadata": {
  "kernelspec": {
   "display_name": "LlamaIndex_VENV",
   "language": "python",
   "name": "python3"
  },
  "language_info": {
   "codemirror_mode": {
    "name": "ipython",
    "version": 3
   },
   "file_extension": ".py",
   "mimetype": "text/x-python",
   "name": "python",
   "nbconvert_exporter": "python",
   "pygments_lexer": "ipython3",
   "version": "3.10.7"
  }
 },
 "nbformat": 4,
 "nbformat_minor": 2
}
