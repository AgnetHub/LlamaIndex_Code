{
 "cells": [
  {
   "cell_type": "code",
   "execution_count": null,
   "metadata": {},
   "outputs": [],
   "source": [
    "%pip install llama-index-embeddings-huggingface"
   ]
  },
  {
   "cell_type": "markdown",
   "metadata": {},
   "source": [
    "Hugging Face 임베딩 모델"
   ]
  },
  {
   "cell_type": "code",
   "execution_count": 2,
   "metadata": {},
   "outputs": [
    {
     "name": "stderr",
     "output_type": "stream",
     "text": [
      "c:\\Users\\sangwoo\\Desktop\\라마인덱스 책 집필\\LlamaIndex_Code_Final\\LlamaIndex_VENV\\Lib\\site-packages\\tqdm\\auto.py:21: TqdmWarning: IProgress not found. Please update jupyter and ipywidgets. See https://ipywidgets.readthedocs.io/en/stable/user_install.html\n",
      "  from .autonotebook import tqdm as notebook_tqdm\n"
     ]
    }
   ],
   "source": [
    "from llama_index.embeddings.huggingface import HuggingFaceEmbedding\n",
    "from llama_index.core import Settings\n",
    "\n",
    "# BAAI/bge-m3 임베딩 모델 초기화\n",
    "embed_model = HuggingFaceEmbedding(model_name=\"BAAI/bge-m3\")  # 모델 이름 지정\n",
    "\n",
    "# 전역 설정에 임베딩 모델 지정\n",
    "Settings.embed_model = embed_model"
   ]
  },
  {
   "cell_type": "code",
   "execution_count": 3,
   "metadata": {},
   "outputs": [
    {
     "name": "stdout",
     "output_type": "stream",
     "text": [
      "임베딩 차원: 1024\n",
      "임베딩 샘플: [-0.04399853199720383, -0.018382064998149872, -0.022395262494683266, -0.004119756631553173, -0.020523054525256157]\n"
     ]
    }
   ],
   "source": [
    "# 임베딩 테스트\n",
    "embedding = embed_model.get_text_embedding(\"HuggingFace Embeddings\")\n",
    "\n",
    "# 임베딩 차원 확인\n",
    "print(f\"임베딩 차원: {len(embedding)}\")\n",
    "print(f\"임베딩 샘플: {embedding[:5]}\")\n"
   ]
  },
  {
   "cell_type": "code",
   "execution_count": null,
   "metadata": {},
   "outputs": [],
   "source": [
    "from llama_index.core import VectorStoreIndex, SimpleDirectoryReader\n",
    "\n",
    "# 실제 사용 예시: 문서 인덱싱\n",
    "documents = SimpleDirectoryReader(input_dir=\"../data\", required_exts=[\".txt\"]).load_data()\n",
    "index = VectorStoreIndex.from_documents(documents, embed_model=embed_model)\n",
    "\n",
    "# 쿼리 엔진 생성 및 질의\n",
    "query_engine = index.as_query_engine()\n",
    "response = query_engine.query(\"해당 문서의 주제를 알려줘\")\n",
    "print(response)\n"
   ]
  }
 ],
 "metadata": {
  "kernelspec": {
   "display_name": "LlamaIndex_VENV",
   "language": "python",
   "name": "python3"
  },
  "language_info": {
   "codemirror_mode": {
    "name": "ipython",
    "version": 3
   },
   "file_extension": ".py",
   "mimetype": "text/x-python",
   "name": "python",
   "nbconvert_exporter": "python",
   "pygments_lexer": "ipython3",
   "version": "3.13.1"
  }
 },
 "nbformat": 4,
 "nbformat_minor": 2
}
