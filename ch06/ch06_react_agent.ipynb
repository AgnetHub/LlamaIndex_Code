{
  "nbformat": 4,
  "nbformat_minor": 0,
  "metadata": {
    "colab": {
      "provenance": []
    },
    "kernelspec": {
      "name": "python3",
      "display_name": "Python 3"
    },
    "language_info": {
      "name": "python"
    }
  },
  "cells": [
    {
      "cell_type": "code",
      "execution_count": 1,
      "metadata": {
        "colab": {
          "base_uri": "https://localhost:8080/"
        },
        "id": "w79yoLzkJ2Cq",
        "outputId": "40d176c1-071d-441e-a99c-bc842baaa511"
      },
      "outputs": [
        {
          "output_type": "stream",
          "name": "stdout",
          "text": [
            "Requirement already satisfied: llama-index in /usr/local/lib/python3.12/dist-packages (0.12.52)\n",
            "Requirement already satisfied: llama-index-agent-openai in /usr/local/lib/python3.12/dist-packages (0.4.12)\n",
            "Requirement already satisfied: llama-index-llms-openai in /usr/local/lib/python3.12/dist-packages (0.4.7)\n",
            "Requirement already satisfied: llama-index-readers-file in /usr/local/lib/python3.12/dist-packages (0.4.11)\n",
            "Requirement already satisfied: llama-index-embeddings-openai in /usr/local/lib/python3.12/dist-packages (0.3.1)\n",
            "Requirement already satisfied: pymupdf in /usr/local/lib/python3.12/dist-packages (1.26.4)\n",
            "Requirement already satisfied: gradio in /usr/local/lib/python3.12/dist-packages (5.46.0)\n",
            "Requirement already satisfied: llama-index-cli<0.5,>=0.4.2 in /usr/local/lib/python3.12/dist-packages (from llama-index) (0.4.4)\n",
            "Requirement already satisfied: llama-index-core<0.13,>=0.12.52.post1 in /usr/local/lib/python3.12/dist-packages (from llama-index) (0.12.52.post1)\n",
            "Requirement already satisfied: llama-index-indices-managed-llama-cloud>=0.4.0 in /usr/local/lib/python3.12/dist-packages (from llama-index) (0.8.0)\n",
            "Requirement already satisfied: llama-index-multi-modal-llms-openai<0.6,>=0.5.0 in /usr/local/lib/python3.12/dist-packages (from llama-index) (0.5.3)\n",
            "Requirement already satisfied: llama-index-program-openai<0.4,>=0.3.0 in /usr/local/lib/python3.12/dist-packages (from llama-index) (0.3.2)\n",
            "Requirement already satisfied: llama-index-question-gen-openai<0.4,>=0.3.0 in /usr/local/lib/python3.12/dist-packages (from llama-index) (0.3.1)\n",
            "Requirement already satisfied: llama-index-readers-llama-parse>=0.4.0 in /usr/local/lib/python3.12/dist-packages (from llama-index) (0.4.0)\n",
            "Requirement already satisfied: nltk>3.8.1 in /usr/local/lib/python3.12/dist-packages (from llama-index) (3.9.1)\n",
            "Requirement already satisfied: openai>=1.14.0 in /usr/local/lib/python3.12/dist-packages (from llama-index-agent-openai) (1.108.0)\n",
            "Requirement already satisfied: beautifulsoup4<5,>=4.12.3 in /usr/local/lib/python3.12/dist-packages (from llama-index-readers-file) (4.13.5)\n",
            "Requirement already satisfied: defusedxml>=0.7.1 in /usr/local/lib/python3.12/dist-packages (from llama-index-readers-file) (0.7.1)\n",
            "Requirement already satisfied: pandas<2.3.0 in /usr/local/lib/python3.12/dist-packages (from llama-index-readers-file) (2.2.2)\n",
            "Requirement already satisfied: pypdf<6,>=5.1.0 in /usr/local/lib/python3.12/dist-packages (from llama-index-readers-file) (5.9.0)\n",
            "Requirement already satisfied: striprtf<0.0.27,>=0.0.26 in /usr/local/lib/python3.12/dist-packages (from llama-index-readers-file) (0.0.26)\n",
            "Requirement already satisfied: aiofiles<25.0,>=22.0 in /usr/local/lib/python3.12/dist-packages (from gradio) (24.1.0)\n",
            "Requirement already satisfied: anyio<5.0,>=3.0 in /usr/local/lib/python3.12/dist-packages (from gradio) (4.10.0)\n",
            "Requirement already satisfied: brotli>=1.1.0 in /usr/local/lib/python3.12/dist-packages (from gradio) (1.1.0)\n",
            "Requirement already satisfied: fastapi<1.0,>=0.115.2 in /usr/local/lib/python3.12/dist-packages (from gradio) (0.116.2)\n",
            "Requirement already satisfied: ffmpy in /usr/local/lib/python3.12/dist-packages (from gradio) (0.6.1)\n",
            "Requirement already satisfied: gradio-client==1.13.0 in /usr/local/lib/python3.12/dist-packages (from gradio) (1.13.0)\n",
            "Requirement already satisfied: groovy~=0.1 in /usr/local/lib/python3.12/dist-packages (from gradio) (0.1.2)\n",
            "Requirement already satisfied: httpx<1.0,>=0.24.1 in /usr/local/lib/python3.12/dist-packages (from gradio) (0.28.1)\n",
            "Requirement already satisfied: huggingface-hub<1.0,>=0.33.5 in /usr/local/lib/python3.12/dist-packages (from gradio) (0.35.0)\n",
            "Requirement already satisfied: jinja2<4.0 in /usr/local/lib/python3.12/dist-packages (from gradio) (3.1.6)\n",
            "Requirement already satisfied: markupsafe<4.0,>=2.0 in /usr/local/lib/python3.12/dist-packages (from gradio) (3.0.2)\n",
            "Requirement already satisfied: numpy<3.0,>=1.0 in /usr/local/lib/python3.12/dist-packages (from gradio) (2.0.2)\n",
            "Requirement already satisfied: orjson~=3.0 in /usr/local/lib/python3.12/dist-packages (from gradio) (3.11.3)\n",
            "Requirement already satisfied: packaging in /usr/local/lib/python3.12/dist-packages (from gradio) (25.0)\n",
            "Requirement already satisfied: pillow<12.0,>=8.0 in /usr/local/lib/python3.12/dist-packages (from gradio) (11.3.0)\n",
            "Requirement already satisfied: pydantic<2.12,>=2.0 in /usr/local/lib/python3.12/dist-packages (from gradio) (2.11.9)\n",
            "Requirement already satisfied: pydub in /usr/local/lib/python3.12/dist-packages (from gradio) (0.25.1)\n",
            "Requirement already satisfied: python-multipart>=0.0.18 in /usr/local/lib/python3.12/dist-packages (from gradio) (0.0.20)\n",
            "Requirement already satisfied: pyyaml<7.0,>=5.0 in /usr/local/lib/python3.12/dist-packages (from gradio) (6.0.2)\n",
            "Requirement already satisfied: ruff>=0.9.3 in /usr/local/lib/python3.12/dist-packages (from gradio) (0.13.0)\n",
            "Requirement already satisfied: safehttpx<0.2.0,>=0.1.6 in /usr/local/lib/python3.12/dist-packages (from gradio) (0.1.6)\n",
            "Requirement already satisfied: semantic-version~=2.0 in /usr/local/lib/python3.12/dist-packages (from gradio) (2.10.0)\n",
            "Requirement already satisfied: starlette<1.0,>=0.40.0 in /usr/local/lib/python3.12/dist-packages (from gradio) (0.48.0)\n",
            "Requirement already satisfied: tomlkit<0.14.0,>=0.12.0 in /usr/local/lib/python3.12/dist-packages (from gradio) (0.13.3)\n",
            "Requirement already satisfied: typer<1.0,>=0.12 in /usr/local/lib/python3.12/dist-packages (from gradio) (0.17.4)\n",
            "Requirement already satisfied: typing-extensions~=4.0 in /usr/local/lib/python3.12/dist-packages (from gradio) (4.15.0)\n",
            "Requirement already satisfied: uvicorn>=0.14.0 in /usr/local/lib/python3.12/dist-packages (from gradio) (0.35.0)\n",
            "Requirement already satisfied: fsspec in /usr/local/lib/python3.12/dist-packages (from gradio-client==1.13.0->gradio) (2025.3.0)\n",
            "Requirement already satisfied: websockets<16.0,>=10.0 in /usr/local/lib/python3.12/dist-packages (from gradio-client==1.13.0->gradio) (15.0.1)\n",
            "Requirement already satisfied: idna>=2.8 in /usr/local/lib/python3.12/dist-packages (from anyio<5.0,>=3.0->gradio) (3.10)\n",
            "Requirement already satisfied: sniffio>=1.1 in /usr/local/lib/python3.12/dist-packages (from anyio<5.0,>=3.0->gradio) (1.3.1)\n",
            "Requirement already satisfied: soupsieve>1.2 in /usr/local/lib/python3.12/dist-packages (from beautifulsoup4<5,>=4.12.3->llama-index-readers-file) (2.8)\n",
            "Requirement already satisfied: certifi in /usr/local/lib/python3.12/dist-packages (from httpx<1.0,>=0.24.1->gradio) (2025.8.3)\n",
            "Requirement already satisfied: httpcore==1.* in /usr/local/lib/python3.12/dist-packages (from httpx<1.0,>=0.24.1->gradio) (1.0.9)\n",
            "Requirement already satisfied: h11>=0.16 in /usr/local/lib/python3.12/dist-packages (from httpcore==1.*->httpx<1.0,>=0.24.1->gradio) (0.16.0)\n",
            "Requirement already satisfied: filelock in /usr/local/lib/python3.12/dist-packages (from huggingface-hub<1.0,>=0.33.5->gradio) (3.19.1)\n",
            "Requirement already satisfied: requests in /usr/local/lib/python3.12/dist-packages (from huggingface-hub<1.0,>=0.33.5->gradio) (2.32.4)\n",
            "Requirement already satisfied: tqdm>=4.42.1 in /usr/local/lib/python3.12/dist-packages (from huggingface-hub<1.0,>=0.33.5->gradio) (4.67.1)\n",
            "Requirement already satisfied: hf-xet<2.0.0,>=1.1.3 in /usr/local/lib/python3.12/dist-packages (from huggingface-hub<1.0,>=0.33.5->gradio) (1.1.10)\n",
            "Requirement already satisfied: aiohttp<4,>=3.8.6 in /usr/local/lib/python3.12/dist-packages (from llama-index-core<0.13,>=0.12.52.post1->llama-index) (3.12.15)\n",
            "Requirement already satisfied: aiosqlite in /usr/local/lib/python3.12/dist-packages (from llama-index-core<0.13,>=0.12.52.post1->llama-index) (0.21.0)\n",
            "Requirement already satisfied: banks<3,>=2.2.0 in /usr/local/lib/python3.12/dist-packages (from llama-index-core<0.13,>=0.12.52.post1->llama-index) (2.2.0)\n",
            "Requirement already satisfied: dataclasses-json in /usr/local/lib/python3.12/dist-packages (from llama-index-core<0.13,>=0.12.52.post1->llama-index) (0.6.7)\n",
            "Requirement already satisfied: deprecated>=1.2.9.3 in /usr/local/lib/python3.12/dist-packages (from llama-index-core<0.13,>=0.12.52.post1->llama-index) (1.2.18)\n",
            "Requirement already satisfied: dirtyjson<2,>=1.0.8 in /usr/local/lib/python3.12/dist-packages (from llama-index-core<0.13,>=0.12.52.post1->llama-index) (1.0.8)\n",
            "Requirement already satisfied: filetype<2,>=1.2.0 in /usr/local/lib/python3.12/dist-packages (from llama-index-core<0.13,>=0.12.52.post1->llama-index) (1.2.0)\n",
            "Requirement already satisfied: llama-index-workflows<2,>=1.0.1 in /usr/local/lib/python3.12/dist-packages (from llama-index-core<0.13,>=0.12.52.post1->llama-index) (1.3.0)\n",
            "Requirement already satisfied: nest-asyncio<2,>=1.5.8 in /usr/local/lib/python3.12/dist-packages (from llama-index-core<0.13,>=0.12.52.post1->llama-index) (1.6.0)\n",
            "Requirement already satisfied: networkx>=3.0 in /usr/local/lib/python3.12/dist-packages (from llama-index-core<0.13,>=0.12.52.post1->llama-index) (3.5)\n",
            "Requirement already satisfied: platformdirs in /usr/local/lib/python3.12/dist-packages (from llama-index-core<0.13,>=0.12.52.post1->llama-index) (4.4.0)\n",
            "Requirement already satisfied: setuptools>=80.9.0 in /usr/local/lib/python3.12/dist-packages (from llama-index-core<0.13,>=0.12.52.post1->llama-index) (80.9.0)\n",
            "Requirement already satisfied: sqlalchemy>=1.4.49 in /usr/local/lib/python3.12/dist-packages (from sqlalchemy[asyncio]>=1.4.49->llama-index-core<0.13,>=0.12.52.post1->llama-index) (2.0.43)\n",
            "Requirement already satisfied: tenacity!=8.4.0,<10.0.0,>=8.2.0 in /usr/local/lib/python3.12/dist-packages (from llama-index-core<0.13,>=0.12.52.post1->llama-index) (8.5.0)\n",
            "Requirement already satisfied: tiktoken>=0.7.0 in /usr/local/lib/python3.12/dist-packages (from llama-index-core<0.13,>=0.12.52.post1->llama-index) (0.11.0)\n",
            "Requirement already satisfied: typing-inspect>=0.8.0 in /usr/local/lib/python3.12/dist-packages (from llama-index-core<0.13,>=0.12.52.post1->llama-index) (0.9.0)\n",
            "Requirement already satisfied: wrapt in /usr/local/lib/python3.12/dist-packages (from llama-index-core<0.13,>=0.12.52.post1->llama-index) (1.17.3)\n",
            "Requirement already satisfied: llama-cloud==0.1.35 in /usr/local/lib/python3.12/dist-packages (from llama-index-indices-managed-llama-cloud>=0.4.0->llama-index) (0.1.35)\n",
            "Requirement already satisfied: llama-parse>=0.5.0 in /usr/local/lib/python3.12/dist-packages (from llama-index-readers-llama-parse>=0.4.0->llama-index) (0.6.54)\n",
            "Requirement already satisfied: click in /usr/local/lib/python3.12/dist-packages (from nltk>3.8.1->llama-index) (8.2.1)\n",
            "Requirement already satisfied: joblib in /usr/local/lib/python3.12/dist-packages (from nltk>3.8.1->llama-index) (1.5.2)\n",
            "Requirement already satisfied: regex>=2021.8.3 in /usr/local/lib/python3.12/dist-packages (from nltk>3.8.1->llama-index) (2024.11.6)\n",
            "Requirement already satisfied: distro<2,>=1.7.0 in /usr/local/lib/python3.12/dist-packages (from openai>=1.14.0->llama-index-agent-openai) (1.9.0)\n",
            "Requirement already satisfied: jiter<1,>=0.4.0 in /usr/local/lib/python3.12/dist-packages (from openai>=1.14.0->llama-index-agent-openai) (0.11.0)\n",
            "Requirement already satisfied: python-dateutil>=2.8.2 in /usr/local/lib/python3.12/dist-packages (from pandas<2.3.0->llama-index-readers-file) (2.9.0.post0)\n",
            "Requirement already satisfied: pytz>=2020.1 in /usr/local/lib/python3.12/dist-packages (from pandas<2.3.0->llama-index-readers-file) (2025.2)\n",
            "Requirement already satisfied: tzdata>=2022.7 in /usr/local/lib/python3.12/dist-packages (from pandas<2.3.0->llama-index-readers-file) (2025.2)\n",
            "Requirement already satisfied: annotated-types>=0.6.0 in /usr/local/lib/python3.12/dist-packages (from pydantic<2.12,>=2.0->gradio) (0.7.0)\n",
            "Requirement already satisfied: pydantic-core==2.33.2 in /usr/local/lib/python3.12/dist-packages (from pydantic<2.12,>=2.0->gradio) (2.33.2)\n",
            "Requirement already satisfied: typing-inspection>=0.4.0 in /usr/local/lib/python3.12/dist-packages (from pydantic<2.12,>=2.0->gradio) (0.4.1)\n",
            "Requirement already satisfied: shellingham>=1.3.0 in /usr/local/lib/python3.12/dist-packages (from typer<1.0,>=0.12->gradio) (1.5.4)\n",
            "Requirement already satisfied: rich>=10.11.0 in /usr/local/lib/python3.12/dist-packages (from typer<1.0,>=0.12->gradio) (13.9.4)\n",
            "Requirement already satisfied: aiohappyeyeballs>=2.5.0 in /usr/local/lib/python3.12/dist-packages (from aiohttp<4,>=3.8.6->llama-index-core<0.13,>=0.12.52.post1->llama-index) (2.6.1)\n",
            "Requirement already satisfied: aiosignal>=1.4.0 in /usr/local/lib/python3.12/dist-packages (from aiohttp<4,>=3.8.6->llama-index-core<0.13,>=0.12.52.post1->llama-index) (1.4.0)\n",
            "Requirement already satisfied: attrs>=17.3.0 in /usr/local/lib/python3.12/dist-packages (from aiohttp<4,>=3.8.6->llama-index-core<0.13,>=0.12.52.post1->llama-index) (25.3.0)\n",
            "Requirement already satisfied: frozenlist>=1.1.1 in /usr/local/lib/python3.12/dist-packages (from aiohttp<4,>=3.8.6->llama-index-core<0.13,>=0.12.52.post1->llama-index) (1.7.0)\n",
            "Requirement already satisfied: multidict<7.0,>=4.5 in /usr/local/lib/python3.12/dist-packages (from aiohttp<4,>=3.8.6->llama-index-core<0.13,>=0.12.52.post1->llama-index) (6.6.4)\n",
            "Requirement already satisfied: propcache>=0.2.0 in /usr/local/lib/python3.12/dist-packages (from aiohttp<4,>=3.8.6->llama-index-core<0.13,>=0.12.52.post1->llama-index) (0.3.2)\n",
            "Requirement already satisfied: yarl<2.0,>=1.17.0 in /usr/local/lib/python3.12/dist-packages (from aiohttp<4,>=3.8.6->llama-index-core<0.13,>=0.12.52.post1->llama-index) (1.20.1)\n",
            "Requirement already satisfied: griffe in /usr/local/lib/python3.12/dist-packages (from banks<3,>=2.2.0->llama-index-core<0.13,>=0.12.52.post1->llama-index) (1.14.0)\n",
            "Requirement already satisfied: llama-index-instrumentation>=0.1.0 in /usr/local/lib/python3.12/dist-packages (from llama-index-workflows<2,>=1.0.1->llama-index-core<0.13,>=0.12.52.post1->llama-index) (0.4.1)\n",
            "Requirement already satisfied: llama-cloud-services>=0.6.54 in /usr/local/lib/python3.12/dist-packages (from llama-parse>=0.5.0->llama-index-readers-llama-parse>=0.4.0->llama-index) (0.6.54)\n",
            "Requirement already satisfied: six>=1.5 in /usr/local/lib/python3.12/dist-packages (from python-dateutil>=2.8.2->pandas<2.3.0->llama-index-readers-file) (1.17.0)\n",
            "Requirement already satisfied: charset_normalizer<4,>=2 in /usr/local/lib/python3.12/dist-packages (from requests->huggingface-hub<1.0,>=0.33.5->gradio) (3.4.3)\n",
            "Requirement already satisfied: urllib3<3,>=1.21.1 in /usr/local/lib/python3.12/dist-packages (from requests->huggingface-hub<1.0,>=0.33.5->gradio) (2.5.0)\n",
            "Requirement already satisfied: markdown-it-py>=2.2.0 in /usr/local/lib/python3.12/dist-packages (from rich>=10.11.0->typer<1.0,>=0.12->gradio) (4.0.0)\n",
            "Requirement already satisfied: pygments<3.0.0,>=2.13.0 in /usr/local/lib/python3.12/dist-packages (from rich>=10.11.0->typer<1.0,>=0.12->gradio) (2.19.2)\n",
            "Requirement already satisfied: greenlet>=1 in /usr/local/lib/python3.12/dist-packages (from sqlalchemy>=1.4.49->sqlalchemy[asyncio]>=1.4.49->llama-index-core<0.13,>=0.12.52.post1->llama-index) (3.2.4)\n",
            "Requirement already satisfied: mypy-extensions>=0.3.0 in /usr/local/lib/python3.12/dist-packages (from typing-inspect>=0.8.0->llama-index-core<0.13,>=0.12.52.post1->llama-index) (1.1.0)\n",
            "Requirement already satisfied: marshmallow<4.0.0,>=3.18.0 in /usr/local/lib/python3.12/dist-packages (from dataclasses-json->llama-index-core<0.13,>=0.12.52.post1->llama-index) (3.26.1)\n",
            "Requirement already satisfied: python-dotenv<2,>=1.0.1 in /usr/local/lib/python3.12/dist-packages (from llama-cloud-services>=0.6.54->llama-parse>=0.5.0->llama-index-readers-llama-parse>=0.4.0->llama-index) (1.1.1)\n",
            "Requirement already satisfied: mdurl~=0.1 in /usr/local/lib/python3.12/dist-packages (from markdown-it-py>=2.2.0->rich>=10.11.0->typer<1.0,>=0.12->gradio) (0.1.2)\n",
            "Requirement already satisfied: colorama>=0.4 in /usr/local/lib/python3.12/dist-packages (from griffe->banks<3,>=2.2.0->llama-index-core<0.13,>=0.12.52.post1->llama-index) (0.4.6)\n"
          ]
        }
      ],
      "source": [
        "!pip install llama-index llama-index-agent-openai llama-index-llms-openai llama-index-readers-file llama-index-embeddings-openai pymupdf gradio"
      ]
    },
    {
      "cell_type": "code",
      "source": [
        "## 필요한 도구 임포트\n",
        "import os\n",
        "import requests\n",
        "\n",
        "# 라마인덱스 관련 임포트\n",
        "from llama_index.core import VectorStoreIndex, SimpleDirectoryReader, PromptTemplate, Settings\n",
        "from llama_index.core.tools import QueryEngineTool, ToolMetadata\n",
        "from llama_index.core.node_parser import SentenceSplitter\n",
        "from llama_index.llms.openai import OpenAI\n",
        "from llama_index.embeddings.openai import OpenAIEmbedding\n",
        "from llama_index.core.agent import ReActAgent"
      ],
      "metadata": {
        "id": "EeBqUjBBJ-TJ"
      },
      "execution_count": 2,
      "outputs": []
    },
    {
      "cell_type": "code",
      "source": [
        "## OpenAI API 키 설정\n",
        "os.environ[\"OPENAI_API_KEY\"] = \"여러분의 키 값\"\n",
        "\n",
        "## 실습 데이터 다운로드\n",
        "urls = [\n",
        "    \"https://raw.githubusercontent.com/AgnetHub/LlamaIndex_Code/main/ch06/data/autonomous_car_technology.pdf\",\n",
        "    \"https://raw.githubusercontent.com/AgnetHub/LlamaIndex_Code/main/ch06/data/ict_market_trends_autonomous_driving_2024.pdf\"\n",
        "]"
      ],
      "metadata": {
        "id": "9DXcRRyIL21a"
      },
      "execution_count": 3,
      "outputs": []
    },
    {
      "cell_type": "code",
      "source": [
        "# 각 파일 다운로드\n",
        "for url in urls:\n",
        "    filename = url.split(\"/\")[-1]  # URL에서 파일명 추출\n",
        "    response = requests.get(url)\n",
        "\n",
        "    with open(filename, \"wb\") as f:\n",
        "        f.write(response.content)\n",
        "    print(f\"{filename} 다운로드 완료\")"
      ],
      "metadata": {
        "colab": {
          "base_uri": "https://localhost:8080/"
        },
        "id": "p3-VgLcJL8DX",
        "outputId": "a2185a7e-07a3-439f-bd57-d4b4e44c37e0"
      },
      "execution_count": 4,
      "outputs": [
        {
          "output_type": "stream",
          "name": "stdout",
          "text": [
            "autonomous_car_technology.pdf 다운로드 완료\n",
            "ict_market_trends_autonomous_driving_2024.pdf 다운로드 완료\n"
          ]
        }
      ]
    },
    {
      "cell_type": "code",
      "source": [
        "## 라마인덱스 Settings 설정\n",
        "# LLM, 임베딩 모델, 노드 파서를 포함하는 전역 설정\n",
        "Settings.llm = OpenAI(model=\"gpt-4o-2024-08-06\", temperature=0)\n",
        "Settings.embed_model = OpenAIEmbedding()\n",
        "Settings.node_parser = SentenceSplitter(chunk_size=512, chunk_overlap=0)"
      ],
      "metadata": {
        "id": "1jx-Z2nrMAIi"
      },
      "execution_count": 5,
      "outputs": []
    },
    {
      "cell_type": "code",
      "source": [
        "def create_pdf_retriever(pdf_path, persist_directory, similarity_top_k=5):\n",
        "    \"\"\"\n",
        "    PDF 파일을 벡터 데이터베이스로 변환하고 검색 엔진을 반환하는 함수\n",
        "\n",
        "    Args:\n",
        "        pdf_path (str): PDF 파일 경로\n",
        "        persist_directory (str): 벡터 저장소 경로\n",
        "        similarity_top_k (int): 검색 시 반환할 상위 결과 개수\n",
        "\n",
        "    Returns:\n",
        "        query_engine: 검색 엔진 객체\n",
        "    \"\"\"\n",
        "    # PDF 파일 로드\n",
        "    documents = SimpleDirectoryReader(input_files=[pdf_path]).load_data()\n",
        "    print(f\"{pdf_path}에서 로드된 총 문서 수: {len(documents)}\")\n",
        "\n",
        "    # 벡터 인덱스 생성\n",
        "    index = VectorStoreIndex.from_documents(documents, embed_model=Settings.embed_model)\n",
        "    print(f\"{pdf_path} 인덱스에 있는 노드 수: {len(index.docstore.docs)}\")\n",
        "\n",
        "    # 필요시 인덱스를 디스크에 저장\n",
        "    index.storage_context.persist(persist_dir=persist_directory)\n",
        "\n",
        "    # 검색 엔진 생성 - 심플하게 similarity_top_k만 설정\n",
        "    engine = index.as_query_engine(similarity_top_k=similarity_top_k)\n",
        "\n",
        "    return engine"
      ],
      "metadata": {
        "id": "vJEKGacRMTmo"
      },
      "execution_count": 6,
      "outputs": []
    },
    {
      "cell_type": "code",
      "source": [
        "# 미국 ICT 정책 데이터베이스 생성\n",
        "retriever_autonomous_car_technology = create_pdf_retriever(\n",
        "    pdf_path=\"autonomous_car_technology.pdf\",\n",
        "    similarity_top_k=5,\n",
        "    persist_directory=\"db_autonomous_car_technology\"\n",
        ")"
      ],
      "metadata": {
        "colab": {
          "base_uri": "https://localhost:8080/"
        },
        "id": "UpWB6w3MH4_z",
        "outputId": "b42c03b1-c3a4-4b9d-9ccf-884dda58677d"
      },
      "execution_count": 7,
      "outputs": [
        {
          "output_type": "stream",
          "name": "stdout",
          "text": [
            "autonomous_car_technology.pdf에서 로드된 총 문서 수: 7\n",
            "autonomous_car_technology.pdf 인덱스에 있는 노드 수: 34\n"
          ]
        }
      ]
    },
    {
      "cell_type": "code",
      "source": [
        "# 일본 ICT 정책 데이터베이스 생성\n",
        "retriever_ict_market_autonomous_car = create_pdf_retriever(\n",
        "    pdf_path=\"ict_market_trends_autonomous_driving_2024.pdf\",\n",
        "    similarity_top_k=5,\n",
        "    persist_directory=\"db_ict_market_trends_autonomous_driving_2024\"\n",
        ")"
      ],
      "metadata": {
        "colab": {
          "base_uri": "https://localhost:8080/"
        },
        "id": "7B9L734jHqlU",
        "outputId": "11bb8a24-90f9-46da-bb2d-f6f78f17ee00"
      },
      "execution_count": 8,
      "outputs": [
        {
          "output_type": "stream",
          "name": "stdout",
          "text": [
            "ict_market_trends_autonomous_driving_2024.pdf에서 로드된 총 문서 수: 29\n",
            "ict_market_trends_autonomous_driving_2024.pdf 인덱스에 있는 노드 수: 68\n"
          ]
        }
      ]
    },
    {
      "cell_type": "code",
      "source": [
        "# 검색 도구 생성\n",
        "autonomous_car_technology_engine = QueryEngineTool(\n",
        "    query_engine=retriever_autonomous_car_technology,\n",
        "    metadata=ToolMetadata(\n",
        "        name=\"autonomous_car_technology\",\n",
        "        description=\"자율주행차의 기술 정보를 제공합니다. 자율주행차의 기술 관련된 질문은 반드시 이 도구를 사용합니다.\",\n",
        "    ),\n",
        ")\n",
        "\n",
        "ict_market_autonomous_car_engine = QueryEngineTool(\n",
        "    query_engine=retriever_ict_market_autonomous_car,\n",
        "    metadata=ToolMetadata(\n",
        "        name=\"ict_market_autonomous_car\",\n",
        "        description=\"자율주행차의 ICT 시장동향 정보를 제공합니다. 자율주행차의 ICT와 시장 동향과 관련된 질문은 반드시 이 도구를 사용합니다.\",\n",
        "    ),\n",
        ")"
      ],
      "metadata": {
        "id": "yDtEpYtcMWUv"
      },
      "execution_count": 9,
      "outputs": []
    },
    {
      "cell_type": "code",
      "source": [
        "# 도구 리스트 생성\n",
        "tools = [autonomous_car_technology_engine, ict_market_autonomous_car_engine]"
      ],
      "metadata": {
        "id": "i7hS2A3bMXuX"
      },
      "execution_count": 10,
      "outputs": []
    },
    {
      "cell_type": "code",
      "source": [
        "template = \"\"\"\\\n",
        "당신은 질문에 답변하는 것부터 요약 제공, 기타 여러 유형의 분석까지 다양한 작업을 돕기 위해 설계되었습니다.\n",
        "\n",
        "## 도구\n",
        "당신은 다양한 도구에 접근할 수 있습니다. 현재 작업을 완료하기 위해 적절하다고 판단되는 순서로 도구를 사용하는 것은 당신의 책임입니다. 이를 위해 작업을 하위 작업으로 나누고, 각 하위 작업에 다른 도구를 사용할 필요가 있을 수 있습니다.\n",
        "\n",
        "당신은 다음 도구들에 접근할 수 있습니다:\n",
        "{tool_desc}\n",
        "\n",
        "## 출력 형식\n",
        "질문에 답변하기 위해 다음 형식을 사용하십시오.\n",
        "\n",
        "###\n",
        "Thought: I need to use a tool to help me answer the question.\n",
        "Action: 도구 이름 (사용할 도구 중 하나인 {tool_names})\n",
        "Action Input: 도구에 대한 입력을 JSON 형식으로 제공하십시오. 예: {{\\\"input\\\": \\\"hello world\\\", \\\"num_beams\\\": 5}}\n",
        "###\n",
        "\n",
        "항상 'Thought'로 시작하십시오.\n",
        "\n",
        "'Action Input'에서는 올바른 JSON 형식을 사용하십시오. 이렇게 쓰지 마십시오: {{'input': 'hello world', 'num_beams': 5}}.\n",
        "\n",
        "이 형식이 사용되면, 사용자는 다음 형식으로 응답할 것입니다:\n",
        "\n",
        "###\n",
        "Observation: 도구 응답\n",
        "###\n",
        "\n",
        "이 형식을 계속 반복하여 더 이상 도구를 사용하지 않고 질문에 답변할 수 있을 만큼 충분한 정보를 얻을 때까지 진행하십시오.\n",
        "그 시점에서는 반드시 다음 두 가지 형식 중 하나로 응답해야 합니다:\n",
        "\n",
        "###\n",
        "Thought: I can answer without using any more tools.\n",
        "Answer: [여기에 답변을 작성하세요]\n",
        "###\n",
        "\n",
        "###\n",
        "Thought: I cannot answer the question with the provided tools.\n",
        "Answer: 죄송합니다. 해당 질문에 답변할 수 없습니다.\n",
        "###\n",
        "\n",
        "## 추가 규칙\n",
        "- 답변은 반드시 질문에 도달하기까지의 과정을 설명하는 순차적인 항목들로 구성되어야 합니다. 여기에는 이전 대화의 내용이 포함될 수 있습니다.\n",
        "- 각 도구의 함수 서명을 반드시 준수해야 하며, 함수가 인수를 기대할 경우 인수를 생략하지 마십시오.\n",
        "- 답변은 반드시 '한글'로 상세하게 작성되어야 합니다.\n",
        "- 질문에 대한 답변만 작성하세요. 질문과 관계없는 검색을 수행하지 마십시오. 이는 매우 중요합니다.\n",
        "- Please follow the thought-action-input format.\n",
        "- 하나의 질문에 많은 검색어가 포함되어져 있는 것처럼 보인다면 검색어를 나누어서 순차적으로 검색하십시오. 더 좋은 답변을 얻을 수 있을 것입니다.\n",
        "- 도구를 사용하여 답변할 수 있는 주제라면 반드시 도구를 사용하시기 바랍니다. 이는 매우 중요합니다.\n",
        "- 당신이 도구없이 답변하는 것은 도구의 주제와 완전히 다른 주제의 질문이 들어왔을 때 뿐입니다. 도구와 연관된 질문이라면 반드시 도구를 호출하십시오. 이는 매우 중요하며 당신이 지켜야 할 1순위의 우선사항입니다.\n",
        "\n",
        "## 현재 대화\n",
        "아래는 인간과 어시스턴트 메시지가 교차되어 있는 현재 대화 내용입니다.\n",
        "\n",
        "\"\"\""
      ],
      "metadata": {
        "id": "njUjkKdVS9ku"
      },
      "execution_count": 11,
      "outputs": []
    },
    {
      "cell_type": "code",
      "source": [
        "## 5.2.4 에이전트 객체 생성\n",
        "# ReAct 에이전트 생성\n",
        "react_agent = ReActAgent.from_tools(\n",
        "    tools=tools,\n",
        "    verbose=True\n",
        ")"
      ],
      "metadata": {
        "id": "OqFvCQyWS-6H",
        "colab": {
          "base_uri": "https://localhost:8080/"
        },
        "outputId": "1e707189-f0cb-4082-8bcd-e2b8ad77f5af"
      },
      "execution_count": 12,
      "outputs": [
        {
          "output_type": "stream",
          "name": "stderr",
          "text": [
            "/usr/local/lib/python3.12/dist-packages/llama_index/core/agent/react/base.py:154: DeprecationWarning: Call to deprecated class ReActAgent. (ReActAgent has been rewritten and replaced by llama_index.core.agent.workflow.ReActAgent.\n",
            "\n",
            "This implementation will be removed in a v0.13.0 and the new implementation will be promoted to the `from llama_index.core.agent import ReActAgent` path.\n",
            "\n",
            "See the docs for more information: https://docs.llamaindex.ai/en/stable/understanding/agent/)\n",
            "  return cls(\n",
            "/usr/local/lib/python3.12/dist-packages/deprecated/classic.py:184: DeprecationWarning: Call to deprecated class AgentRunner. (AgentRunner has been deprecated and is not maintained.\n",
            "\n",
            "This implementation will be removed in a v0.13.0.\n",
            "\n",
            "See the docs for more information on updated agent usage: https://docs.llamaindex.ai/en/stable/understanding/agent/)\n",
            "  return old_new1(cls, *args, **kwargs)\n"
          ]
        }
      ]
    },
    {
      "cell_type": "code",
      "source": [
        "react_system_prompt = PromptTemplate(template)\n",
        "react_agent.update_prompts({\"agent_worker:system_prompt\": react_system_prompt})\n",
        "react_agent.reset()"
      ],
      "metadata": {
        "id": "C73q0NbZahwN"
      },
      "execution_count": 13,
      "outputs": []
    },
    {
      "cell_type": "code",
      "source": [
        "result1 = react_agent.query(\"한국에서의 자율주행차의 시장 동향이 궁금해\")\n",
        "print(\"최종 답변:\", result1.response)\n",
        "print(\"\\n\" + \"=\"*50 + \"\\n\")"
      ],
      "metadata": {
        "colab": {
          "base_uri": "https://localhost:8080/"
        },
        "id": "KarkmuPrTDq1",
        "outputId": "4402f0e6-e986-4cce-bc7b-c33a2f726f7e"
      },
      "execution_count": 14,
      "outputs": [
        {
          "output_type": "stream",
          "name": "stdout",
          "text": [
            "> Running step a57e6d99-75a0-4b71-9194-8d9624de785c. Step input: 한국에서의 자율주행차의 시장 동향이 궁금해\n",
            "\u001b[1;3;38;5;200mThought: ###\n",
            "Thought: I need to use a tool to help me answer the question about the market trends of autonomous cars in South Korea.\n",
            "Action: ict_market_autonomous_car\n",
            "Action Input: {'input': '한국에서의 자율주행차 시장 동향'}\n",
            "\u001b[0m\u001b[1;3;34mObservation: 한국의 자율주행차 시장은 2022년부터 2026년까지 꾸준한 성장을 보일 것으로 예상됩니다. 2022년 시장 규모는 0.3십억 달러였으며, 2026년에는 0.74십억 달러에 이를 것으로 보입니다. 이러한 성장세는 자율주행차 기술의 발전과 관련 인프라의 확충에 따른 것으로 보입니다.\n",
            "\u001b[0m> Running step 787f7a84-5544-4dd4-8782-9b255b7ae3bb. Step input: None\n",
            "\u001b[1;3;38;5;200mThought: I can answer without using any more tools.\n",
            "Answer: 한국의 자율주행차 시장은 2022년부터 2026년까지 꾸준한 성장을 보일 것으로 예상됩니다. 2022년 시장 규모는 0.3십억 달러였으며, 2026년에는 0.74십억 달러에 이를 것으로 보입니다. 이러한 성장세는 자율주행차 기술의 발전과 관련 인프라의 확충에 따른 것으로 보입니다.\n",
            "\u001b[0m최종 답변: 한국의 자율주행차 시장은 2022년부터 2026년까지 꾸준한 성장을 보일 것으로 예상됩니다. 2022년 시장 규모는 0.3십억 달러였으며, 2026년에는 0.74십억 달러에 이를 것으로 보입니다. 이러한 성장세는 자율주행차 기술의 발전과 관련 인프라의 확충에 따른 것으로 보입니다.\n",
            "\n",
            "==================================================\n",
            "\n"
          ]
        }
      ]
    },
    {
      "cell_type": "code",
      "source": [
        "print(\"한국에서의 자율주행차의 시장 동향은 어떤지, 그리고 요즘 자율주행차에서 핫한 기술에는 뭐가 있는지 궁금해\")\n",
        "result2 = react_agent.query(\"한국에서의 자율주행차의 시장 동향은 어떤지, 그리고 요즘 자율주행차에서 핫한 기술에는 뭐가 있는지 궁금해\")\n",
        "print(\"최종 답변:\", result2.response)\n",
        "print(\"\\n\" + \"=\"*50 + \"\\n\")"
      ],
      "metadata": {
        "colab": {
          "base_uri": "https://localhost:8080/"
        },
        "id": "vAh4-tl_TCNE",
        "outputId": "755031da-2fb6-4e17-dba3-ef7c72cc2206"
      },
      "execution_count": 15,
      "outputs": [
        {
          "output_type": "stream",
          "name": "stdout",
          "text": [
            "한국에서의 자율주행차의 시장 동향은 어떤지, 그리고 요즘 자율주행차에서 핫한 기술에는 뭐가 있는지 궁금해\n",
            "> Running step 17bfbeb2-8d6d-4b5f-b51a-1b8190a0b408. Step input: 한국에서의 자율주행차의 시장 동향은 어떤지, 그리고 요즘 자율주행차에서 핫한 기술에는 뭐가 있는지 궁금해\n",
            "\u001b[1;3;38;5;200mThought: I need to use a tool to help me answer the question about the market trends and technologies in autonomous cars in Korea.\n",
            "Action: ict_market_autonomous_car\n",
            "Action Input: {'input': '한국에서의 자율주행차 시장 동향'}\n",
            "\u001b[0m\u001b[1;3;34mObservation: 한국의 자율주행차 시장은 2022년부터 2026년까지 꾸준한 성장을 보이고 있습니다. 2022년 시장 규모는 0.3십억 달러였으며, 2026년에는 0.74십억 달러에 이를 것으로 예상됩니다. 이러한 성장세는 자율주행차 기술의 발전과 관련 인프라의 확충에 따른 것으로 보입니다.\n",
            "\u001b[0m> Running step 67790d87-a5cf-44f7-981b-bf51a90c5ebe. Step input: None\n",
            "\u001b[1;3;38;5;200mThought: I also need to find out about the latest hot technologies in autonomous cars.\n",
            "Action: autonomous_car_technology\n",
            "Action Input: {'input': '요즘 자율주행차에서 핫한 기술'}\n",
            "\u001b[0m\u001b[1;3;34mObservation: 최근 자율주행차에서 주목받고 있는 기술로는 자율운전, 운전자 지원, 텔레매틱스 분야가 있습니다. 특히 자율운전 기술에 많은 특허가 집중되고 있으며, 이 분야에서 일본 기업들이 강세를 보이고 있습니다. 또한, 자율주행차의 핵심기술은 스마트카의 발전과 함께 자동차 산업에 큰 영향을 미칠 것으로 예상됩니다.\n",
            "\u001b[0m> Running step 77241fc9-a25d-44b3-aece-b556cfb8f111. Step input: None\n",
            "\u001b[1;3;38;5;200mThought: I can answer without using any more tools.\n",
            "Answer: 한국의 자율주행차 시장은 2022년부터 2026년까지 꾸준히 성장하고 있으며, 2022년 시장 규모는 0.3십억 달러에서 2026년에는 0.74십억 달러에 이를 것으로 예상됩니다. 이러한 성장은 자율주행차 기술의 발전과 관련 인프라의 확충에 기인합니다.\n",
            "\n",
            "최근 자율주행차에서 주목받고 있는 기술로는 자율운전, 운전자 지원, 텔레매틱스 분야가 있습니다. 특히 자율운전 기술에 많은 특허가 집중되고 있으며, 이 분야에서 일본 기업들이 강세를 보이고 있습니다. 자율주행차의 핵심기술은 스마트카의 발전과 함께 자동차 산업에 큰 영향을 미칠 것으로 예상됩니다.\n",
            "\u001b[0m최종 답변: 한국의 자율주행차 시장은 2022년부터 2026년까지 꾸준히 성장하고 있으며, 2022년 시장 규모는 0.3십억 달러에서 2026년에는 0.74십억 달러에 이를 것으로 예상됩니다. 이러한 성장은 자율주행차 기술의 발전과 관련 인프라의 확충에 기인합니다.\n",
            "\n",
            "최근 자율주행차에서 주목받고 있는 기술로는 자율운전, 운전자 지원, 텔레매틱스 분야가 있습니다. 특히 자율운전 기술에 많은 특허가 집중되고 있으며, 이 분야에서 일본 기업들이 강세를 보이고 있습니다. 자율주행차의 핵심기술은 스마트카의 발전과 함께 자동차 산업에 큰 영향을 미칠 것으로 예상됩니다.\n",
            "\n",
            "==================================================\n",
            "\n"
          ]
        }
      ]
    },
    {
      "cell_type": "code",
      "source": [
        "# ReACT 에이전트 실행 출력을 캡처\n",
        "import io\n",
        "import sys\n",
        "import gradio as gr\n",
        "from contextlib import redirect_stdout"
      ],
      "metadata": {
        "id": "PVgcIKM1k98a"
      },
      "execution_count": 16,
      "outputs": []
    },
    {
      "cell_type": "code",
      "source": [
        "# 멀티턴 대화를 위한 챗봇 인터페이스 구현\n",
        "class ChatbotWithMemory:\n",
        "    def __init__(self, react_agent):\n",
        "        \"\"\"\n",
        "        멀티턴 대화 기능을 갖춘 챗봇 초기화\n",
        "\n",
        "        Args:\n",
        "            react_agent: 초기화된 ReACT 에이전트\n",
        "        \"\"\"\n",
        "        self.react_agent = react_agent\n",
        "        # 대화 기록을 저장하기 위한 변수\n",
        "        self.chat_history = []\n",
        "        # 에이전트 출력을 캡처하기 위한 설정\n",
        "        self.verbose_capture = True\n",
        "\n",
        "    def reset(self):\n",
        "        \"\"\"대화 기록과 에이전트 상태 초기화\"\"\"\n",
        "        self.chat_history = []\n",
        "        # 에이전트 상태 초기화\n",
        "        self.react_agent.reset()\n",
        "        return [], \"\"\n",
        "\n",
        "    def chat(self, message, history):\n",
        "        \"\"\"\n",
        "        사용자 메시지에 응답하고 대화 기록 업데이트\n",
        "\n",
        "        Args:\n",
        "            message: 사용자의 현재 입력 메시지\n",
        "            history: 그라디오가 관리하는 대화 기록\n",
        "\n",
        "        Returns:\n",
        "            튜플: (업데이트된 대화 기록, 대화 기록, 로그)\n",
        "        \"\"\"\n",
        "        if message.strip() == \"\":\n",
        "            return history, history, \"\"\n",
        "\n",
        "        # 이전 대화 맥락을 고려한 프롬프트 생성\n",
        "        context = self._build_context()\n",
        "\n",
        "        # 사용자 메시지와 컨텍스트를 합쳐 쿼리 생성\n",
        "        query = message\n",
        "        if context:\n",
        "            query = f\"{context}\\n\\n현재 질문: {message}\"\n",
        "\n",
        "        # 출력 캡처 시작\n",
        "        f = io.StringIO()\n",
        "        with redirect_stdout(f):\n",
        "            # 에이전트에 쿼리 전송 (verbose=True로 설정되어 있음)\n",
        "            response = self.react_agent.query(query)\n",
        "\n",
        "        # 캡처된 출력 가져오기\n",
        "        execution_log = f.getvalue()\n",
        "\n",
        "        # 대화 기록에 추가\n",
        "        self.chat_history.append({\"role\": \"user\", \"content\": message})\n",
        "        self.chat_history.append({\"role\": \"assistant\", \"content\": response.response})\n",
        "\n",
        "        # 그라디오 대화 기록 업데이트\n",
        "        history.append((message, response.response))\n",
        "\n",
        "        # 로그 정보 포함\n",
        "        log_info = f\"에이전트에 전달된 쿼리:\\n{query}\\n\\n실행 로그:\\n{execution_log}\"\n",
        "\n",
        "        return history, history, log_info\n",
        "\n",
        "    def _build_context(self):\n",
        "        \"\"\"이전 대화 기록을 바탕으로 컨텍스트 생성\"\"\"\n",
        "        if not self.chat_history:\n",
        "            return \"\"\n",
        "\n",
        "        # 최대 3개의 이전 대화 턴을 컨텍스트로 사용\n",
        "        recent_turns = self.chat_history[-6:] if len(self.chat_history) > 6 else self.chat_history\n",
        "        context_parts = []\n",
        "\n",
        "        for i in range(0, len(recent_turns), 2):\n",
        "            if i+1 < len(recent_turns):\n",
        "                user_msg = recent_turns[i][\"content\"]\n",
        "                assistant_msg = recent_turns[i+1][\"content\"]\n",
        "                context_parts.append(f\"사용자: {user_msg}\\n에이전트: {assistant_msg}\")\n",
        "\n",
        "        if context_parts:\n",
        "            return \"이전 대화 내용:\\n\" + \"\\n\\n\".join(context_parts)\n",
        "        return \"\""
      ],
      "metadata": {
        "id": "I9ocDaqvDjip"
      },
      "execution_count": 17,
      "outputs": []
    },
    {
      "cell_type": "code",
      "source": [
        "# 그라디오 인터페이스 구현\n",
        "def create_gradio_interface():\n",
        "    # 챗봇 객체 생성\n",
        "    chatbot = ChatbotWithMemory(react_agent)\n",
        "\n",
        "    # 그라디오 인터페이스 구성\n",
        "    with gr.Blocks(title=\"자율주행차 ReACT 에이전트\", theme=gr.themes.Soft()) as demo:\n",
        "        gr.Markdown(\"# 자율주행차 정보 검색 AI 비서\")\n",
        "        gr.Markdown(\"자율주행차의 기술과 시장 동향에 관한 질문을 해보세요. 멀티턴 대화가 가능합니다.\")\n",
        "\n",
        "        with gr.Row():\n",
        "            with gr.Column(scale=7):\n",
        "                chatbot_interface = gr.Chatbot(\n",
        "                    height=500,\n",
        "                    show_label=False,\n",
        "                )\n",
        "\n",
        "                with gr.Row():\n",
        "                    msg_input = gr.Textbox(\n",
        "                        placeholder=\"질문을 입력하세요...\",\n",
        "                        label=\"메시지\",\n",
        "                        scale=8\n",
        "                    )\n",
        "                    submit_btn = gr.Button(\"전송\", scale=1)\n",
        "                    clear_btn = gr.Button(\"초기화\", scale=1)\n",
        "\n",
        "            # 오른쪽에 실행 로그 표시 영역 추가\n",
        "            with gr.Column(scale=3):\n",
        "                gr.Markdown(\"### 에이전트 실행 로그\")\n",
        "                log_output = gr.Textbox(\n",
        "                    label=\"실행 로그\",\n",
        "                    lines=25,\n",
        "                    max_lines=25,\n",
        "                    interactive=False\n",
        "                )\n",
        "\n",
        "        # 이벤트 핸들러 등록\n",
        "        submit_btn.click(\n",
        "            fn=chatbot.chat,\n",
        "            inputs=[msg_input, chatbot_interface],\n",
        "            outputs=[chatbot_interface, chatbot_interface, log_output],\n",
        "        ).then(\n",
        "            fn=lambda: \"\",\n",
        "            outputs=msg_input,\n",
        "        )\n",
        "\n",
        "        msg_input.submit(\n",
        "            fn=chatbot.chat,\n",
        "            inputs=[msg_input, chatbot_interface],\n",
        "            outputs=[chatbot_interface, chatbot_interface, log_output],\n",
        "        ).then(\n",
        "            fn=lambda: \"\",\n",
        "            outputs=msg_input,\n",
        "        )\n",
        "\n",
        "        clear_btn.click(\n",
        "            fn=chatbot.reset,\n",
        "            outputs=[chatbot_interface, log_output],\n",
        "        )\n",
        "\n",
        "    return demo\n",
        "\n",
        "# 그라디오 앱 생성 (실행은 아래에서 별도로)\n",
        "demo = create_gradio_interface()\n",
        "\n",
        "# 그라디오 앱 실행\n",
        "demo.launch(share=True)  # 필요시 주석 해제"
      ],
      "metadata": {
        "colab": {
          "base_uri": "https://localhost:8080/",
          "height": 649
        },
        "id": "x1SooMBCF0yu",
        "outputId": "915eddd1-9037-4327-fa9b-0a2bdb429c6d"
      },
      "execution_count": 18,
      "outputs": [
        {
          "output_type": "stream",
          "name": "stderr",
          "text": [
            "/tmp/ipython-input-324648665.py:13: UserWarning: You have not specified a value for the `type` parameter. Defaulting to the 'tuples' format for chatbot messages, but this is deprecated and will be removed in a future version of Gradio. Please set type='messages' instead, which uses openai-style dictionaries with 'role' and 'content' keys.\n",
            "  chatbot_interface = gr.Chatbot(\n"
          ]
        },
        {
          "output_type": "stream",
          "name": "stdout",
          "text": [
            "Colab notebook detected. To show errors in colab notebook, set debug=True in launch()\n",
            "* Running on public URL: https://b687cf5422ca828361.gradio.live\n",
            "\n",
            "This share link expires in 1 week. For free permanent hosting and GPU upgrades, run `gradio deploy` from the terminal in the working directory to deploy to Hugging Face Spaces (https://huggingface.co/spaces)\n"
          ]
        },
        {
          "output_type": "display_data",
          "data": {
            "text/plain": [
              "<IPython.core.display.HTML object>"
            ],
            "text/html": [
              "<div><iframe src=\"https://b687cf5422ca828361.gradio.live\" width=\"100%\" height=\"500\" allow=\"autoplay; camera; microphone; clipboard-read; clipboard-write;\" frameborder=\"0\" allowfullscreen></iframe></div>"
            ]
          },
          "metadata": {}
        },
        {
          "output_type": "execute_result",
          "data": {
            "text/plain": []
          },
          "metadata": {},
          "execution_count": 18
        }
      ]
    }
  ]
}